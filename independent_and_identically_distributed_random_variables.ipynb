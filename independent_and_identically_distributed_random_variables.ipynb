{
 "cells": [
  {
   "cell_type": "markdown",
   "id": "6f7b8d13",
   "metadata": {},
   "source": [
    "# Independent and Identically Distributed (IID) random variables (RV)\n",
    "\n",
    "In this notebook I will explore the concept of independent and identically distributed random variables in statistics, one assumption used frequently. I will work with the concepts by parts, first understanding what is a variable, then a random variable (RV), then what it means for two RV two be identically distributed, independent and finally, the combination of all these concepts."
   ]
  },
  {
   "cell_type": "markdown",
   "id": "fd1a51ba",
   "metadata": {
    "vscode": {
     "languageId": "markdown"
    }
   },
   "source": [
    "## 1. **What is a variable in statistics?**  \n",
    "A variable in statistics is a characteristic or property that can take on different values. It represents data that can vary across observations or experiments. For example, height, weight, and age are variables.\n",
    "\n",
    "Mathematically, a variable is denoted by a symbol, such as $X$, which can take on values from a set $\\{x_1, x_2, \\dots, x_n\\}$.\n",
    "\n",
    "Variables can be of many times and can be classified according to different criteria. For our purposes, variables can be deterministic, random or anything in between.\n",
    "\n",
    "### 1.1 **What is a deterministic variable in statistics?**\n",
    "\n",
    "A deterministic variable is a variable that has a fixed value or outcome that does not change under the same conditions. Unlike random variables, deterministic variables are not influenced by chance or randomness. Their values are predictable and constant.\n",
    "\n",
    "#### 1.2 **Differences between deterministic and random variables:**\n",
    "1. **Predictability:**\n",
    "    - Deterministic variables have predictable and fixed values.\n",
    "    - Random variables have values that are determined by random phenomena and are not predictable.\n",
    "\n",
    "2. **Dependence on randomness:**\n",
    "    - Deterministic variables are not influenced by randomness.\n",
    "    - Random variables are inherently influenced by randomness.\n",
    "\n",
    "3. **Examples:**\n",
    "    - Deterministic variable: Number of sides on a die (always 6).\n",
    "    - Random variable: Outcome of rolling a die (varies between 1 and 6).\n",
    "\n",
    "#### 1.3 **Similarities between deterministic and random variables:**\n",
    "1. **Representation:**\n",
    "    - Both deterministic and random variables can be represented mathematically.\n",
    "    - For example, a deterministic variable can be represented as a constant, while a random variable is represented as a function mapping outcomes to values.\n",
    "\n",
    "2. **Use in models:**\n",
    "    - Both types of variables are used in statistical and mathematical models to describe phenomena."
   ]
  },
  {
   "cell_type": "markdown",
   "id": "ae0235e3",
   "metadata": {
    "vscode": {
     "languageId": "plaintext"
    }
   },
   "source": [
    "## 2. **What is a random variable?**  \n",
    "A random variable is a variable whose values are determined by the outcomes of a random phenomenon. It assigns a numerical value to each outcome in a sample space of a random experiment.\n",
    "\n",
    "Mathematically, a random variable $X$ is a function: $X: \\Omega \\to \\mathbb{R}$\n",
    "where $\\Omega$ is the sample space, and $\\mathbb{R}$ is the set of real numbers.\n",
    "\n",
    "Here are some examples of variables, some of which are deterministic and other random:\n",
    "\n",
    "Basic Examples:\n",
    "- Height of a person: Random variable (varies across individuals)\n",
    "- Number of sides on a die: Deterministic variable (always 6)\n",
    "- Age of a person: Random variable (varies across individuals)\n",
    "- Temperature in a room: Random variable (varies over time and location)\n",
    "\n",
    "Real-World Complex Examples:\n",
    "- Stock prices of a company: Random variable (fluctuates due to market conditions)\n",
    "- Population of a city over time: Random variable (changes due to births, deaths, migration)\n",
    "- Speed of a car on a highway: Random variable (varies depending on traffic and driver behavior)\n",
    "- Gravitational constant (G): Deterministic variable (fixed value in physics)"
   ]
  },
  {
   "cell_type": "markdown",
   "id": "8fbc11ee",
   "metadata": {
    "vscode": {
     "languageId": "markdown"
    }
   },
   "source": [
    "#### 2.1 **Are a random variable and its probability distribution equivalent mathematical objects?**\n",
    "\n",
    "No, a random variable and its probability distribution are not equivalent mathematical objects. While they are closely related, they represent different concepts in probability and statistics.\n",
    "\n",
    "##### **Definitions:**\n",
    "1. **Random Variable (RV):**\n",
    "    - A random variable is a function that maps outcomes of a random experiment to numerical values.\n",
    "    - Mathematically, a random variable $X$ is defined as $X: \\Omega \\to \\mathbb{R}$, where $\\Omega$ is the sample space.\n",
    "\n",
    "2. **Probability Distribution:**\n",
    "    - A probability distribution describes how the probabilities are assigned to the possible values of a random variable.\n",
    "    - It can be represented by a probability mass function (PMF) for discrete random variables or a probability density function (PDF) for continuous random variables.\n",
    "\n",
    "##### **Similarities:**\n",
    "1. **Relationship:**\n",
    "    - A random variable and its probability distribution are closely related because the distribution describes the behavior of the random variable.\n",
    "    - The probability distribution is derived from the random variable.\n",
    "\n",
    "2. **Use in Modeling:**\n",
    "    - Both are used to model and analyze random phenomena.\n",
    "\n",
    "##### **Differences:**\n",
    "1. **Nature:**\n",
    "    - A random variable is a function that assigns numerical values to outcomes.\n",
    "    - A probability distribution is a mathematical description of the likelihood of those values.\n",
    "\n",
    "2. **Representation:**\n",
    "    - A random variable is represented as a mapping function.\n",
    "    - A probability distribution is represented as a PMF, PDF, or cumulative distribution function (CDF).\n",
    "\n",
    "3. **Focus:**\n",
    "    - A random variable focuses on the mapping of outcomes.\n",
    "    - A probability distribution focuses on the probabilities of the values.\n",
    "\n",
    "##### **Examples:**\n",
    "1. **Discrete Random Variable:**\n",
    "    - Random Variable: Let $X$ represent the outcome of rolling a six-sided die.\n",
    "    - Probability Distribution: $P(X=k) = \\frac{1}{6}$ for $k \\in \\{1, 2, 3, 4, 5, 6\\}$.\n",
    "\n",
    "2. **Continuous Random Variable:**\n",
    "    - Random Variable: Let $Y$ represent the height of a person in a population.\n",
    "    - Probability Distribution: $f_Y(y) = \\frac{1}{\\sqrt{2\\pi\\sigma^2}} e^{-\\frac{(y-\\mu)^2}{2\\sigma^2}}$, where $\\mu$ is the mean and $\\sigma^2$ is the variance.\n",
    "\n",
    "In summary, a random variable and its probability distribution are different but interconnected concepts. The random variable maps outcomes to values, while the probability distribution describes the likelihood of those values."
   ]
  },
  {
   "cell_type": "markdown",
   "id": "a0931226",
   "metadata": {
    "vscode": {
     "languageId": "plaintext"
    }
   },
   "source": [
    "## 3. **What does it mean for two random variables to be identically distributed?**  \n",
    "Two random variables are identically distributed if they have the same probability distribution. This means their probability density functions (PDFs) or cumulative distribution functions (CDFs) are identical.\n",
    "\n",
    "Mathematically, for two random variables $X$ and $Y$, they are identically distributed if:\n",
    "$F_X(x) = F_Y(x), \\quad \\forall x \\in \\mathbb{R}$\n",
    "where $F_X(x)$ and $F_Y(x)$ are the CDFs of $X$ and $Y$, respectively.\n",
    "\n",
    "### 3.1 **Questions about identically distributed random variables**\n",
    "#### **Are two random variables identically distributed if they both come from normal distributions but have different means or variances?**\n",
    "No, two random variables are not identically distributed if they have different means or variances, even if both come from normal distributions. Identical distribution requires the same probability distribution, including identical parameters (mean and variance for normal distributions).\n",
    "\n",
    "#### **Are two random variables identically distributed if they come from different probability distributions such as a normal and a lognormal distribution but have the same mean and standard deviation?**\n",
    "No, two random variables are not identically distributed if they come from different probability distributions, even if they have the same mean and standard deviation. Identical distribution requires the same type of distribution, not just matching moments like mean and standard deviation.\n",
    "\n",
    "#### **Are two identically distributed random variables the same?**\n",
    "\n",
    "No, two identically distributed random variables are not necessarily the same random variable. Identical distribution means that the two random variables have the same probability distribution, but they can still represent different random phenomena or outcomes. The key difference lies in their independence and the context in which they are defined.\n",
    "\n",
    "##### **Why not?**\n",
    "1. **Different sample spaces:** Two random variables can have the same distribution but be defined on different sample spaces or represent different experiments.\n",
    "2. **Independence:** Identically distributed random variables can be independent of each other, meaning the value of one does not affect the value of the other.\n",
    "3. **Representation of different phenomena:** Even with the same distribution, the random variables can represent different real-world phenomena.\n",
    "\n",
    "##### **Examples:**\n",
    "\n",
    "1. **Example 1 (Coin Tosses):**\n",
    "    - **Words:** Let $X$ and $Y$ represent the outcomes of two independent coin tosses, where $X = 1$ for heads and $X = 0$ for tails, and similarly for $Y$. Both $X$ and $Y$ are identically distributed as Bernoulli random variables with $P(X=1) = P(Y=1) = 0.5$, but they are not the same random variable because they represent different coin tosses.\n",
    "    - **Mathematics:** $P(X=1) = P(Y=1) = 0.5$, but $P(X \\neq Y) > 0$.\n",
    "\n",
    "2. **Example 2 (Dice Rolls):**\n",
    "    - **Words:** Let $X$ and $Y$ represent the outcomes of rolling two independent six-sided dice. Both $X$ and $Y$ are identically distributed as discrete uniform random variables over $\\{1, 2, 3, 4, 5, 6\\}$, but they are not the same random variable because they represent different dice rolls.\n",
    "    - **Mathematics:** $P(X=k) = P(Y=k) = \\frac{1}{6}$ for $k \\in \\{1, 2, 3, 4, 5, 6\\}$, but $P(X \\neq Y) > 0$.\n",
    "\n",
    "3. **Example 3 (Stock Prices):**\n",
    "    - **Words:** Let $X$ and $Y$ represent the daily returns of two different stocks that follow the same normal distribution with mean $\\mu$ and variance $\\sigma^2$. Both $X$ and $Y$ are identically distributed as $N(\\mu, \\sigma^2)$, but they are not the same random variable because they represent returns of different stocks.\n",
    "    - **Mathematics:** $X, Y \\sim N(\\mu, \\sigma^2)$, but $P(X \\neq Y) > 0$.\n",
    "\n",
    "#### **Are two identically distributed random variables the same if knowing one determines the outcome of the other?**\n",
    "Identically distributed random variables can be the same variable if knowing one gives complete information about the other. However, in such cases, the two variables are not independent. Identical distribution only requires that the two variables have the same probability distribution, but it does not impose any condition on independence.\n",
    "\n",
    "1. **Example 1 (Coin Toss)**:\n",
    "    - **Words:** Let $X$ and $Y$ represent the outcomes of two coin tosses, where $X = 1$ for heads and $X = 0$ for tails, and $Y = 1 - X$.   Here, knowing $X$ gives complete information about $Y$ (i.e., $Y$ is deterministic given $X$). While $X$ and $Y$ are identically distributed as Bernoulli random variables with $P(X=1) = P(Y=1) = 0.5$, they are not independent.  \n",
    "    - **Mathematics:** $P(X=1, Y=1) = 0, \\quad \\text{which is not equal to } P(X=1) \\cdot P(Y=1) = 0.25.$\n",
    "\n",
    "2. **Example 2 (Dice Rolls):**\n",
    "    - **Words:** Let $X$ represent the outcome of rolling a six-sided die, and let $Y = 7 - X$. Knowing $X$ gives complete information about $Y$ (i.e., $Y$ is deterministic given $X$). While $X$ and $Y$ are identically distributed as discrete uniform random variables over $\\{1, 2, 3, 4, 5, 6\\}$, they are not independent.  \n",
    "    - **Mathematics:** $P(X=1, Y=6) = \\frac{1}{6}, \\quad \\text{which is not equal to } P(X=1) \\cdot P(Y=6) = \\frac{1}{36}.$\n",
    "\n",
    "Identically distributed random variables can be the same variable if knowing one gives complete information about the other. However, in such cases, they are not independent. Identical distribution only requires the same probability distribution, and independence is not a requirement for being identically distributed."
   ]
  },
  {
   "cell_type": "markdown",
   "id": "1702b01c",
   "metadata": {
    "vscode": {
     "languageId": "plaintext"
    }
   },
   "source": [
    "## 4. **What does it mean for two random variables to be independent?**  \n",
    "Two random variables are independent if the occurrence of one does not affect the probability distribution of the other. In other words, the joint probability distribution of the two variables is the product of their individual distributions.\n",
    "\n",
    "Mathematically, $X$ and $Y$ are independent if:\n",
    "$$\n",
    "P(X \\leq x, Y \\leq y) = P(X \\leq x) \\cdot P(Y \\leq y), \\quad \\forall x, y \\in \\mathbb{R}\n",
    "$$"
   ]
  },
  {
   "cell_type": "markdown",
   "id": "6e854c95",
   "metadata": {
    "vscode": {
     "languageId": "markdown"
    }
   },
   "source": [
    "### 4.1 **Examples of independent random variables**\n",
    "#### 4.1.1. **Identically Distributed Independent Random Variables**\n",
    "\n",
    "##### Example 1: Coin Tosses\n",
    "- **Words:** Let $X$ and $Y$ represent the outcomes of two independent coin tosses, where $X = 1$ for heads and $X = 0$ for tails, and similarly for $Y$.\n",
    "- **Mathematics:** $X$ and $Y$ are independent Bernoulli random variables with $P(X=1) = P(Y=1) = 0.5$.\n",
    "\n",
    "##### Example 2: Dice Rolls\n",
    "- **Words:** Let $X$ and $Y$ represent the outcomes of rolling two independent six-sided dice. Both $X$ and $Y$ are identically distributed as discrete uniform random variables over $\\{1, 2, 3, 4, 5, 6\\}$.\n",
    "- **Mathematics:** $P(X=k) = P(Y=k) = \\frac{1}{6}$ for $k \\in \\{1, 2, 3, 4, 5, 6\\}$.\n",
    "\n",
    "#### 4.1.2. **Not Identically Distributed Independent Random Variables**\n",
    "\n",
    "##### Example 1: Coin Toss and Dice Roll\n",
    "- **Words:** Let $X$ represent the outcome of a coin toss ($1$ for heads, $0$ for tails) and $Y$ represent the outcome of rolling a six-sided die.\n",
    "- **Mathematics:** $X$ is a Bernoulli random variable with $P(X=1) = 0.5$, and $Y$ is a discrete uniform random variable with $P(Y=k) = \\frac{1}{6}$ for $k \\in \\{1, 2, 3, 4, 5, 6\\}$.\n",
    "\n",
    "##### Example 2: Stock Prices and Temperature\n",
    "- **Words:** Let $X$ represent the daily return of a stock (modeled as a normal random variable with mean $\\mu$ and variance $\\sigma^2$), and $Y$ represent the daily temperature in a city (modeled as a normal random variable with a different mean and variance).\n",
    "- **Mathematics:** $X \\sim N(\\mu_1, \\sigma_1^2)$, $Y \\sim N(\\mu_2, \\sigma_2^2)$, and $X$ and $Y$ are independent.\n",
    "\n",
    "#### 3. **Real-World Complex Examples**\n",
    "\n",
    "##### Example 1: Population Growth and Stock Prices\n",
    "- **Words:** Let $X$ represent the annual population growth rate of a city (modeled as a random variable with a specific distribution), and $Y$ represent the annual return of a stock (modeled as a normal random variable). These variables are independent but not identically distributed.\n",
    "- **Mathematics:** $X \\sim f_X(x)$, $Y \\sim N(\\mu, \\sigma^2)$, and $X$ and $Y$ are independent.\n",
    "\n",
    "##### Example 2: Speed of Cars on Two Different Highways\n",
    "- **Words:** Let $X$ represent the speed of cars on Highway A (modeled as a normal random variable with mean $\\mu_1$ and variance $\\sigma_1^2$), and $Y$ represent the speed of cars on Highway B (modeled as a normal random variable with mean $\\mu_2$ and variance $\\sigma_2^2$). These variables are independent but not identically distributed.\n",
    "- **Mathematics:** $X \\sim N(\\mu_1, \\sigma_1^2)$, $Y \\sim N(\\mu_2, \\sigma_2^2)$, and $X$ and $Y$ are independent.\n"
   ]
  },
  {
   "cell_type": "markdown",
   "id": "a7620304",
   "metadata": {
    "vscode": {
     "languageId": "markdown"
    }
   },
   "source": [
    "### 4.2 **Examples of dependent random variables**\n",
    "#### 4.2.1. **Identically Distributed Dependent Random Variables**\n",
    "\n",
    "##### Example 1: Coin Tosses with Bias\n",
    "- **Words:** Let $X$ and $Y$ represent the outcomes of two coin tosses, where the second toss is biased based on the outcome of the first toss. For example, if $X = 1$ (heads), then $Y$ has a higher probability of being heads.\n",
    "- **Mathematics:** $X$ and $Y$ are Bernoulli random variables with $P(X=1) = 0.5$ and $P(Y=1|X=1) = 0.7$, $P(Y=1|X=0) = 0.3$. While $X$ and $Y$ are identically distributed, they are not independent.\n",
    "\n",
    "##### Example 2: Dice Rolls with Dependency\n",
    "- **Words:** Let $X$ and $Y$ represent the outcomes of rolling two six-sided dice, where the outcome of the second die depends on the outcome of the first die. For example, if $X = 6$, then $Y$ is more likely to be an even number.\n",
    "- **Mathematics:** $P(X=k) = \\frac{1}{6}$ for $k \\in \\{1, 2, 3, 4, 5, 6\\}$, and $P(Y \\text{ is even}|X=6) = 0.8$, $P(Y \\text{ is even}|X \\neq 6) = 0.5$. $X$ and $Y$ are identically distributed but dependent.\n",
    "\n",
    "#### 4.2.2. **Not Identically Distributed Dependent Random Variables**\n",
    "\n",
    "##### Example 1: Parent and Child Heights\n",
    "- **Words:** Let $X$ represent the height of a parent and $Y$ represent the height of their child. The child's height depends on the parent's height but follows a different distribution due to genetic and environmental factors.\n",
    "- **Mathematics:** $X \\sim N(\\mu_1, \\sigma_1^2)$, $Y|X \\sim N(\\mu_2 + \\rho(X - \\mu_1), \\sigma_2^2)$, where $\\rho$ represents the dependency between $X$ and $Y$.\n",
    "\n",
    "##### Example 2: Stock Prices and Market Index\n",
    "- **Words:** Let $X$ represent the daily return of a specific stock and $Y$ represent the daily return of the overall market index. The stock's return depends on the market index's return but may have a different mean and variance.\n",
    "- **Mathematics:** $X \\sim N(\\mu_1, \\sigma_1^2)$, $Y|X \\sim N(\\mu_2 + \\beta X, \\sigma_2^2)$, where $\\beta$ represents the dependency between $X$ and $Y$.\n",
    "\n",
    "#### 4.2.3. **Real-World Complex Examples**\n",
    "\n",
    "##### Example 1: Temperature and Energy Consumption\n",
    "- **Words:** Let $X$ represent the daily temperature in a city and $Y$ represent the daily energy consumption. Energy consumption depends on temperature (e.g., higher energy use on hotter days due to air conditioning).\n",
    "- **Mathematics:** $X \\sim N(\\mu_1, \\sigma_1^2)$, $Y|X \\sim N(\\mu_2 + \\alpha X, \\sigma_2^2)$, where $\\alpha$ represents the dependency between $X$ and $Y$.\n",
    "\n",
    "##### Example 2: Rainfall and Crop Yield\n",
    "- **Words:** Let $X$ represent the amount of rainfall in a season and $Y$ represent the crop yield. Crop yield depends on rainfall but may also be influenced by other factors.\n",
    "- **Mathematics:** $X \\sim N(\\mu_1, \\sigma_1^2)$, $Y|X \\sim N(\\mu_2 + \\gamma X, \\sigma_2^2)$, where $\\gamma$ represents the dependency between $X$ and $Y$."
   ]
  },
  {
   "cell_type": "markdown",
   "id": "99ab336e",
   "metadata": {},
   "source": [
    "## 5. **What are independent and identically distributed (IID) random variables?**  \n",
    "Independent and identically distributed (IID) random variables are a collection of random variables that are both independent and identically distributed. This means that each random variable has the same probability distribution, and the value of one variable does not influence the others.\n",
    "\n",
    "Mathematically, a sequence of random variables $ X_1, X_2, \\dots, X_n$ is IID if:\n",
    "- $X_i$ and $X_j$ are independent for all $ i \\neq j $,\n",
    "- $ F_{X_1}(x) = F_{X_2}(x) = \\dots = F_{X_n}(x), \\quad \\forall x \\in \\mathbb{R} $."
   ]
  },
  {
   "cell_type": "markdown",
   "id": "ff67e7bc",
   "metadata": {},
   "source": []
  }
 ],
 "metadata": {
  "kernelspec": {
   "display_name": "ElementsOfDataScience",
   "language": "python",
   "name": "python3"
  },
  "language_info": {
   "codemirror_mode": {
    "name": "ipython",
    "version": 3
   },
   "file_extension": ".py",
   "mimetype": "text/x-python",
   "name": "python",
   "nbconvert_exporter": "python",
   "pygments_lexer": "ipython3",
   "version": "3.10.16"
  }
 },
 "nbformat": 4,
 "nbformat_minor": 5
}
