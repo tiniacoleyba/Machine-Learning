{
 "cells": [
  {
   "cell_type": "markdown",
   "id": "7bfc87e7",
   "metadata": {
    "vscode": {
     "languageId": "markdown"
    }
   },
   "source": [
    "# Bernoulli probability distribution\n",
    "The **Bernoulli probability distribution** is a discrete probability distribution for a random variable which takes the value 1 with probability $p$ and the value 0 with probability $1-p$. It models the outcome of a single experiment (trial) that has exactly two possible outcomes: \"success\" (1) and \"failure\" (0).\n",
    "\n",
    "#### Parameters\n",
    "$p$: Probability of success ($0 \\leq p \\leq 1$)\n",
    "\n",
    "#### Support\n",
    "The support of a probability distribution is the set of all possible values that the random variable can take with non-zero probability. For the Bernoulli distribution, the support is $\\{0, 1\\}$, meaning the random variable can only take the values 0 or 1.\n",
    "\n",
    "- **Support** refers to the set of possible values that the random variable can take with non-zero probability (e.g., for Bernoulli, $\\{0, 1\\}$).\n",
    "- **Parameter range** refers to the set of valid values that the distribution's parameters can take (e.g., for Bernoulli, $p \\in [0, 1]$).\n",
    "- The support describes the outcomes of the random process, while the parameter range describes the allowable settings for the distribution's defining parameters.\n",
    "\n",
    "#### Probability Mass Function (PMF)\n",
    "$$\n",
    "P(X = x) = p^x (1-p)^{1-x}, \\quad x \\in \\{0, 1\\}\n",
    "$$\n",
    "\n",
    "Which is equivalent to\n",
    "$$\n",
    "\\operatorname {P} (X=x)={\n",
    "    \\begin{cases}\n",
    "    p \\quad if \\quad x=1 \\\\\n",
    "    1-p \\quad if \\quad x=0\n",
    "    \\end{cases}\n",
    "}\n",
    "$$\n",
    "\n",
    "#### Mean (Expected Value)\n",
    "$$\n",
    "\\mathbb{E}[X] = p\n",
    "$$\n",
    "\n",
    "#### Variance\n",
    "$$\n",
    "\\mathrm{Var}(X) = p(1-p)\n",
    "$$\n",
    "\n",
    "#### Standard Deviation\n",
    "$$\n",
    "\\sigma = \\sqrt{p(1-p)}\n",
    "$$\n",
    "\n",
    "#### Median\n",
    "- If $p < 0.5$, median is $0$\n",
    "- If $p > 0.5$, median is $1$\n",
    "- If $p = 0.5$, both $0$ and $1$ are medians\n",
    "\n",
    "#### Mode\n",
    "- If $p < 0.5$, mode is $0$\n",
    "- If $p > 0.5$, mode is $1$\n",
    "- If $p = 0.5$, both $0$ and $1$ are modes\n",
    "\n",
    "#### Cumulative Distribution Function (CDF)\n",
    "$$\n",
    "F(x) = \n",
    "\\begin{cases}\n",
    "0 & \\text{if } x < 0 \\\\\n",
    "1 - p & \\text{if } 0 \\leq x < 1 \\\\\n",
    "1 & \\text{if } x \\geq 1\n",
    "\\end{cases}\n",
    "$$\n",
    "\n",
    "#### Median Absolute Deviation from the Median (MAD)\n",
    "$$\n",
    "MAD = 2pq = 2p(1-p)\n",
    "$$\n",
    "\n",
    "#### Skewness\n",
    "$$\n",
    "\\gamma_1 = \\frac{1 - 2p}{\\sqrt{p(1-p)}} = \\frac{q - p}{\\sqrt{pq}}\n",
    "$$\n",
    "\n",
    "## Use Cases\n",
    "The Bernoulli distribution is used to model random experiments with two possible outcomes, such as flipping a coin (heads or tails), success/failure in a trial, or yes/no survey responses. Here's how to use the Python scipy module to create Bernoulli RV and sample from it:"
   ]
  },
  {
   "cell_type": "code",
   "execution_count": 4,
   "id": "d579e7b4",
   "metadata": {},
   "outputs": [],
   "source": [
    "from scipy.stats import bernoulli"
   ]
  },
  {
   "cell_type": "markdown",
   "id": "ed2a597d",
   "metadata": {},
   "source": [
    "Sample from a Bernoulli distribution, with a probability of success p = 0.7 and 10 samples."
   ]
  },
  {
   "cell_type": "code",
   "execution_count": 5,
   "id": "f1e10daf",
   "metadata": {},
   "outputs": [
    {
     "name": "stdout",
     "output_type": "stream",
     "text": [
      "Sample from Bernoulli distribution with p=0.7: [0 0 1 1 1 1 1 1 1 1]\n"
     ]
    }
   ],
   "source": [
    "p = 0.7 # probability of success\n",
    "n = 10  # number of trials\n",
    "# Generate a sample of size n\n",
    "sample = bernoulli.rvs(p, size=n)\n",
    "print(\"Sample from Bernoulli distribution with p=0.7:\", sample)"
   ]
  },
  {
   "cell_type": "markdown",
   "id": "85d94ca8",
   "metadata": {
    "vscode": {
     "languageId": "plaintext"
    }
   },
   "source": [
    "## Relationship to other probability distributions\n",
    "\n",
    "### Binomial distribution\n",
    "The Bernolli distribution can also be interpreted as a particular base of the Binomial distribution when there is only one trial such that $ Bernoulli(p) \\sim Binomial(p,n=1)$\n",
    "\n",
    "If $X_1, X_2, \\dots, X_n$ are $n$ independent and identically distributed random variables with $X_i \\sim \\operatorname{Bernoulli}(p)$, then the random variable $X_1 + X_2 + \\cdots + X_n$ follows a binomial distribution with parameters $n$ and $p$, that is,\n",
    "\n",
    "$$\n",
    "\\sum_{i=1}^{n} X_i \\sim \\operatorname{Bin}(n, p)\n",
    "$$\n",
    "\n",
    "### Categorial distribution\n",
    "The categorical distribution is the generalization of the Bernoulli distribution for variables with any constant number of discrete values.\n",
    "\n",
    "### Beta distribution\n",
    "The Beta distribution is the conjugate prior of the Bernoulli distribution.\n",
    "\n",
    "### Geometric distribution\n",
    "The geometric distribution models the number of independent and identical Bernoulli trials needed to get one success.\n",
    "\n",
    "\n"
   ]
  }
 ],
 "metadata": {
  "kernelspec": {
   "display_name": "Machine-Learning",
   "language": "python",
   "name": "python3"
  },
  "language_info": {
   "codemirror_mode": {
    "name": "ipython",
    "version": 3
   },
   "file_extension": ".py",
   "mimetype": "text/x-python",
   "name": "python",
   "nbconvert_exporter": "python",
   "pygments_lexer": "ipython3",
   "version": "3.13.2"
  }
 },
 "nbformat": 4,
 "nbformat_minor": 5
}
