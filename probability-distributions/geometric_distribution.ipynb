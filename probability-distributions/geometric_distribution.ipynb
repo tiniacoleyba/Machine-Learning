{
 "cells": [
  {
   "cell_type": "markdown",
   "metadata": {},
   "source": [
    "<h3>Geometric distribution</h3>\n",
    "<h4>Javier A. Tiniaco Leyba</h4>\n",
    "\n",
    "<p>A simple application of <a href=\"https://en.wikipedia.org/wiki/Geometric_distribution\">geometric distribution.</a><br/>\n",
    "You can play with different distributions interactively in <a href=\"http://mathlets.org/mathlets/probability-distributions/\">MIT</a></p>"
   ]
  },
  {
   "cell_type": "markdown",
   "metadata": {},
   "source": [
    "<strong>In some island each couple have babies until they get a girl. Suppose that the probability of having a girl or boy is the same and equal to 0.5, and that babies gender is independent from previous ones. Under this policy, what is the ratio of boys to girls in the island?</strong>\n",
    "\n",
    "<p>One can formulate the process as a geometric random variable. We can use either of the formulations of the geometric distribution to get the same result and even simulate the process:</p>"
   ]
  },
  {
   "cell_type": "markdown",
   "metadata": {},
   "source": [
    "<h4>Simulation</h4>\n",
    "\n",
    "<p>X is the random variable that represents the number of trials (babies) needed to get a \"success\" (girl).</p>"
   ]
  },
  {
   "cell_type": "code",
   "execution_count": 10,
   "metadata": {
    "ExecuteTime": {
     "end_time": "2020-05-08T06:46:28.550580Z",
     "start_time": "2020-05-08T06:46:28.546588Z"
    }
   },
   "outputs": [],
   "source": [
    "from scipy.stats import geom"
   ]
  },
  {
   "cell_type": "code",
   "execution_count": 11,
   "metadata": {
    "ExecuteTime": {
     "end_time": "2020-05-08T06:46:28.676718Z",
     "start_time": "2020-05-08T06:46:28.666711Z"
    }
   },
   "outputs": [
    {
     "data": {
      "text/plain": [
       "1.99824"
      ]
     },
     "execution_count": 11,
     "metadata": {},
     "output_type": "execute_result"
    }
   ],
   "source": [
    "x = geom.rvs(p=0.5,size=100000)\n",
    "x_mean = x.mean()\n",
    "x_mean"
   ]
  },
  {
   "cell_type": "markdown",
   "metadata": {},
   "source": [
    "<p>We can see that the expected number of trials (babies per couple) until a \"success\" (girl) is approximately two, so on average each couple will have one boy and one girl following the policy. As a result the ratio of boys two girls is close to one.</p>"
   ]
  },
  {
   "cell_type": "markdown",
   "metadata": {},
   "source": [
    "<h4>Mathematical formulation 1</h4>\n",
    "\n",
    "<p>X represents the number of babies until a girl. We can use the analytical formula to calculate the expected number of trials:</p>\n",
    "\n",
    "$$ E[X] = \\mu_x = \\frac{1}{p} = \\frac{1}{0.5} = 2 $$\n",
    "\n",
    "<p>So we obtain the same result than by performing a simulation. By the same logic as before, we obtain the same ratio of boys to girls of one.</p>"
   ]
  },
  {
   "cell_type": "markdown",
   "metadata": {
    "ExecuteTime": {
     "end_time": "2020-05-08T06:28:20.853739Z",
     "start_time": "2020-05-08T06:28:20.847734Z"
    }
   },
   "source": [
    "<h4>Mathematical formulation 2</h4>\n",
    "\n",
    "<p>X represents the number of <strong>boys</strong> until a girl. The analytical function is in this case:</p>\n",
    "\n",
    "$$ E[X] = \\mu_x = \\frac{1-p}{p} = \\frac{1-0.5}{0.5} = 1 $$\n",
    "\n",
    "<p>Notice that in this case, we are not counting the last baby which we know is a girl. So even though the formulation and the result is different, we are still modeling the same process and the ratio of boys to girls is one as in the other cases, since for every girl there is a boy.</p>\n",
    "\n"
   ]
  },
  {
   "cell_type": "markdown",
   "metadata": {
    "ExecuteTime": {
     "end_time": "2020-05-08T06:32:57.948223Z",
     "start_time": "2020-05-08T06:32:57.945231Z"
    }
   },
   "source": [
    "<h4>Conclusions</h4>\n",
    "\n",
    "<p>Care must be taken when using the geometric distribution, since it can be formulated in different ways and the result must be interpreted accordingly. So even though we obtain the same final result with both formulations, the analytical functions are different, so if they are used without knowing the hypothesis behind them, one could be mislead drastically by the results, since as shown before, the expected value or average will differ. It is critically important to understand what formulation a software implementation is using in order to interpret the results.</p>"
   ]
  }
 ],
 "metadata": {
  "kernelspec": {
   "display_name": "Python 3",
   "language": "python",
   "name": "python3"
  }
 },
 "nbformat": 4,
 "nbformat_minor": 2
}
