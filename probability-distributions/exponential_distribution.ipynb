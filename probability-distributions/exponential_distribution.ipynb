{
 "cells": [
  {
   "cell_type": "markdown",
   "metadata": {},
   "source": [
    "### [Exponential distribution](https://en.wikipedia.org/wiki/Exponential_distribution)\n",
    "The exponential distribution is frequently used to model time between events in a Poisson point process, for example, a process in which events occurs continuously and independently at a constant average rate. It is a particular case of the gamma distribution, and it has the key property of being memoryless. The only memoryless distributions are the exponential and the geometric distribution. The exponential distribution often occurs when we measure the time taken for some event to occur and compute the difference in time between events, a computation which is called interarrival times.\n",
    "\n",
    "#### Assumptions\n",
    "- The rate parameter is constant over time(space).\n",
    "- Events are independent from each other.\n",
    "- Events occur cotinuously over time(space).\n",
    "\n",
    "#### Parameters\n",
    "- $\\lambda>0$ :Rate paremeter. The frequency of events over time(space).\n",
    "\n",
    "Here  𝜆>0  is the parameter of the distribution, often called the rate parameter. The distribution is supported on the interval  $[0,\\infty)$ .If a random variable $X$ has this distribution, we write $X \\sim Exp(\\lambda)$. The exponential distribution exhibits [infinite divisibility](https://en.wikipedia.org/wiki/Infinite_divisibility_(probability)). Sometimes the scale parameter $\\beta = \\frac{1}{\\lambda}$ is used instead of $\\lambda$.</p>\n",
    "\n",
    "#### Probability density function\n",
    "\n",
    "$$P(x;\\lambda) = \\lambda e^{-\\lambda x} \\; \\forall x \\ge 0$$\n",
    "\n",
    "#### Cumulative distribution function\n",
    "\n",
    "$$F(x;\\lambda) = 1 - e^{-\\lambda x} \\; \\forall x \\geq 0$$\n",
    "\n",
    "#### Mean, variance, median and mode.\n",
    "The mean or expected value of an exponentially distributed random variable $X$ with rate parameter $\\lambda$ is given by: $$E[X] = \\frac{1}{\\lambda}$$ the variance is given by: $$\\sigma^2 = \\frac{1}{\\lambda^2}$$ the median by: $$x_{1/2} = \\frac{log2}{\\lambda}$$ and the mode is $\\lambda$.\n",
    "\n",
    "#### Moment generating function (MGF)\n",
    "$$M(t) = E[e^{tx}] = \\frac{\\lambda}{\\lambda - t} \\in \\lambda < t$$\n",
    "\n",
    "#### Moments\n",
    "$$E[X^n]=\\frac{n!}{\\lambda^n}$$\n",
    "\n",
    "#### Lack of memory property (memorylessness)\n",
    "\n",
    "A Poisson process assumes events occur uniformly throught during the interval of observations, that is, there is no clustering of events. In other words, the starting point or observation of the system does not affect future probabilities.\n",
    "\n",
    "$$P(X < t1+t2 \\; | \\;  X > t1) = P(X < t2)$$\n",
    "\n",
    "#### Notes\n",
    "- If a random variable is exponentially distributed, then then plot of its complementary cumulative distribution function (or survival function) on a logarithmic scale should be approximately linear since: $ ccdf(x) = 1 - F(x) = e^{-\\lambda x} \\implies log(ccdf(x)) = -\\lambda x$\n",
    "- If the data is exponentially distributed, then its mean and standard deviation will be very close.\n",
    "\n",
    "### Plots"
   ]
  },
  {
   "cell_type": "code",
   "execution_count": null,
   "metadata": {
    "ExecuteTime": {
     "end_time": "2020-07-26T16:29:26.957975Z",
     "start_time": "2020-07-26T16:29:26.289501Z"
    }
   },
   "outputs": [],
   "source": [
    "# TODO"
   ]
  },
  {
   "cell_type": "markdown",
   "metadata": {},
   "source": [
    "### Application"
   ]
  },
  {
   "cell_type": "code",
   "execution_count": null,
   "metadata": {
    "ExecuteTime": {
     "end_time": "2020-07-26T16:29:56.282906Z",
     "start_time": "2020-07-26T16:29:56.279904Z"
    }
   },
   "outputs": [],
   "source": [
    "# TODO"
   ]
  }
 ],
 "metadata": {
  "kernelspec": {
   "display_name": "Machine-Learning",
   "language": "python",
   "name": "python3"
  },
  "language_info": {
   "codemirror_mode": {
    "name": "ipython",
    "version": 3
   },
   "file_extension": ".py",
   "mimetype": "text/x-python",
   "name": "python",
   "nbconvert_exporter": "python",
   "pygments_lexer": "ipython3",
   "version": "3.13.2"
  }
 },
 "nbformat": 4,
 "nbformat_minor": 2
}
