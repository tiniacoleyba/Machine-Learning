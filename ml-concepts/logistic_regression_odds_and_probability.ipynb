{
 "cells": [
  {
   "cell_type": "markdown",
   "metadata": {},
   "source": [
    "# Logistic regression - Javier A. Tiniaco Leyba\n",
    "\n",
    "In this notebook [logistic regression](https://en.wikipedia.org/wiki/Logistic_regression) algorithm will be explored, both simple and [multinomial](https://en.wikipedia.org/wiki/Multinomial_logistic_regression), which are useful for esimating probabilities of events, moreover, classification models can also be obtained from them.\n",
    "\n",
    "In order to fully understand the algorithm, some necessary concepts are briefly introduced before diving into logistic regression. "
   ]
  },
  {
   "cell_type": "markdown",
   "metadata": {},
   "source": [
    "## Introduction to probability and odds relationship\n",
    "\n"
   ]
  },
  {
   "cell_type": "markdown",
   "metadata": {},
   "source": [
    "Both [Odds](https://en.wikipedia.org/wiki/Odds) and [probability](https://en.wikipedia.org/wiki/Probability) are measures of likelihood. Odds are calculated as the ratio between number of succesfull events and eveything else, whereas probability is the ratio between succesful events and all possible events.\n",
    " Additionally, odds can be expressed as a function of the probability and viceversa. \n",
    "\n",
    "$$ O = \\frac{P}{1-P} = \\frac{1}{P^{-1} - 1} \\rightarrow P^{-1} - 1 = \\frac{1}{O} \\rightarrow P^{-1} = \\frac{1}{O} + 1 = \\frac{1 + O}{O}\n",
    "\\rightarrow P = \\frac{O}{1+O} = \\frac{1}{1 + O^{-1}} = P$$\n",
    "\n",
    "where:\n",
    "\n",
    "- O = Odds \n",
    "- P = probability"
   ]
  },
  {
   "cell_type": "code",
   "execution_count": 1,
   "metadata": {
    "ExecuteTime": {
     "end_time": "2019-05-20T07:04:06.829149Z",
     "start_time": "2019-05-20T07:04:05.672326Z"
    }
   },
   "outputs": [],
   "source": [
    "import numpy as np\n",
    "import matplotlib.pyplot as plt\n",
    "import pandas as pd\n",
    "\n",
    "from sklearn.linear_model import LogisticRegression\n",
    "from sklearn import datasets\n",
    "\n",
    "from sklearn.decomposition import PCA\n",
    "from sklearn.metrics import accuracy_score\n",
    "\n",
    "from sklearn.model_selection import cross_val_score"
   ]
  },
  {
   "cell_type": "code",
   "execution_count": 2,
   "metadata": {
    "ExecuteTime": {
     "end_time": "2019-05-20T07:04:06.836155Z",
     "start_time": "2019-05-20T07:04:06.832152Z"
    }
   },
   "outputs": [],
   "source": [
    "def odds(p):\n",
    "    return p/(1-p)\n",
    "\n",
    "def prob(odds):\n",
    "    return odds/(odds+1)"
   ]
  },
  {
   "cell_type": "code",
   "execution_count": 3,
   "metadata": {
    "ExecuteTime": {
     "end_time": "2019-05-20T07:04:06.843159Z",
     "start_time": "2019-05-20T07:04:06.838156Z"
    }
   },
   "outputs": [],
   "source": [
    "P = np.arange(0.01,1,0.01)\n",
    "oddslist = odds(P)\n",
    "problist = prob(oddslist)"
   ]
  },
  {
   "cell_type": "code",
   "execution_count": 4,
   "metadata": {
    "ExecuteTime": {
     "end_time": "2019-05-20T07:04:07.013281Z",
     "start_time": "2019-05-20T07:04:06.848164Z"
    }
   },
   "outputs": [
    {
     "data": {
      "image/png": "[encoded data removed]",
      "text/plain": [
       "<Figure size 432x288 with 1 Axes>"
      ]
     },
     "metadata": {
      "needs_background": "light"
     },
     "output_type": "display_data"
    }
   ],
   "source": [
    "plt.plot(P,oddslist)\n",
    "plt.title(\"Odds a function of probability\")\n",
    "plt.ylabel(\"Odds(P)\")\n",
    "plt.xlabel(\"Probability 'P'\")\n",
    "plt.grid()"
   ]
  },
  {
   "cell_type": "code",
   "execution_count": 5,
   "metadata": {
    "ExecuteTime": {
     "end_time": "2019-05-20T07:04:07.176398Z",
     "start_time": "2019-05-20T07:04:07.017283Z"
    }
   },
   "outputs": [
    {
     "data": {
      "image/png": "[encoded data removed]",
      "text/plain": [
       "<Figure size 432x288 with 1 Axes>"
      ]
     },
     "metadata": {
      "needs_background": "light"
     },
     "output_type": "display_data"
    }
   ],
   "source": [
    "plt.plot(oddslist, problist)\n",
    "plt.title(\"Probability as a function of odds\")\n",
    "plt.ylabel(\"Prob(odds)\")\n",
    "plt.xlabel(\"Odds\")\n",
    "plt.grid()"
   ]
  },
  {
   "cell_type": "code",
   "execution_count": 6,
   "metadata": {
    "ExecuteTime": {
     "end_time": "2019-05-20T07:04:07.185404Z",
     "start_time": "2019-05-20T07:04:07.179400Z"
    }
   },
   "outputs": [],
   "source": [
    "def logit(P):\n",
    "    return np.log(P / (1-P))"
   ]
  },
  {
   "cell_type": "code",
   "execution_count": 7,
   "metadata": {
    "ExecuteTime": {
     "end_time": "2019-05-20T07:04:07.211422Z",
     "start_time": "2019-05-20T07:04:07.189407Z"
    }
   },
   "outputs": [
    {
     "data": {
      "text/html": [
       "<div>\n",
       "<style scoped>\n",
       "    .dataframe tbody tr th:only-of-type {\n",
       "        vertical-align: middle;\n",
       "    }\n",
       "\n",
       "    .dataframe tbody tr th {\n",
       "        vertical-align: top;\n",
       "    }\n",
       "\n",
       "    .dataframe thead th {\n",
       "        text-align: right;\n",
       "    }\n",
       "</style>\n",
       "<table border=\"1\" class=\"dataframe\">\n",
       "  <thead>\n",
       "    <tr style=\"text-align: right;\">\n",
       "      <th></th>\n",
       "      <th>Odds</th>\n",
       "      <th>Probability</th>\n",
       "      <th>Log-odds</th>\n",
       "    </tr>\n",
       "  </thead>\n",
       "  <tbody>\n",
       "    <tr>\n",
       "      <th>0</th>\n",
       "      <td>0.052632</td>\n",
       "      <td>0.05</td>\n",
       "      <td>-2.944439</td>\n",
       "    </tr>\n",
       "    <tr>\n",
       "      <th>1</th>\n",
       "      <td>0.111111</td>\n",
       "      <td>0.10</td>\n",
       "      <td>-2.197225</td>\n",
       "    </tr>\n",
       "    <tr>\n",
       "      <th>2</th>\n",
       "      <td>0.176471</td>\n",
       "      <td>0.15</td>\n",
       "      <td>-1.734601</td>\n",
       "    </tr>\n",
       "    <tr>\n",
       "      <th>3</th>\n",
       "      <td>0.250000</td>\n",
       "      <td>0.20</td>\n",
       "      <td>-1.386294</td>\n",
       "    </tr>\n",
       "    <tr>\n",
       "      <th>4</th>\n",
       "      <td>0.333333</td>\n",
       "      <td>0.25</td>\n",
       "      <td>-1.098612</td>\n",
       "    </tr>\n",
       "    <tr>\n",
       "      <th>5</th>\n",
       "      <td>0.428571</td>\n",
       "      <td>0.30</td>\n",
       "      <td>-0.847298</td>\n",
       "    </tr>\n",
       "    <tr>\n",
       "      <th>6</th>\n",
       "      <td>0.538462</td>\n",
       "      <td>0.35</td>\n",
       "      <td>-0.619039</td>\n",
       "    </tr>\n",
       "    <tr>\n",
       "      <th>7</th>\n",
       "      <td>0.666667</td>\n",
       "      <td>0.40</td>\n",
       "      <td>-0.405465</td>\n",
       "    </tr>\n",
       "    <tr>\n",
       "      <th>8</th>\n",
       "      <td>0.818182</td>\n",
       "      <td>0.45</td>\n",
       "      <td>-0.200671</td>\n",
       "    </tr>\n",
       "    <tr>\n",
       "      <th>9</th>\n",
       "      <td>1.000000</td>\n",
       "      <td>0.50</td>\n",
       "      <td>0.000000</td>\n",
       "    </tr>\n",
       "    <tr>\n",
       "      <th>10</th>\n",
       "      <td>1.222222</td>\n",
       "      <td>0.55</td>\n",
       "      <td>0.200671</td>\n",
       "    </tr>\n",
       "    <tr>\n",
       "      <th>11</th>\n",
       "      <td>1.500000</td>\n",
       "      <td>0.60</td>\n",
       "      <td>0.405465</td>\n",
       "    </tr>\n",
       "    <tr>\n",
       "      <th>12</th>\n",
       "      <td>1.857143</td>\n",
       "      <td>0.65</td>\n",
       "      <td>0.619039</td>\n",
       "    </tr>\n",
       "    <tr>\n",
       "      <th>13</th>\n",
       "      <td>2.333333</td>\n",
       "      <td>0.70</td>\n",
       "      <td>0.847298</td>\n",
       "    </tr>\n",
       "    <tr>\n",
       "      <th>14</th>\n",
       "      <td>3.000000</td>\n",
       "      <td>0.75</td>\n",
       "      <td>1.098612</td>\n",
       "    </tr>\n",
       "    <tr>\n",
       "      <th>15</th>\n",
       "      <td>4.000000</td>\n",
       "      <td>0.80</td>\n",
       "      <td>1.386294</td>\n",
       "    </tr>\n",
       "    <tr>\n",
       "      <th>16</th>\n",
       "      <td>5.666667</td>\n",
       "      <td>0.85</td>\n",
       "      <td>1.734601</td>\n",
       "    </tr>\n",
       "    <tr>\n",
       "      <th>17</th>\n",
       "      <td>9.000000</td>\n",
       "      <td>0.90</td>\n",
       "      <td>2.197225</td>\n",
       "    </tr>\n",
       "    <tr>\n",
       "      <th>18</th>\n",
       "      <td>19.000000</td>\n",
       "      <td>0.95</td>\n",
       "      <td>2.944439</td>\n",
       "    </tr>\n",
       "  </tbody>\n",
       "</table>\n",
       "</div>"
      ],
      "text/plain": [
       "         Odds  Probability  Log-odds\n",
       "0    0.052632         0.05 -2.944439\n",
       "1    0.111111         0.10 -2.197225\n",
       "2    0.176471         0.15 -1.734601\n",
       "3    0.250000         0.20 -1.386294\n",
       "4    0.333333         0.25 -1.098612\n",
       "5    0.428571         0.30 -0.847298\n",
       "6    0.538462         0.35 -0.619039\n",
       "7    0.666667         0.40 -0.405465\n",
       "8    0.818182         0.45 -0.200671\n",
       "9    1.000000         0.50  0.000000\n",
       "10   1.222222         0.55  0.200671\n",
       "11   1.500000         0.60  0.405465\n",
       "12   1.857143         0.65  0.619039\n",
       "13   2.333333         0.70  0.847298\n",
       "14   3.000000         0.75  1.098612\n",
       "15   4.000000         0.80  1.386294\n",
       "16   5.666667         0.85  1.734601\n",
       "17   9.000000         0.90  2.197225\n",
       "18  19.000000         0.95  2.944439"
      ]
     },
     "execution_count": 7,
     "metadata": {},
     "output_type": "execute_result"
    }
   ],
   "source": [
    "P_table = np.arange(0.05,1,0.05)\n",
    "odds_table = odds(P_table)\n",
    "logit_table = logit(P_table) # Logit function: logarithmn of the odds\n",
    "odds_prob = pd.DataFrame({\"Odds\": odds_table, \"Probability\": P_table, \"Log-odds\":logit_table })\n",
    "odds_prob"
   ]
  },
  {
   "cell_type": "markdown",
   "metadata": {},
   "source": [
    "For example, if the value of odds is 4, that would indicate that it is 4 times more likely for an even to occur than not. Given the odds value, we calculate the probability for this case to be 80%, which can be interpreted as expected fraction of occurences if we repeated an experiment N times, so if, N = 1000, and p = 0.8 or 80%, it would be expected the event to occur 0.8*1000 = 800 times."
   ]
  },
  {
   "cell_type": "markdown",
   "metadata": {},
   "source": [
    "# Logistic and logit (log-odds) functions "
   ]
  },
  {
   "cell_type": "markdown",
   "metadata": {},
   "source": [
    " The [logit](https://en.wikipedia.org/wiki/Logit) or log-odds (logarithm of odds) function is used in logistic regression, along with the [logistic function](https://en.wikipedia.org/wiki/Logistic_function) which is a particular [sigmoid function](https://en.wikipedia.org/wiki/Sigmoid_function). The logit function is the [inverse](https://en.wikipedia.org/wiki/Inverse_function) of the logistic function and viceversa, therefore it is possible to arrive at the expression of one of the functions by calculating the inverse of the other.\n",
    " \n",
    " $$ y = logit(p) = log \\left ( \\frac{p}{1-p} \\right ) = logistic(y)^{-1}$$\n",
    " \n",
    " $$ logistic(y) = p = \\frac{1}{1 + e^{-y}} = logit(p)^{-1}$$\n",
    " \n",
    " The logistic function takes a real value from [-inf,inf] and returns a value in the range (0,1) which can be interpreted as a probability, whereas the logit function takes real values from (0,1) and returns a real value from [-inf, inf]."
   ]
  },
  {
   "cell_type": "code",
   "execution_count": 8,
   "metadata": {
    "ExecuteTime": {
     "end_time": "2019-05-20T07:04:07.219427Z",
     "start_time": "2019-05-20T07:04:07.213422Z"
    }
   },
   "outputs": [],
   "source": [
    "def logit(P):\n",
    "    return np.log(P / (1-P))\n",
    "\n",
    "def logistic(y):\n",
    "    return 1 / (1 + np.exp(-y))"
   ]
  },
  {
   "cell_type": "code",
   "execution_count": 9,
   "metadata": {
    "ExecuteTime": {
     "end_time": "2019-05-20T07:04:07.227433Z",
     "start_time": "2019-05-20T07:04:07.223431Z"
    }
   },
   "outputs": [],
   "source": [
    "P_logit = np.arange(0.01,1,0.01)\n",
    "logit_graph = logit(P_logit)\n",
    "logistic_graph = logistic(logit_graph)"
   ]
  },
  {
   "cell_type": "code",
   "execution_count": 10,
   "metadata": {
    "ExecuteTime": {
     "end_time": "2019-05-20T07:04:07.403558Z",
     "start_time": "2019-05-20T07:04:07.230435Z"
    }
   },
   "outputs": [
    {
     "data": {
      "image/png": "[encoded data removed]",
      "text/plain": [
       "<Figure size 432x288 with 1 Axes>"
      ]
     },
     "metadata": {
      "needs_background": "light"
     },
     "output_type": "display_data"
    }
   ],
   "source": [
    "plt.plot(P_logit, logit_graph)\n",
    "plt.title(\"Logic or log-odds function\")\n",
    "plt.ylabel(\"logit(P)\")\n",
    "plt.xlabel(\"probability 'P' \")\n",
    "plt.grid()"
   ]
  },
  {
   "cell_type": "code",
   "execution_count": 11,
   "metadata": {
    "ExecuteTime": {
     "end_time": "2019-05-20T07:04:07.556679Z",
     "start_time": "2019-05-20T07:04:07.406561Z"
    }
   },
   "outputs": [
    {
     "data": {
      "image/png": "[encoded data removed]",
      "text/plain": [
       "<Figure size 432x288 with 1 Axes>"
      ]
     },
     "metadata": {
      "needs_background": "light"
     },
     "output_type": "display_data"
    }
   ],
   "source": [
    "plt.plot(logit_graph, logistic_graph)\n",
    "plt.title(\"Logistic function\")\n",
    "plt.ylabel(\"logistic(y)\")\n",
    "plt.xlabel(\"y\")\n",
    "plt.grid()"
   ]
  },
  {
   "cell_type": "markdown",
   "metadata": {},
   "source": [
    "Both the logit and the logistic function are widely used in Machine Learning and statistic, for example in logistic regression. The negative of the logit function is the derivate of the entropy, which is useful to know when fitting models. "
   ]
  },
  {
   "cell_type": "markdown",
   "metadata": {},
   "source": [
    "## Entropy\n",
    "  \n",
    "In terms of information theory, [entropy](https://en.wikipedia.org/wiki/Entropy_(information_theory)) is considered to be a measure of the uncertainty in a message. To put it intuitively, suppose p = 0. At this probability, the event is certain never to occur, and so there is no uncertainty at all, leading to an entropy of 0. if p = 1, the result is again certain, so the entropy is 0 here as well. When p = 1/2, the uncertainty is at maximun; if one were to place a fair bet on the outcome on this case, there is no advantage to be gained with prior knowledge of the probabilities. In this case, the entropy is maximun at a value of 1 bit.\n",
    "Intermediate values fall between these cases; for instance, if p = 1/4, there is still a measure of uncertainty on the outcome, but one can still predict the outcome correctly more often than not, so the uncertainty measure, or entrioy, is less than 1 full bit. As mentioned before, the derivate of the entropy might can be expressed as the negative of the logit function:\n",
    "\n",
    "$$ \\frac{d}{dp}H_b(p)=-logit_2(2) = -log_2 \\left (\\frac{p}{1-p} \\right) $$"
   ]
  },
  {
   "cell_type": "markdown",
   "metadata": {},
   "source": [
    "## Univariate Logistic regression\n",
    "\n",
    " The terms introduced before such as probability, odds, logistic and logit function are fundamental to understand the mathematical proccess underlying logistic regression.\n",
    " \n",
    " Linear regression often works well when the responde variable is quantitative but, consider the situation in which the responde variable takes only two possible values, which can be mathematically interpreted as 0 and 1. There could be arbitrary assignments resulting from observing a qualitative response. For example, the responde could be the outcome of a presidential election, where 1 indicates that the candidate wins and 0 losses, there are many applications that follow this pattern. Suppose that the model has the form:\n",
    " \n",
    " $$Y_i = \\beta_0 + \\beta_1x_i + \\epsilon_i$$\n",
    " \n",
    " And the response variable $Y_i$ takes on the values either 0 or 1. It will be assumed that the response variable $Y_i$ is a [Bernoulli](https://en.wikipedia.org/wiki/Bernoulli_distribution) [random variable](https://en.wikipedia.org/wiki/Random_variable) with probability of succes $\\pi$, which has the following probability distribution:"
   ]
  },
  {
   "cell_type": "code",
   "execution_count": 12,
   "metadata": {
    "ExecuteTime": {
     "end_time": "2019-05-20T07:04:07.570677Z",
     "start_time": "2019-05-20T07:04:07.558668Z"
    },
    "scrolled": true
   },
   "outputs": [
    {
     "data": {
      "text/html": [
       "<div>\n",
       "<style scoped>\n",
       "    .dataframe tbody tr th:only-of-type {\n",
       "        vertical-align: middle;\n",
       "    }\n",
       "\n",
       "    .dataframe tbody tr th {\n",
       "        vertical-align: top;\n",
       "    }\n",
       "\n",
       "    .dataframe thead th {\n",
       "        text-align: right;\n",
       "    }\n",
       "</style>\n",
       "<table border=\"1\" class=\"dataframe\">\n",
       "  <thead>\n",
       "    <tr style=\"text-align: right;\">\n",
       "      <th></th>\n",
       "      <th>Yi</th>\n",
       "      <th>Probability</th>\n",
       "    </tr>\n",
       "  </thead>\n",
       "  <tbody>\n",
       "    <tr>\n",
       "      <th>0</th>\n",
       "      <td>1</td>\n",
       "      <td>pi</td>\n",
       "    </tr>\n",
       "    <tr>\n",
       "      <th>1</th>\n",
       "      <td>0</td>\n",
       "      <td>1 - pi</td>\n",
       "    </tr>\n",
       "  </tbody>\n",
       "</table>\n",
       "</div>"
      ],
      "text/plain": [
       "   Yi Probability\n",
       "0   1          pi\n",
       "1   0      1 - pi"
      ]
     },
     "execution_count": 12,
     "metadata": {},
     "output_type": "execute_result"
    }
   ],
   "source": [
    "bernoulli = pd.DataFrame( {\"Yi\":[1,0], \"Probability\": [\"pi\", \"1 - pi\"]} )\n",
    "bernoulli"
   ]
  },
  {
   "cell_type": "markdown",
   "metadata": {},
   "source": [
    "Now because $E(\\epsilon_i) = 0$, the expected value of the response variable is:\n",
    "\n",
    "$$ E(Y_i) = 1(\\pi_i)+0(1-\\pi_i)+E(\\epsilon_i)\\therefore E(Y_i) = \\beta_o + \\beta_1x_i = \\pi_i$$\n",
    "\n",
    "This means that the expected response given by the response function $E(Y_i) = \\beta_o + \\beta_1x_i$ is just the probability that the response variable takes on the value 1.\n",
    "\n",
    "There are some subsantive problems by using a linear regression model, for example, the value of the response variable could be outside the range (0,1) which makes no sense since need to model the probability of the independtent variable being 1. Generally, when the responde variable is binary, there is considerable empirical evidence indicating that the response function should be nonlinear. A monotonically increasing (or decreasing) S-shaped (or reversed S-shaped) function, such as sigmoids functions are usually employed. For the case of the logistic regression the logistic function is used and the logit function is necessary to interpret the results.\n",
    "\n",
    " $$ Logistic(x) = E(Y) = \\frac{exp(\\beta_o + \\beta_1x)}{1+exp(\\beta_o + \\beta_1x)} = \\frac{1}{1+exp[-(\\beta_o + \\beta_1x)]}$$\n",
    " \n",
    " In logistic regression, it is assumed that $E(Y)$ is related to $x$ by the logit function:\n",
    "$$ \\frac{E(Y)}{1-E(Y)} = exp(\\beta_0 + \\beta_1x)$$\n",
    "\n",
    "$$ log \\left(\\frac{E(Y)}{1-E(Y)} \\right) = \\beta_0 + \\beta_1x$$\n",
    "\n",
    "You can see that the left term of the equation is an odds value. Notice that the natural logarithm of the odds is a linear function of the regressor variable(s). Therefore, the slope $\\beta_1$ is the difference in the log-odds that results from a one-unit increase in the predictor variable $x$. This means that the odds ratio equals $e^{\\beta_1}$ when $x$ increases by one unit. The parameters of this logistic regression model are usually estimated by the method of maximun likelihood, although many other methods can be applied, such as gradient descent if we consider the model a perceptron with the logistic function its activation function.\n",
    "\n",
    "![](artificial_neuron.png)\n",
    "\n",
    " Logistic regression will be ilustrated using data on launch temperature and O-ring failure for the 24 space shuttle launches prior to the Challenger disaster of January 1986. Six O-rings were used to seal field joints on the rocket motor assembly. The following table presents the launch temperatures. A \"1\" in the O-Ring failure column indicates that at least one O-ring failure had occurred on that launch."
   ]
  },
  {
   "cell_type": "code",
   "execution_count": 13,
   "metadata": {
    "ExecuteTime": {
     "end_time": "2019-05-20T07:04:07.588689Z",
     "start_time": "2019-05-20T07:04:07.572678Z"
    }
   },
   "outputs": [
    {
     "data": {
      "text/html": [
       "<div>\n",
       "<style scoped>\n",
       "    .dataframe tbody tr th:only-of-type {\n",
       "        vertical-align: middle;\n",
       "    }\n",
       "\n",
       "    .dataframe tbody tr th {\n",
       "        vertical-align: top;\n",
       "    }\n",
       "\n",
       "    .dataframe thead th {\n",
       "        text-align: right;\n",
       "    }\n",
       "</style>\n",
       "<table border=\"1\" class=\"dataframe\">\n",
       "  <thead>\n",
       "    <tr style=\"text-align: right;\">\n",
       "      <th></th>\n",
       "      <th>Temperatures</th>\n",
       "      <th>O-Ring Failure</th>\n",
       "    </tr>\n",
       "  </thead>\n",
       "  <tbody>\n",
       "    <tr>\n",
       "      <th>0</th>\n",
       "      <td>53</td>\n",
       "      <td>1</td>\n",
       "    </tr>\n",
       "    <tr>\n",
       "      <th>1</th>\n",
       "      <td>56</td>\n",
       "      <td>1</td>\n",
       "    </tr>\n",
       "    <tr>\n",
       "      <th>2</th>\n",
       "      <td>57</td>\n",
       "      <td>1</td>\n",
       "    </tr>\n",
       "    <tr>\n",
       "      <th>3</th>\n",
       "      <td>63</td>\n",
       "      <td>0</td>\n",
       "    </tr>\n",
       "    <tr>\n",
       "      <th>4</th>\n",
       "      <td>66</td>\n",
       "      <td>0</td>\n",
       "    </tr>\n",
       "    <tr>\n",
       "      <th>5</th>\n",
       "      <td>67</td>\n",
       "      <td>0</td>\n",
       "    </tr>\n",
       "    <tr>\n",
       "      <th>6</th>\n",
       "      <td>67</td>\n",
       "      <td>0</td>\n",
       "    </tr>\n",
       "    <tr>\n",
       "      <th>7</th>\n",
       "      <td>67</td>\n",
       "      <td>0</td>\n",
       "    </tr>\n",
       "    <tr>\n",
       "      <th>8</th>\n",
       "      <td>68</td>\n",
       "      <td>0</td>\n",
       "    </tr>\n",
       "    <tr>\n",
       "      <th>9</th>\n",
       "      <td>69</td>\n",
       "      <td>0</td>\n",
       "    </tr>\n",
       "    <tr>\n",
       "      <th>10</th>\n",
       "      <td>70</td>\n",
       "      <td>0</td>\n",
       "    </tr>\n",
       "    <tr>\n",
       "      <th>11</th>\n",
       "      <td>70</td>\n",
       "      <td>1</td>\n",
       "    </tr>\n",
       "    <tr>\n",
       "      <th>12</th>\n",
       "      <td>70</td>\n",
       "      <td>1</td>\n",
       "    </tr>\n",
       "    <tr>\n",
       "      <th>13</th>\n",
       "      <td>70</td>\n",
       "      <td>1</td>\n",
       "    </tr>\n",
       "    <tr>\n",
       "      <th>14</th>\n",
       "      <td>72</td>\n",
       "      <td>0</td>\n",
       "    </tr>\n",
       "    <tr>\n",
       "      <th>15</th>\n",
       "      <td>73</td>\n",
       "      <td>0</td>\n",
       "    </tr>\n",
       "    <tr>\n",
       "      <th>16</th>\n",
       "      <td>75</td>\n",
       "      <td>0</td>\n",
       "    </tr>\n",
       "    <tr>\n",
       "      <th>17</th>\n",
       "      <td>75</td>\n",
       "      <td>1</td>\n",
       "    </tr>\n",
       "    <tr>\n",
       "      <th>18</th>\n",
       "      <td>76</td>\n",
       "      <td>0</td>\n",
       "    </tr>\n",
       "    <tr>\n",
       "      <th>19</th>\n",
       "      <td>76</td>\n",
       "      <td>0</td>\n",
       "    </tr>\n",
       "    <tr>\n",
       "      <th>20</th>\n",
       "      <td>78</td>\n",
       "      <td>0</td>\n",
       "    </tr>\n",
       "    <tr>\n",
       "      <th>21</th>\n",
       "      <td>79</td>\n",
       "      <td>0</td>\n",
       "    </tr>\n",
       "    <tr>\n",
       "      <th>22</th>\n",
       "      <td>80</td>\n",
       "      <td>0</td>\n",
       "    </tr>\n",
       "    <tr>\n",
       "      <th>23</th>\n",
       "      <td>81</td>\n",
       "      <td>0</td>\n",
       "    </tr>\n",
       "  </tbody>\n",
       "</table>\n",
       "</div>"
      ],
      "text/plain": [
       "    Temperatures  O-Ring Failure\n",
       "0             53               1\n",
       "1             56               1\n",
       "2             57               1\n",
       "3             63               0\n",
       "4             66               0\n",
       "5             67               0\n",
       "6             67               0\n",
       "7             67               0\n",
       "8             68               0\n",
       "9             69               0\n",
       "10            70               0\n",
       "11            70               1\n",
       "12            70               1\n",
       "13            70               1\n",
       "14            72               0\n",
       "15            73               0\n",
       "16            75               0\n",
       "17            75               1\n",
       "18            76               0\n",
       "19            76               0\n",
       "20            78               0\n",
       "21            79               0\n",
       "22            80               0\n",
       "23            81               0"
      ]
     },
     "execution_count": 13,
     "metadata": {},
     "output_type": "execute_result"
    }
   ],
   "source": [
    "temperatures = np.array([53,56,57,63,66,67,67,67,68,69,70,70,70,70,72,73,75,75,76,76,78,79,80,81])\n",
    "failures = np.array([1,1,1,0,0,0,0,0,0,0,0,1,1,1,0,0,0,1,0,0,0,0,0,0])\n",
    "\n",
    "shuttle = pd.DataFrame({\"Temperatures\": temperatures, \"O-Ring Failure\": failures})\n",
    "shuttle"
   ]
  },
  {
   "cell_type": "markdown",
   "metadata": {},
   "source": [
    " Python scikitlearn module will be used to fir the logistic regression model, although it could be done with other modules such as Tensorflow, keras or even manually implement the algorithm."
   ]
  },
  {
   "cell_type": "markdown",
   "metadata": {},
   "source": [
    "Definition and fitting of the logistic regression model."
   ]
  },
  {
   "cell_type": "code",
   "execution_count": 14,
   "metadata": {
    "ExecuteTime": {
     "end_time": "2019-05-20T07:04:07.606703Z",
     "start_time": "2019-05-20T07:04:07.590691Z"
    }
   },
   "outputs": [
    {
     "data": {
      "text/plain": [
       "LogisticRegression(C=1.0, class_weight=None, dual=False, fit_intercept=True,\n",
       "          intercept_scaling=1, max_iter=100, multi_class='warn',\n",
       "          n_jobs=None, penalty='l2', random_state=None, solver='lbfgs',\n",
       "          tol=0.0001, verbose=0, warm_start=False)"
      ]
     },
     "execution_count": 14,
     "metadata": {},
     "output_type": "execute_result"
    }
   ],
   "source": [
    "shuttle_model = LogisticRegression(solver=\"lbfgs\")\n",
    "shuttle_model.fit(temperatures.reshape(-1,1), failures)"
   ]
  },
  {
   "cell_type": "markdown",
   "metadata": {},
   "source": [
    "Parameters of the model."
   ]
  },
  {
   "cell_type": "code",
   "execution_count": 15,
   "metadata": {
    "ExecuteTime": {
     "end_time": "2019-05-20T07:04:07.616711Z",
     "start_time": "2019-05-20T07:04:07.608705Z"
    }
   },
   "outputs": [
    {
     "data": {
      "text/plain": [
       "array([1, 1, 1, 1, 0, 0, 0, 0, 0, 0, 0, 0, 0, 0, 0, 0, 0, 0, 0, 0, 0, 0,\n",
       "       0, 0])"
      ]
     },
     "execution_count": 15,
     "metadata": {},
     "output_type": "execute_result"
    }
   ],
   "source": [
    "model_output = shuttle_model.predict(temperatures.reshape(-1,1))\n",
    "model_output"
   ]
  },
  {
   "cell_type": "markdown",
   "metadata": {},
   "source": [
    "It is important to notice as mentioned in the introduction that, logistic regression is not a classifier, since it returns the probability of a sample being part of a class, if we want to make a classifier out of the model, it is necessary to set up a cut-off point, which is what the implementation above is doing, usually 0.5 is taken, to demonstrate that, lets do the calculations ourselves:"
   ]
  },
  {
   "cell_type": "code",
   "execution_count": 16,
   "metadata": {
    "ExecuteTime": {
     "end_time": "2019-05-20T07:04:07.624716Z",
     "start_time": "2019-05-20T07:04:07.619713Z"
    }
   },
   "outputs": [],
   "source": [
    "def linear_model(X,intercept,coef):\n",
    "    return intercept + X*coef\n",
    "\n",
    "def logistic(y):\n",
    "    return 1 / (1 + np.exp(-y))\n",
    "\n",
    "def logistic_regression(X,intercept, coef):\n",
    "    return logistic( linear_model(X,intercept,coef) )"
   ]
  },
  {
   "cell_type": "code",
   "execution_count": 17,
   "metadata": {
    "ExecuteTime": {
     "end_time": "2019-05-20T07:04:07.633722Z",
     "start_time": "2019-05-20T07:04:07.627720Z"
    }
   },
   "outputs": [
    {
     "data": {
      "text/plain": [
       "(array([10.7950794]), array([[-0.17014123]]))"
      ]
     },
     "execution_count": 17,
     "metadata": {},
     "output_type": "execute_result"
    }
   ],
   "source": [
    "coef = shuttle_model.coef_\n",
    "intercept = shuttle_model.intercept_\n",
    "intercept, coef\n"
   ]
  },
  {
   "cell_type": "code",
   "execution_count": 18,
   "metadata": {
    "ExecuteTime": {
     "end_time": "2019-05-20T07:04:07.650734Z",
     "start_time": "2019-05-20T07:04:07.644729Z"
    }
   },
   "outputs": [
    {
     "data": {
      "text/plain": [
       "array([[0.85539956, 0.78025802, 0.74970309, 0.5190363 , 0.39311392,\n",
       "        0.3533416 , 0.3533416 , 0.3533416 , 0.31550126, 0.27995893,\n",
       "        0.24697588, 0.24697588, 0.24697588, 0.24697588, 0.18921959,\n",
       "        0.16448481, 0.12287168, 0.12287168, 0.10567944, 0.10567944,\n",
       "        0.07756244, 0.06623117, 0.05645401, 0.0480459 ]])"
      ]
     },
     "execution_count": 18,
     "metadata": {},
     "output_type": "execute_result"
    }
   ],
   "source": [
    "logistic_reg_out = logistic_regression(temperatures, intercept, coef )\n",
    "logistic_reg_out"
   ]
  },
  {
   "cell_type": "markdown",
   "metadata": {},
   "source": [
    "Those are the probabilities of the value of a sample (temperature) corresponding to a specific class (failure). Notice how probabilities were obtained not classes. Now, if we needed a classifier, we set a cut-off, normally 0.5 is taken so:"
   ]
  },
  {
   "cell_type": "code",
   "execution_count": 19,
   "metadata": {
    "ExecuteTime": {
     "end_time": "2019-05-20T07:04:07.660742Z",
     "start_time": "2019-05-20T07:04:07.653737Z"
    }
   },
   "outputs": [
    {
     "data": {
      "text/plain": [
       "([array([1., 1., 1., 1., 0., 0., 0., 0., 0., 0., 0., 0., 0., 0., 0., 0., 0.,\n",
       "         0., 0., 0., 0., 0., 0., 0.])],\n",
       " array([1, 1, 1, 1, 0, 0, 0, 0, 0, 0, 0, 0, 0, 0, 0, 0, 0, 0, 0, 0, 0, 0,\n",
       "        0, 0]))"
      ]
     },
     "execution_count": 19,
     "metadata": {},
     "output_type": "execute_result"
    }
   ],
   "source": [
    "cutoff = 0.5\n",
    "classifications = [prob//cutoff for prob in logistic_reg_out]\n",
    "classifications, model_output"
   ]
  },
  {
   "cell_type": "markdown",
   "metadata": {},
   "source": [
    "Those results are equivalent by those predicted by the model, so now, we know what it is doing."
   ]
  },
  {
   "cell_type": "code",
   "execution_count": 20,
   "metadata": {
    "ExecuteTime": {
     "end_time": "2019-05-20T07:04:07.668747Z",
     "start_time": "2019-05-20T07:04:07.662742Z"
    }
   },
   "outputs": [
    {
     "data": {
      "text/plain": [
       "(array([1, 1, 1, 0, 0, 0, 0, 0, 0, 0, 0, 1, 1, 1, 0, 0, 0, 1, 0, 0, 0, 0,\n",
       "        0, 0]),\n",
       " array([53, 56, 57, 63, 66, 67, 67, 67, 68, 69, 70, 70, 70, 70, 72, 73, 75,\n",
       "        75, 76, 76, 78, 79, 80, 81]))"
      ]
     },
     "execution_count": 20,
     "metadata": {},
     "output_type": "execute_result"
    }
   ],
   "source": [
    "failures, temperatures"
   ]
  },
  {
   "cell_type": "code",
   "execution_count": 21,
   "metadata": {
    "ExecuteTime": {
     "end_time": "2019-05-20T07:04:07.895909Z",
     "start_time": "2019-05-20T07:04:07.671749Z"
    }
   },
   "outputs": [
    {
     "data": {
      "image/png": "[encoded data removed]",
      "text/plain": [
       "<Figure size 720x576 with 1 Axes>"
      ]
     },
     "metadata": {
      "needs_background": "light"
     },
     "output_type": "display_data"
    }
   ],
   "source": [
    "fig = plt.figure(figsize=(10,8))\n",
    "plt.plot( np.arange(40,90,1), logistic_regression(np.arange(40,90,1),intercept,coef).reshape(-1,1), color=\"blue\" )\n",
    "plt.scatter(temperatures.reshape(-1,1), logistic_reg_out, color=\"red\")\n",
    "#plt.scatter(temperatures, model_output, color=\"yellow\")\n",
    "plt.scatter(temperatures, failures, color=\"green\")\n",
    "plt.title(\"Logistic regression\")\n",
    "plt.ylabel(\"logistic(temperature)\")\n",
    "plt.xlabel(\"temperature in ºF\")\n",
    "plt.grid()\n",
    "#plt.savefig('shuttle_failure.eps', format='eps', dpi=1000)"
   ]
  },
  {
   "cell_type": "markdown",
   "metadata": {},
   "source": [
    "\n",
    "- red dots: probabilities of failure predicted by the model as a function of temperatures.\n",
    "- green dots: real failure data\n",
    "\n",
    "We can compare the model performance by a simple accuracy metric:"
   ]
  },
  {
   "cell_type": "code",
   "execution_count": 22,
   "metadata": {
    "ExecuteTime": {
     "end_time": "2019-05-20T07:04:07.904916Z",
     "start_time": "2019-05-20T07:04:07.897911Z"
    }
   },
   "outputs": [
    {
     "data": {
      "text/plain": [
       "0.7916666666666666"
      ]
     },
     "execution_count": 22,
     "metadata": {},
     "output_type": "execute_result"
    }
   ],
   "source": [
    "accuracy = sum( [val == pred for val,pred in zip(failures, model_output)] ) / len(failures) \n",
    "accuracy"
   ]
  },
  {
   "cell_type": "markdown",
   "metadata": {},
   "source": [
    " We see that the model accuracy is 79.16% but, more important is that we know from the model that a failure is likely to occur for low temperatures with a high probability. This could have saved lives considering that when the shuttle failure in occured in 1986 killing 7 people, the temperature of one of the O-Rings was 31ºF. In summary, logistic regression is useful not only because of it predictive power but also because one might extract useful insights from the model itself."
   ]
  },
  {
   "cell_type": "markdown",
   "metadata": {},
   "source": [
    "## Softmax function "
   ]
  },
  {
   "cell_type": "markdown",
   "metadata": {},
   "source": [
    " The [softmax](https://en.wikipedia.org/wiki/Softmax_function) function also known as sotfargmax or normalized exponential function, is a function that takes as input a vector of K elements, and normalises it into a probability distribution of K probabilities. That is, prior to applying softmax, some vector componentes could be negative, or greater than one; and might not sum to 1; but after applying softmax, each component will be in the interval (0,1), and the components will add up to 1, so that they can be interpreted as probabilities. Furthermore, the larger the input components will correspond to larger probabilities. Softmax is often used in artificial neural networks, to map the non-normalized output of a netwotk to a probability distribution over the predicted output classes.\n",
    " \n",
    "The standard (unit) softmax function $\\sigma : \\mathbb{R}^K \\rightarrow \\mathbb{R}^K$ is defined by the formula:\n",
    "\n",
    "$$ \\sigma(Z)_j = \\frac{e^{z_j}}{\\sum_{k=1}^K e^{z_k}}$$\n",
    "\n",
    "for $k = 1,..,K$   and $z = (z_1,...,z_k) \\in \\mathbb{R}^K$\n",
    "\n",
    "The softmax function has many applications, for example in neural netwotks, reinforcement learning and in multinomial regression, which is why it is being studied."
   ]
  },
  {
   "cell_type": "code",
   "execution_count": 23,
   "metadata": {
    "ExecuteTime": {
     "end_time": "2019-05-20T07:04:07.911920Z",
     "start_time": "2019-05-20T07:04:07.907917Z"
    }
   },
   "outputs": [],
   "source": [
    "def softmax(vec):\n",
    "    exp = [np.exp(x) for x in vec]\n",
    "    tot = sum(exp)\n",
    "    return [x/tot for x in exp]"
   ]
  },
  {
   "cell_type": "code",
   "execution_count": 24,
   "metadata": {
    "ExecuteTime": {
     "end_time": "2019-05-20T07:04:07.928933Z",
     "start_time": "2019-05-20T07:04:07.915923Z"
    }
   },
   "outputs": [
    {
     "data": {
      "text/html": [
       "<div>\n",
       "<style scoped>\n",
       "    .dataframe tbody tr th:only-of-type {\n",
       "        vertical-align: middle;\n",
       "    }\n",
       "\n",
       "    .dataframe tbody tr th {\n",
       "        vertical-align: top;\n",
       "    }\n",
       "\n",
       "    .dataframe thead th {\n",
       "        text-align: right;\n",
       "    }\n",
       "</style>\n",
       "<table border=\"1\" class=\"dataframe\">\n",
       "  <thead>\n",
       "    <tr style=\"text-align: right;\">\n",
       "      <th></th>\n",
       "      <th>Value</th>\n",
       "      <th>Normalized</th>\n",
       "    </tr>\n",
       "  </thead>\n",
       "  <tbody>\n",
       "    <tr>\n",
       "      <th>0</th>\n",
       "      <td>-3</td>\n",
       "      <td>0.004270</td>\n",
       "    </tr>\n",
       "    <tr>\n",
       "      <th>1</th>\n",
       "      <td>-2</td>\n",
       "      <td>0.011606</td>\n",
       "    </tr>\n",
       "    <tr>\n",
       "      <th>2</th>\n",
       "      <td>-1</td>\n",
       "      <td>0.031550</td>\n",
       "    </tr>\n",
       "    <tr>\n",
       "      <th>3</th>\n",
       "      <td>0</td>\n",
       "      <td>0.085761</td>\n",
       "    </tr>\n",
       "    <tr>\n",
       "      <th>4</th>\n",
       "      <td>1</td>\n",
       "      <td>0.233122</td>\n",
       "    </tr>\n",
       "    <tr>\n",
       "      <th>5</th>\n",
       "      <td>2</td>\n",
       "      <td>0.633691</td>\n",
       "    </tr>\n",
       "  </tbody>\n",
       "</table>\n",
       "</div>"
      ],
      "text/plain": [
       "   Value  Normalized\n",
       "0     -3    0.004270\n",
       "1     -2    0.011606\n",
       "2     -1    0.031550\n",
       "3      0    0.085761\n",
       "4      1    0.233122\n",
       "5      2    0.633691"
      ]
     },
     "execution_count": 24,
     "metadata": {},
     "output_type": "execute_result"
    }
   ],
   "source": [
    "vec = np.arange(-3,3)\n",
    "#vec = [np.random.randint(-3,3) for _ in range(10)]\n",
    "normalized_vec = softmax(vec)\n",
    "softmax_vec = pd.DataFrame({\"Value\": vec, \"Normalized\": normalized_vec})\n",
    "softmax_vec"
   ]
  },
  {
   "cell_type": "code",
   "execution_count": 25,
   "metadata": {
    "ExecuteTime": {
     "end_time": "2019-05-20T07:04:08.105059Z",
     "start_time": "2019-05-20T07:04:07.930934Z"
    }
   },
   "outputs": [
    {
     "data": {
      "text/plain": [
       "Text(0.5, 1.0, 'Vector transformed into a probability distribution')"
      ]
     },
     "execution_count": 25,
     "metadata": {},
     "output_type": "execute_result"
    },
    {
     "data": {
      "image/png": "[encoded data removed]",
      "text/plain": [
       "<Figure size 432x288 with 1 Axes>"
      ]
     },
     "metadata": {
      "needs_background": "light"
     },
     "output_type": "display_data"
    }
   ],
   "source": [
    "plt.scatter(vec,normalized_vec)\n",
    "plt.xlabel(\"Value\")\n",
    "plt.ylabel(\"Probability\")\n",
    "plt.title(\"Vector transformed into a probability distribution\")"
   ]
  },
  {
   "cell_type": "markdown",
   "metadata": {},
   "source": [
    "In machine learning the softmax function is considered a generalization of the logistic function, since it returns probabilities for each possible class, instead of a probability of a sample being part of a single class as logistic function does."
   ]
  },
  {
   "cell_type": "markdown",
   "metadata": {},
   "source": [
    "##  [Multinomial logistic regression ](https://en.wikipedia.org/wiki/Multinomial_logistic_regression)\n",
    "\n",
    "It is also called by many names such as softmax regression, maximun entropy classifier, polytomous LR, multiclas LR, multinomial logit and the conditional maximun entropy classifier.\n",
    "\n",
    " This method generalizes logistic regression to more than two classes, that is, it is a model used to predict the probabilities of the different possible outcomes of a categorically distributed dependent variable, given a set of independent variables.\n",
    " \n",
    " ### Assumptions\n",
    " \n",
    " 1\\. It is assumed that **data is case specific**, that is, each independent variable has a single value for each case.\n",
    " \n",
    " 2\\. **The dependent variable can not be perfectly predicted** from the independent variables for any case.\n",
    " \n",
    " 3\\. **Colinearity between independent variables is assumed to be relatively low**. Note that is not necessary for them to be independent but, if some independent variables are strongly correlated, it is difficult to differentiate between the impact of several variables.\n",
    " \n",
    " 4\\. It relies on the [**indendence of irrelevant alternatives**](https://en.wikipedia.org/wiki/Independence_of_irrelevant_alternatives) (IIA) when modeling choices, which is not always desirable. The assumption states that the odds of preferring one class over another do not depend on the presence of absence of other irrelevant alternatives.\n",
    "\n",
    " \n"
   ]
  },
  {
   "cell_type": "markdown",
   "metadata": {},
   "source": [
    "The multinomial logistic regression will be ilustrated using the iris dataset, which have four features and 3 classes."
   ]
  },
  {
   "cell_type": "code",
   "execution_count": 26,
   "metadata": {
    "ExecuteTime": {
     "end_time": "2019-05-20T07:04:09.690179Z",
     "start_time": "2019-05-20T07:04:08.108060Z"
    }
   },
   "outputs": [
    {
     "data": {
      "text/plain": [
       "array(['setosa', 'versicolor', 'virginica'], dtype=object)"
      ]
     },
     "execution_count": 26,
     "metadata": {},
     "output_type": "execute_result"
    }
   ],
   "source": [
    "iris = pd.read_csv('https://raw.githubusercontent.com/mwaskom/seaborn-data/master/iris.csv')\n",
    "iris.species.unique()"
   ]
  },
  {
   "cell_type": "code",
   "execution_count": 27,
   "metadata": {
    "ExecuteTime": {
     "end_time": "2019-05-20T07:04:09.708201Z",
     "start_time": "2019-05-20T07:04:09.692180Z"
    }
   },
   "outputs": [
    {
     "data": {
      "text/html": [
       "<div>\n",
       "<style scoped>\n",
       "    .dataframe tbody tr th:only-of-type {\n",
       "        vertical-align: middle;\n",
       "    }\n",
       "\n",
       "    .dataframe tbody tr th {\n",
       "        vertical-align: top;\n",
       "    }\n",
       "\n",
       "    .dataframe thead th {\n",
       "        text-align: right;\n",
       "    }\n",
       "</style>\n",
       "<table border=\"1\" class=\"dataframe\">\n",
       "  <thead>\n",
       "    <tr style=\"text-align: right;\">\n",
       "      <th></th>\n",
       "      <th>sepal_length</th>\n",
       "      <th>sepal_width</th>\n",
       "      <th>petal_length</th>\n",
       "      <th>petal_width</th>\n",
       "      <th>species</th>\n",
       "    </tr>\n",
       "  </thead>\n",
       "  <tbody>\n",
       "    <tr>\n",
       "      <th>0</th>\n",
       "      <td>5.1</td>\n",
       "      <td>3.5</td>\n",
       "      <td>1.4</td>\n",
       "      <td>0.2</td>\n",
       "      <td>setosa</td>\n",
       "    </tr>\n",
       "    <tr>\n",
       "      <th>1</th>\n",
       "      <td>4.9</td>\n",
       "      <td>3.0</td>\n",
       "      <td>1.4</td>\n",
       "      <td>0.2</td>\n",
       "      <td>setosa</td>\n",
       "    </tr>\n",
       "    <tr>\n",
       "      <th>2</th>\n",
       "      <td>4.7</td>\n",
       "      <td>3.2</td>\n",
       "      <td>1.3</td>\n",
       "      <td>0.2</td>\n",
       "      <td>setosa</td>\n",
       "    </tr>\n",
       "    <tr>\n",
       "      <th>3</th>\n",
       "      <td>4.6</td>\n",
       "      <td>3.1</td>\n",
       "      <td>1.5</td>\n",
       "      <td>0.2</td>\n",
       "      <td>setosa</td>\n",
       "    </tr>\n",
       "    <tr>\n",
       "      <th>4</th>\n",
       "      <td>5.0</td>\n",
       "      <td>3.6</td>\n",
       "      <td>1.4</td>\n",
       "      <td>0.2</td>\n",
       "      <td>setosa</td>\n",
       "    </tr>\n",
       "  </tbody>\n",
       "</table>\n",
       "</div>"
      ],
      "text/plain": [
       "   sepal_length  sepal_width  petal_length  petal_width species\n",
       "0           5.1          3.5           1.4          0.2  setosa\n",
       "1           4.9          3.0           1.4          0.2  setosa\n",
       "2           4.7          3.2           1.3          0.2  setosa\n",
       "3           4.6          3.1           1.5          0.2  setosa\n",
       "4           5.0          3.6           1.4          0.2  setosa"
      ]
     },
     "execution_count": 27,
     "metadata": {},
     "output_type": "execute_result"
    }
   ],
   "source": [
    "iris.head()"
   ]
  },
  {
   "cell_type": "markdown",
   "metadata": {},
   "source": [
    "The labels need to be codified and the dataset split in to training and test sets."
   ]
  },
  {
   "cell_type": "code",
   "execution_count": 28,
   "metadata": {
    "ExecuteTime": {
     "end_time": "2019-05-20T07:04:09.730207Z",
     "start_time": "2019-05-20T07:04:09.711192Z"
    }
   },
   "outputs": [
    {
     "data": {
      "text/html": [
       "<div>\n",
       "<style scoped>\n",
       "    .dataframe tbody tr th:only-of-type {\n",
       "        vertical-align: middle;\n",
       "    }\n",
       "\n",
       "    .dataframe tbody tr th {\n",
       "        vertical-align: top;\n",
       "    }\n",
       "\n",
       "    .dataframe thead th {\n",
       "        text-align: right;\n",
       "    }\n",
       "</style>\n",
       "<table border=\"1\" class=\"dataframe\">\n",
       "  <thead>\n",
       "    <tr style=\"text-align: right;\">\n",
       "      <th></th>\n",
       "      <th>sepal_length</th>\n",
       "      <th>sepal_width</th>\n",
       "      <th>petal_length</th>\n",
       "      <th>petal_width</th>\n",
       "      <th>species</th>\n",
       "    </tr>\n",
       "  </thead>\n",
       "  <tbody>\n",
       "    <tr>\n",
       "      <th>123</th>\n",
       "      <td>6.3</td>\n",
       "      <td>2.7</td>\n",
       "      <td>4.9</td>\n",
       "      <td>1.8</td>\n",
       "      <td>2</td>\n",
       "    </tr>\n",
       "    <tr>\n",
       "      <th>110</th>\n",
       "      <td>6.5</td>\n",
       "      <td>3.2</td>\n",
       "      <td>5.1</td>\n",
       "      <td>2.0</td>\n",
       "      <td>2</td>\n",
       "    </tr>\n",
       "    <tr>\n",
       "      <th>148</th>\n",
       "      <td>6.2</td>\n",
       "      <td>3.4</td>\n",
       "      <td>5.4</td>\n",
       "      <td>2.3</td>\n",
       "      <td>2</td>\n",
       "    </tr>\n",
       "    <tr>\n",
       "      <th>106</th>\n",
       "      <td>4.9</td>\n",
       "      <td>2.5</td>\n",
       "      <td>4.5</td>\n",
       "      <td>1.7</td>\n",
       "      <td>2</td>\n",
       "    </tr>\n",
       "    <tr>\n",
       "      <th>61</th>\n",
       "      <td>5.9</td>\n",
       "      <td>3.0</td>\n",
       "      <td>4.2</td>\n",
       "      <td>1.5</td>\n",
       "      <td>1</td>\n",
       "    </tr>\n",
       "    <tr>\n",
       "      <th>53</th>\n",
       "      <td>5.5</td>\n",
       "      <td>2.3</td>\n",
       "      <td>4.0</td>\n",
       "      <td>1.3</td>\n",
       "      <td>1</td>\n",
       "    </tr>\n",
       "    <tr>\n",
       "      <th>99</th>\n",
       "      <td>5.7</td>\n",
       "      <td>2.8</td>\n",
       "      <td>4.1</td>\n",
       "      <td>1.3</td>\n",
       "      <td>1</td>\n",
       "    </tr>\n",
       "    <tr>\n",
       "      <th>111</th>\n",
       "      <td>6.4</td>\n",
       "      <td>2.7</td>\n",
       "      <td>5.3</td>\n",
       "      <td>1.9</td>\n",
       "      <td>2</td>\n",
       "    </tr>\n",
       "    <tr>\n",
       "      <th>29</th>\n",
       "      <td>4.7</td>\n",
       "      <td>3.2</td>\n",
       "      <td>1.6</td>\n",
       "      <td>0.2</td>\n",
       "      <td>0</td>\n",
       "    </tr>\n",
       "    <tr>\n",
       "      <th>18</th>\n",
       "      <td>5.7</td>\n",
       "      <td>3.8</td>\n",
       "      <td>1.7</td>\n",
       "      <td>0.3</td>\n",
       "      <td>0</td>\n",
       "    </tr>\n",
       "  </tbody>\n",
       "</table>\n",
       "</div>"
      ],
      "text/plain": [
       "     sepal_length  sepal_width  petal_length  petal_width  species\n",
       "123           6.3          2.7           4.9          1.8        2\n",
       "110           6.5          3.2           5.1          2.0        2\n",
       "148           6.2          3.4           5.4          2.3        2\n",
       "106           4.9          2.5           4.5          1.7        2\n",
       "61            5.9          3.0           4.2          1.5        1\n",
       "53            5.5          2.3           4.0          1.3        1\n",
       "99            5.7          2.8           4.1          1.3        1\n",
       "111           6.4          2.7           5.3          1.9        2\n",
       "29            4.7          3.2           1.6          0.2        0\n",
       "18            5.7          3.8           1.7          0.3        0"
      ]
     },
     "execution_count": 28,
     "metadata": {},
     "output_type": "execute_result"
    }
   ],
   "source": [
    "iris.species = iris.species.replace(\"setosa\",0).replace(\"versicolor\",1).replace(\"virginica\",2)\n",
    "iris.sample(10)"
   ]
  },
  {
   "cell_type": "code",
   "execution_count": 29,
   "metadata": {
    "ExecuteTime": {
     "end_time": "2019-05-20T07:04:09.740214Z",
     "start_time": "2019-05-20T07:04:09.734209Z"
    }
   },
   "outputs": [],
   "source": [
    "iris_arr = np.array(iris)\n",
    "np.random.shuffle(iris_arr)"
   ]
  },
  {
   "cell_type": "code",
   "execution_count": 30,
   "metadata": {
    "ExecuteTime": {
     "end_time": "2019-05-20T07:04:09.749220Z",
     "start_time": "2019-05-20T07:04:09.742216Z"
    }
   },
   "outputs": [],
   "source": [
    "def one_hot(x, n):\n",
    "    \"\"\"\n",
    "    :param x: label (int)\n",
    "    :param n: number of bits\n",
    "    :return: one hot code\n",
    "    \"\"\"\n",
    "    if type(x) == list:\n",
    "        x = np.array(x)\n",
    "    x = x.flatten()\n",
    "    o_h = np.zeros((len(x), n))\n",
    "    o_h[np.arange(len(x)), x] = 1\n",
    "    return o_h"
   ]
  },
  {
   "cell_type": "code",
   "execution_count": 31,
   "metadata": {
    "ExecuteTime": {
     "end_time": "2019-05-20T07:04:09.759227Z",
     "start_time": "2019-05-20T07:04:09.754223Z"
    }
   },
   "outputs": [],
   "source": [
    "Y = iris_arr[:,4].astype(int)\n",
    "X_train, Y_train = iris_arr[:121,0:4], Y[:121]\n",
    "X_test, Y_test = iris_arr[121:,0:4], Y[:121]"
   ]
  },
  {
   "cell_type": "markdown",
   "metadata": {},
   "source": [
    "###  Multinomial logistic regression through sklearn"
   ]
  },
  {
   "cell_type": "code",
   "execution_count": 32,
   "metadata": {
    "ExecuteTime": {
     "end_time": "2019-05-20T07:04:09.815268Z",
     "start_time": "2019-05-20T07:04:09.763230Z"
    }
   },
   "outputs": [
    {
     "data": {
      "text/plain": [
       "LogisticRegression(C=1.0, class_weight=None, dual=False, fit_intercept=True,\n",
       "          intercept_scaling=1, max_iter=200, multi_class='auto',\n",
       "          n_jobs=None, penalty='l2', random_state=None, solver='lbfgs',\n",
       "          tol=0.0001, verbose=0, warm_start=False)"
      ]
     },
     "execution_count": 32,
     "metadata": {},
     "output_type": "execute_result"
    }
   ],
   "source": [
    "LR = LogisticRegression(solver = 'lbfgs', multi_class='auto',max_iter = 200)\n",
    "LR.fit(X_train, iris_arr[:121,4].astype(int))"
   ]
  },
  {
   "cell_type": "code",
   "execution_count": 33,
   "metadata": {
    "ExecuteTime": {
     "end_time": "2019-05-20T07:04:09.822272Z",
     "start_time": "2019-05-20T07:04:09.818269Z"
    }
   },
   "outputs": [],
   "source": [
    "y_pred = LR.predict(X_test)"
   ]
  },
  {
   "cell_type": "code",
   "execution_count": 34,
   "metadata": {
    "ExecuteTime": {
     "end_time": "2019-05-20T07:04:09.834281Z",
     "start_time": "2019-05-20T07:04:09.826275Z"
    }
   },
   "outputs": [
    {
     "data": {
      "text/plain": [
       "0.9655172413793104"
      ]
     },
     "execution_count": 34,
     "metadata": {},
     "output_type": "execute_result"
    }
   ],
   "source": [
    "accuracy_score(iris_arr[121:,4],y_pred)"
   ]
  },
  {
   "cell_type": "markdown",
   "metadata": {},
   "source": [
    "The predictors are wuite correlated: "
   ]
  },
  {
   "cell_type": "code",
   "execution_count": 35,
   "metadata": {
    "ExecuteTime": {
     "end_time": "2019-05-20T07:04:09.843287Z",
     "start_time": "2019-05-20T07:04:09.837283Z"
    }
   },
   "outputs": [
    {
     "data": {
      "text/plain": [
       "array([[ 1.        , -0.11756978,  0.87175378,  0.81794113],\n",
       "       [-0.11756978,  1.        , -0.4284401 , -0.36612593],\n",
       "       [ 0.87175378, -0.4284401 ,  1.        ,  0.96286543],\n",
       "       [ 0.81794113, -0.36612593,  0.96286543,  1.        ]])"
      ]
     },
     "execution_count": 35,
     "metadata": {},
     "output_type": "execute_result"
    }
   ],
   "source": [
    "np.corrcoef(iris_arr[:,0:4].T)"
   ]
  },
  {
   "cell_type": "markdown",
   "metadata": {},
   "source": [
    "Which is not good to the model, so we can try with only 1 feature at a time:"
   ]
  },
  {
   "cell_type": "code",
   "execution_count": 36,
   "metadata": {
    "ExecuteTime": {
     "end_time": "2019-05-20T07:04:09.849291Z",
     "start_time": "2019-05-20T07:04:09.845289Z"
    }
   },
   "outputs": [],
   "source": [
    "Y = iris_arr[:,4].astype(int)\n",
    "X_train, Y_train = iris_arr[:121,[3]], Y[:121]\n",
    "X_test, Y_test = iris_arr[121:,[3]], Y[121:]"
   ]
  },
  {
   "cell_type": "code",
   "execution_count": 37,
   "metadata": {
    "ExecuteTime": {
     "end_time": "2019-05-20T07:04:09.867304Z",
     "start_time": "2019-05-20T07:04:09.853294Z"
    }
   },
   "outputs": [
    {
     "data": {
      "text/plain": [
       "LogisticRegression(C=1.0, class_weight=None, dual=False, fit_intercept=True,\n",
       "          intercept_scaling=1, max_iter=200, multi_class='auto',\n",
       "          n_jobs=None, penalty='l2', random_state=None, solver='lbfgs',\n",
       "          tol=0.0001, verbose=0, warm_start=False)"
      ]
     },
     "execution_count": 37,
     "metadata": {},
     "output_type": "execute_result"
    }
   ],
   "source": [
    "LR = LogisticRegression(solver = 'lbfgs', multi_class='auto',max_iter = 200)\n",
    "LR.fit(X_train, iris_arr[:121,4].astype(int))"
   ]
  },
  {
   "cell_type": "code",
   "execution_count": 38,
   "metadata": {
    "ExecuteTime": {
     "end_time": "2019-05-20T07:04:09.873309Z",
     "start_time": "2019-05-20T07:04:09.869305Z"
    }
   },
   "outputs": [],
   "source": [
    "y_pred = LR.predict(X_test)"
   ]
  },
  {
   "cell_type": "code",
   "execution_count": 39,
   "metadata": {
    "ExecuteTime": {
     "end_time": "2019-05-20T07:04:09.884317Z",
     "start_time": "2019-05-20T07:04:09.876311Z"
    }
   },
   "outputs": [
    {
     "data": {
      "text/plain": [
       "0.9310344827586207"
      ]
     },
     "execution_count": 39,
     "metadata": {},
     "output_type": "execute_result"
    }
   ],
   "source": [
    "accuracy_score(Y_test,y_pred)"
   ]
  },
  {
   "cell_type": "markdown",
   "metadata": {},
   "source": [
    "We can see how we can achive better performance by getting rid of noise and correlated predictors. This accuracy is suspicious though, so I decided to plot the data selected for testing to see how it can be separated, and then all the data."
   ]
  },
  {
   "cell_type": "code",
   "execution_count": 40,
   "metadata": {
    "ExecuteTime": {
     "end_time": "2019-05-20T07:04:10.056440Z",
     "start_time": "2019-05-20T07:04:09.887318Z"
    }
   },
   "outputs": [
    {
     "data": {
      "text/plain": [
       "<matplotlib.collections.PathCollection at 0x70a4f72358>"
      ]
     },
     "execution_count": 40,
     "metadata": {},
     "output_type": "execute_result"
    },
    {
     "data": {
      "image/png": "[encoded data removed]",
      "text/plain": [
       "<Figure size 432x288 with 1 Axes>"
      ]
     },
     "metadata": {
      "needs_background": "light"
     },
     "output_type": "display_data"
    }
   ],
   "source": [
    "plt.scatter(iris_arr[121:,[3]],iris_arr[121:,4])"
   ]
  },
  {
   "cell_type": "markdown",
   "metadata": {},
   "source": [
    "Ploting all the data, not only the testing set."
   ]
  },
  {
   "cell_type": "code",
   "execution_count": 41,
   "metadata": {
    "ExecuteTime": {
     "end_time": "2019-05-20T07:04:10.216553Z",
     "start_time": "2019-05-20T07:04:10.058440Z"
    }
   },
   "outputs": [
    {
     "data": {
      "text/plain": [
       "<matplotlib.collections.PathCollection at 0x70a4fcacc0>"
      ]
     },
     "execution_count": 41,
     "metadata": {},
     "output_type": "execute_result"
    },
    {
     "data": {
      "image/png": "[encoded data removed]",
      "text/plain": [
       "<Figure size 432x288 with 1 Axes>"
      ]
     },
     "metadata": {
      "needs_background": "light"
     },
     "output_type": "display_data"
    }
   ],
   "source": [
    "plt.scatter(iris_arr[:,[3]],iris_arr[:,4])"
   ]
  },
  {
   "cell_type": "markdown",
   "metadata": {},
   "source": [
    "So in we se now that it is not possible to separate all classes by making use of only 1 predictor, the perfect scoring was due to the test set used."
   ]
  },
  {
   "cell_type": "markdown",
   "metadata": {},
   "source": [
    "###  Logistic multinomial regression using PCA"
   ]
  },
  {
   "cell_type": "code",
   "execution_count": 42,
   "metadata": {
    "ExecuteTime": {
     "end_time": "2019-05-20T07:04:10.223557Z",
     "start_time": "2019-05-20T07:04:10.218554Z"
    }
   },
   "outputs": [],
   "source": [
    "Y = iris_arr[:,4]\n",
    "X = iris_arr[:,0:4]"
   ]
  },
  {
   "cell_type": "code",
   "execution_count": 43,
   "metadata": {
    "ExecuteTime": {
     "end_time": "2019-05-20T07:04:10.234576Z",
     "start_time": "2019-05-20T07:04:10.226560Z"
    }
   },
   "outputs": [
    {
     "data": {
      "text/plain": [
       "PCA(copy=True, iterated_power='auto', n_components=None, random_state=None,\n",
       "  svd_solver='auto', tol=0.0, whiten=False)"
      ]
     },
     "execution_count": 43,
     "metadata": {},
     "output_type": "execute_result"
    }
   ],
   "source": [
    "pca = PCA()\n",
    "pca.fit(X)"
   ]
  },
  {
   "cell_type": "code",
   "execution_count": 44,
   "metadata": {
    "ExecuteTime": {
     "end_time": "2019-05-20T07:04:10.243583Z",
     "start_time": "2019-05-20T07:04:10.236567Z"
    }
   },
   "outputs": [
    {
     "data": {
      "text/plain": [
       "LogisticRegression(C=1.0, class_weight=None, dual=False, fit_intercept=True,\n",
       "          intercept_scaling=1, max_iter=200, multi_class='auto',\n",
       "          n_jobs=None, penalty='l2', random_state=42, solver='lbfgs',\n",
       "          tol=0.0001, verbose=0, warm_start=False)"
      ]
     },
     "execution_count": 44,
     "metadata": {},
     "output_type": "execute_result"
    }
   ],
   "source": [
    "LR = LogisticRegression(solver = 'lbfgs', multi_class='auto',max_iter = 200, random_state = 42)\n",
    "LR"
   ]
  },
  {
   "cell_type": "markdown",
   "metadata": {},
   "source": [
    "LR will be evaluated using 10fold cross validation for different number of principal components."
   ]
  },
  {
   "cell_type": "code",
   "execution_count": 45,
   "metadata": {
    "ExecuteTime": {
     "end_time": "2019-05-20T07:04:10.905042Z",
     "start_time": "2019-05-20T07:04:10.245573Z"
    }
   },
   "outputs": [],
   "source": [
    "scores_pca = [cross_val_score(LR, X@pca.components_[:,:n_comp], Y, cv = 10) for n_comp in range(1,5)]"
   ]
  },
  {
   "cell_type": "code",
   "execution_count": 46,
   "metadata": {
    "ExecuteTime": {
     "end_time": "2019-05-20T07:04:10.912049Z",
     "start_time": "2019-05-20T07:04:10.907044Z"
    }
   },
   "outputs": [],
   "source": [
    "scores_pca_means = [np.mean(score) for score in scores_pca]"
   ]
  },
  {
   "cell_type": "code",
   "execution_count": 47,
   "metadata": {
    "ExecuteTime": {
     "end_time": "2019-05-20T07:04:10.923056Z",
     "start_time": "2019-05-20T07:04:10.915049Z"
    }
   },
   "outputs": [
    {
     "data": {
      "text/plain": [
       "[0.9333333333333333,\n",
       " 0.9866666666666667,\n",
       " 0.9733333333333333,\n",
       " 0.9666666666666666]"
      ]
     },
     "execution_count": 47,
     "metadata": {},
     "output_type": "execute_result"
    }
   ],
   "source": [
    "scores_pca_means"
   ]
  },
  {
   "cell_type": "markdown",
   "metadata": {},
   "source": [
    "We can see from the results that it makes no difference if we use 3 or 4 components, even better, we can increase the accuracy by using only the first two components, and even get more than 90% accuracy by using only the first one."
   ]
  },
  {
   "cell_type": "code",
   "execution_count": 48,
   "metadata": {
    "ExecuteTime": {
     "end_time": "2019-05-20T07:04:11.116192Z",
     "start_time": "2019-05-20T07:04:10.926057Z"
    }
   },
   "outputs": [
    {
     "data": {
      "image/png": "[encoded data removed]",
      "text/plain": [
       "<Figure size 720x576 with 1 Axes>"
      ]
     },
     "metadata": {
      "needs_background": "light"
     },
     "output_type": "display_data"
    }
   ],
   "source": [
    "fig = plt.figure(figsize=(10,8))\n",
    "plt.plot( np.arange(1,5), scores_pca_means, color=\"blue\" )\n",
    "plt.title(\"Accuracy of LR on iris dataset transformed through PCA\")\n",
    "plt.ylabel(\"10Fold CV acc\")\n",
    "plt.xlabel(\"Number of principal components\")\n",
    "plt.grid()"
   ]
  }
 ],
 "metadata": {
  "kernelspec": {
   "display_name": "Python 3",
   "language": "python",
   "name": "python3"
  },
  "language_info": {
   "codemirror_mode": {
    "name": "ipython",
    "version": 3
   },
   "file_extension": ".py",
   "mimetype": "text/x-python",
   "name": "python",
   "nbconvert_exporter": "python",
   "pygments_lexer": "ipython3",
   "version": "3.6.7"
  }
 },
 "nbformat": 4,
 "nbformat_minor": 2
}
