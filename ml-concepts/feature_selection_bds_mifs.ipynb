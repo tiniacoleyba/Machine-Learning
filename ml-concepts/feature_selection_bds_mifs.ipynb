{
 "cells": [
  {
   "cell_type": "markdown",
   "metadata": {},
   "source": [
    "#  Engineer Javier Andrés Tiniaco Leyba"
   ]
  },
  {
   "cell_type": "markdown",
   "metadata": {},
   "source": [
    "#  Feature selection using BDS and MIFS\n",
    "\n",
    "- BDS: Bidirectional search\n",
    "- MIFS: Mutual information feature selection\n",
    "\n",
    "I wil be using the white-wine dataset which can be downloaded from [here](https://archive.ics.uci.edu/ml/datasets/Wine+Quality)"
   ]
  },
  {
   "cell_type": "code",
   "execution_count": 1,
   "metadata": {
    "ExecuteTime": {
     "end_time": "2019-05-20T07:47:00.496789Z",
     "start_time": "2019-05-20T07:46:59.235891Z"
    }
   },
   "outputs": [],
   "source": [
    "import numpy as np\n",
    "import pandas as pd\n",
    "import matplotlib.pyplot as plt\n",
    "\n",
    "from sklearn.ensemble import RandomForestClassifier\n",
    "from sklearn.model_selection import cross_val_score\n",
    "from sklearn.model_selection import ShuffleSplit\n",
    "from sklearn.model_selection import train_test_split\n",
    "from sklearn.decomposition import PCA\n",
    "from sklearn.preprocessing import label_binarize\n",
    "\n",
    "from sklearn.metrics import mutual_info_score\n",
    "from sklearn.metrics import precision_score\n",
    "from sklearn.metrics import accuracy_score\n",
    "from sklearn.metrics import recall_score\n",
    "from sklearn.metrics import roc_curve\n",
    "from sklearn.metrics import auc"
   ]
  },
  {
   "cell_type": "code",
   "execution_count": 2,
   "metadata": {
    "ExecuteTime": {
     "end_time": "2019-05-20T07:47:00.529812Z",
     "start_time": "2019-05-20T07:47:00.499791Z"
    }
   },
   "outputs": [],
   "source": [
    "wine = pd.read_csv(\"../winequality-white.csv\",sep=\";\")"
   ]
  },
  {
   "cell_type": "code",
   "execution_count": 3,
   "metadata": {
    "ExecuteTime": {
     "end_time": "2019-05-20T07:47:00.540819Z",
     "start_time": "2019-05-20T07:47:00.532814Z"
    }
   },
   "outputs": [
    {
     "data": {
      "text/plain": [
       "(4898, 12)"
      ]
     },
     "execution_count": 3,
     "metadata": {},
     "output_type": "execute_result"
    }
   ],
   "source": [
    "wine.shape"
   ]
  },
  {
   "cell_type": "code",
   "execution_count": 4,
   "metadata": {
    "ExecuteTime": {
     "end_time": "2019-05-20T07:47:00.550826Z",
     "start_time": "2019-05-20T07:47:00.545823Z"
    }
   },
   "outputs": [],
   "source": [
    "wine_arr = np.array(wine)"
   ]
  },
  {
   "cell_type": "markdown",
   "metadata": {},
   "source": [
    "### Wrapper evaluation function"
   ]
  },
  {
   "cell_type": "markdown",
   "metadata": {},
   "source": [
    "Function evaluation for the wrapper approximation of the subset search. A RandomForestClassifier is being used, trained with 5-fold cross-validation leaving 30% of data for a final test. A random state of value \"0\" is used for reproducibility."
   ]
  },
  {
   "cell_type": "markdown",
   "metadata": {},
   "source": [
    "Evaluate subset via 5-fold cross validation score, without one hot coding classes."
   ]
  },
  {
   "cell_type": "code",
   "execution_count": 5,
   "metadata": {
    "ExecuteTime": {
     "end_time": "2019-05-20T07:47:00.564837Z",
     "start_time": "2019-05-20T07:47:00.557833Z"
    }
   },
   "outputs": [],
   "source": [
    "# Data must be a numpy array and the last column must be the class\n",
    "def eval_subset(S,data,rand_state=0):\n",
    "    rf = RandomForestClassifier(n_estimators=100, n_jobs=-1)\n",
    "    cv = ShuffleSplit(n_splits=5, test_size=0.3, random_state=rand_state)\n",
    "    return cross_val_score(rf, data[:,list(S)], data[:,-1], cv=cv).mean()"
   ]
  },
  {
   "cell_type": "markdown",
   "metadata": {},
   "source": [
    "A baseline score is constructed by making use of all the predictors, so that other results can be compared against it."
   ]
  },
  {
   "cell_type": "code",
   "execution_count": 6,
   "metadata": {
    "ExecuteTime": {
     "end_time": "2019-05-20T07:47:04.702192Z",
     "start_time": "2019-05-20T07:47:00.568840Z"
    }
   },
   "outputs": [
    {
     "name": "stdout",
     "output_type": "stream",
     "text": [
      "Model score using all predictors:  67.26530612244898 %\n"
     ]
    }
   ],
   "source": [
    "print(\"Model score using all predictors: \", 100*eval_subset([0,1,2,3,4,5,6,7,8,9,10],wine_arr), \"%\")"
   ]
  },
  {
   "cell_type": "markdown",
   "metadata": {},
   "source": [
    "### Bidirectional search implementation"
   ]
  },
  {
   "cell_type": "markdown",
   "metadata": {},
   "source": [
    "M is the number of features to keep which must be a positive integer greater than zero and at maximun equal to the number of features."
   ]
  },
  {
   "cell_type": "code",
   "execution_count": 7,
   "metadata": {
    "ExecuteTime": {
     "end_time": "2019-05-20T07:47:04.719204Z",
     "start_time": "2019-05-20T07:47:04.705194Z"
    }
   },
   "outputs": [],
   "source": [
    "def BDS(m,data):\n",
    "    # m = number of features to keep\n",
    "    data = np.array(data)\n",
    "    samples, features = data.shape\n",
    "    features -= 1 # Exclude class\n",
    "    \n",
    "    if m < 1 or type(m) != type(1) or m > features:\n",
    "        print(\"Invalid number of features.\")\n",
    "        return\n",
    "    \n",
    "    SBS = list(range(features)) \n",
    "    SFS = []\n",
    "    \n",
    "    while len(SFS) != m or len(SBS) != m:\n",
    "\n",
    "        if len(SFS) != m:\n",
    "            best_feat, best_score = -1, 0\n",
    "            for feat in list(SBS):\n",
    "                if feat in SFS:continue\n",
    "                SFS.append(feat)\n",
    "                score_val = eval_subset(SFS,data)\n",
    "                if score_val > best_score: \n",
    "                    best_feat, best_score = feat, score_val\n",
    "                SFS.pop()\n",
    "            if best_feat != -1:SFS.append(best_feat)\n",
    "            \n",
    "        if len(SBS) != m:\n",
    "            best_feat, best_score = -1, 0\n",
    "            for feat in list(SBS):\n",
    "                if feat in SFS:continue\n",
    "                SBS.remove(feat)\n",
    "                score_val = eval_subset(SBS,data)\n",
    "                if score_val > best_score: \n",
    "                    best_feat, best_score = feat, score_val\n",
    "                SBS.append(feat)\n",
    "            if best_feat != -1:SBS.remove(best_feat)\n",
    "            \n",
    "    return (best_score,SFS)"
   ]
  },
  {
   "cell_type": "code",
   "execution_count": 9,
   "metadata": {
    "ExecuteTime": {
     "end_time": "2019-05-20T07:50:24.644628Z",
     "start_time": "2019-05-20T07:48:07.131380Z"
    }
   },
   "outputs": [
    {
     "data": {
      "text/plain": [
       "(0.6502040816326531, [10, 3, 6, 1, 4])"
      ]
     },
     "execution_count": 9,
     "metadata": {},
     "output_type": "execute_result"
    }
   ],
   "source": [
    "bds_best_score, bds_best_subset = BDS(5,wine_arr)\n",
    "bds_best_score, bds_best_subset"
   ]
  },
  {
   "cell_type": "markdown",
   "metadata": {},
   "source": [
    "It is possible to see from the executions above, that we can get different subsets for the same number of attributes to keep, since the evaluation function has some random component in it (cross validation), however, the accuracy for those subsets is quite similar. <br>\n",
    "Note: For a intel i3-4160 CPU the execution of BDS(5,wine_arr) took 2 minutes 30 seconds."
   ]
  },
  {
   "cell_type": "markdown",
   "metadata": {},
   "source": [
    "### MIFS - Mutual information based feature selection"
   ]
  },
  {
   "cell_type": "code",
   "execution_count": 10,
   "metadata": {
    "ExecuteTime": {
     "end_time": "2019-05-20T07:50:37.120250Z",
     "start_time": "2019-05-20T07:50:37.111243Z"
    }
   },
   "outputs": [],
   "source": [
    "def MIFS(m,beta,data,isprint=0):\n",
    "    \"\"\" MIFS algorithm Battiti 1994:\n",
    "        m = number of features to keep.\n",
    "        isprint = 1 prints sequence of choices\n",
    "        data = array of dim = samples,features+1\n",
    "    \"\"\"\n",
    "    data = np.array(data)\n",
    "    samples, features = data.shape\n",
    "    features -= 1 # Exclude class\n",
    "    labels = data[:,-1]\n",
    "    \n",
    "    if m < 1 or type(m) != type(1) or m > features:\n",
    "        print(\"Invalid number of features.\")\n",
    "        return\n",
    "    \n",
    "    F = list(range(features)) \n",
    "    S = []\n",
    "    \n",
    "    XS = np.argmax([mutual_info_score(labels, data[:,attr]) for attr in F])\n",
    "    if isprint: print(\"First feature elected:\" ,print(XS))\n",
    "    \n",
    "    F.remove(XS)\n",
    "    S.append(XS)\n",
    "    #print(F,S)\n",
    "    \n",
    "    while len(S) != m:\n",
    "        \n",
    "        MIS = {xf:sum( mutual_info_score(data[:,xf],data[:,xs]) for xs in S) for xf in F}\n",
    "        if isprint: print(MIS)\n",
    "        XS = np.argmax( [mutual_info_score(labels,data[:,xf]) - beta*MIS[xf] for xf in F] )\n",
    "        if isprint: print(XS)\n",
    "        S.append(F[XS])\n",
    "        F.remove(F[XS])\n",
    "        if isprint: print(F,S)\n",
    "        \n",
    "    return S"
   ]
  },
  {
   "cell_type": "code",
   "execution_count": 11,
   "metadata": {
    "ExecuteTime": {
     "end_time": "2019-05-20T07:50:37.507714Z",
     "start_time": "2019-05-20T07:50:37.273547Z"
    }
   },
   "outputs": [
    {
     "data": {
      "text/plain": [
       "[7, 0, 1, 9, 2]"
      ]
     },
     "execution_count": 11,
     "metadata": {},
     "output_type": "execute_result"
    }
   ],
   "source": [
    "MIFS(5,0.5,wine_arr,isprint=0)"
   ]
  },
  {
   "cell_type": "markdown",
   "metadata": {},
   "source": [
    "Best subset given different values of beta."
   ]
  },
  {
   "cell_type": "code",
   "execution_count": 12,
   "metadata": {
    "ExecuteTime": {
     "end_time": "2019-05-20T07:50:42.642727Z",
     "start_time": "2019-05-20T07:50:38.110500Z"
    }
   },
   "outputs": [],
   "source": [
    "mifs_solutions = [[round(beta,2),MIFS(5,beta,wine_arr)] for beta in np.arange(0,1.01,0.05)]"
   ]
  },
  {
   "cell_type": "code",
   "execution_count": 13,
   "metadata": {
    "ExecuteTime": {
     "end_time": "2019-05-20T07:50:42.654735Z",
     "start_time": "2019-05-20T07:50:42.645727Z"
    }
   },
   "outputs": [
    {
     "data": {
      "text/plain": [
       "[[0.0, [7, 3, 10, 6, 4]],\n",
       " [0.05, [7, 10, 3, 4, 1]],\n",
       " [0.1, [7, 10, 1, 0, 2]],\n",
       " [0.15, [7, 10, 1, 0, 2]],\n",
       " [0.2, [7, 10, 0, 1, 2]],\n",
       " [0.25, [7, 10, 0, 1, 2]],\n",
       " [0.3, [7, 10, 0, 1, 2]],\n",
       " [0.35, [7, 0, 10, 1, 2]],\n",
       " [0.4, [7, 0, 1, 10, 9]],\n",
       " [0.45, [7, 0, 1, 10, 9]],\n",
       " [0.5, [7, 0, 1, 9, 2]],\n",
       " [0.55, [7, 0, 1, 9, 2]],\n",
       " [0.6, [7, 0, 1, 9, 2]],\n",
       " [0.65, [7, 0, 1, 9, 2]],\n",
       " [0.7, [7, 0, 1, 9, 2]],\n",
       " [0.75, [7, 0, 1, 9, 2]],\n",
       " [0.8, [7, 0, 1, 9, 2]],\n",
       " [0.85, [7, 0, 1, 9, 2]],\n",
       " [0.9, [7, 0, 1, 9, 2]],\n",
       " [0.95, [7, 0, 1, 9, 2]],\n",
       " [1.0, [7, 0, 1, 9, 2]]]"
      ]
     },
     "execution_count": 13,
     "metadata": {},
     "output_type": "execute_result"
    }
   ],
   "source": [
    "mifs_solutions"
   ]
  },
  {
   "cell_type": "markdown",
   "metadata": {},
   "source": [
    "I have decided to keep the subset [7,0,1,9,2] because is the one that most repeats."
   ]
  },
  {
   "cell_type": "code",
   "execution_count": 14,
   "metadata": {
    "ExecuteTime": {
     "end_time": "2019-05-20T07:50:42.667742Z",
     "start_time": "2019-05-20T07:50:42.658737Z"
    }
   },
   "outputs": [],
   "source": [
    "mifs_best_subset = [7, 0, 1, 9, 2]"
   ]
  },
  {
   "cell_type": "markdown",
   "metadata": {},
   "source": [
    "###  PCA - Principal Component Analysis"
   ]
  },
  {
   "cell_type": "code",
   "execution_count": 15,
   "metadata": {
    "ExecuteTime": {
     "end_time": "2019-05-20T07:50:42.688759Z",
     "start_time": "2019-05-20T07:50:42.673747Z"
    }
   },
   "outputs": [
    {
     "data": {
      "text/plain": [
       "PCA(copy=True, iterated_power='auto', n_components=None, random_state=None,\n",
       "  svd_solver='auto', tol=0.0, whiten=False)"
      ]
     },
     "execution_count": 15,
     "metadata": {},
     "output_type": "execute_result"
    }
   ],
   "source": [
    "pca = PCA()\n",
    "pca.fit(wine_arr[:,:-1])"
   ]
  },
  {
   "cell_type": "code",
   "execution_count": 16,
   "metadata": {
    "ExecuteTime": {
     "end_time": "2019-05-20T07:50:42.698764Z",
     "start_time": "2019-05-20T07:50:42.691761Z"
    }
   },
   "outputs": [
    {
     "data": {
      "text/plain": [
       "array([9.09657344e-01, 7.93338631e-02, 1.01542742e-02, 5.06004450e-04,\n",
       "       3.23409395e-04, 8.72769740e-06, 6.72986618e-06, 5.39060918e-06,\n",
       "       4.07002123e-06, 1.86525322e-07, 1.49217279e-10])"
      ]
     },
     "execution_count": 16,
     "metadata": {},
     "output_type": "execute_result"
    }
   ],
   "source": [
    "pca.explained_variance_ratio_"
   ]
  },
  {
   "cell_type": "markdown",
   "metadata": {
    "ExecuteTime": {
     "end_time": "2019-04-19T12:07:37.778742Z",
     "start_time": "2019-04-19T12:07:37.773738Z"
    }
   },
   "source": [
    "As we can see, with the first to components more than 95% of the variance is covered, so we till keep only those and transform the original feature space to the new dimensional space."
   ]
  },
  {
   "cell_type": "code",
   "execution_count": 17,
   "metadata": {
    "ExecuteTime": {
     "end_time": "2019-05-20T07:50:42.711774Z",
     "start_time": "2019-05-20T07:50:42.701767Z"
    }
   },
   "outputs": [],
   "source": [
    "principal_2 = pca.components_[[0,1],:]"
   ]
  },
  {
   "cell_type": "code",
   "execution_count": 18,
   "metadata": {
    "ExecuteTime": {
     "end_time": "2019-05-20T07:50:42.719779Z",
     "start_time": "2019-05-20T07:50:42.714776Z"
    }
   },
   "outputs": [
    {
     "data": {
      "text/plain": [
       "(2, 11)"
      ]
     },
     "execution_count": 18,
     "metadata": {},
     "output_type": "execute_result"
    }
   ],
   "source": [
    "principal_2.shape"
   ]
  },
  {
   "cell_type": "markdown",
   "metadata": {},
   "source": [
    "###  Model evaluation with the feature subsets obtained via different feature selecion methods"
   ]
  },
  {
   "cell_type": "markdown",
   "metadata": {},
   "source": [
    "For each of the best feature subsets selected via different methods, the accuracy, precision, recall, ROC curve and AUC value will be obtained, so that a final comparison can be made. "
   ]
  },
  {
   "cell_type": "code",
   "execution_count": 19,
   "metadata": {
    "ExecuteTime": {
     "end_time": "2019-05-20T07:50:42.727785Z",
     "start_time": "2019-05-20T07:50:42.722782Z"
    }
   },
   "outputs": [],
   "source": [
    "classes = list(set(wine.quality))\n",
    "n_classes = len(classes)\n",
    "Y = wine_arr[:,-1]\n",
    "X = wine_arr[:,:-1]"
   ]
  },
  {
   "cell_type": "code",
   "execution_count": 20,
   "metadata": {
    "ExecuteTime": {
     "end_time": "2019-05-20T07:50:48.076810Z",
     "start_time": "2019-05-20T07:50:48.071809Z"
    }
   },
   "outputs": [],
   "source": [
    "X_train, X_test, y_train, y_test = train_test_split(X,Y, test_size=0.25, random_state=0)"
   ]
  },
  {
   "cell_type": "markdown",
   "metadata": {},
   "source": [
    "A function is defined to calculate the false positive rate (fpr), true positive rate (tpr) and roc_auc values. It accepts the probabilities of samples to be of a specific class and the number of classes."
   ]
  },
  {
   "cell_type": "code",
   "execution_count": 21,
   "metadata": {
    "ExecuteTime": {
     "end_time": "2019-05-20T07:50:48.404642Z",
     "start_time": "2019-05-20T07:50:48.399648Z"
    }
   },
   "outputs": [],
   "source": [
    "def calc_fpr_tpr_auc(ypred_prob,n_classes, classes,y_test):\n",
    "    fpr = dict()\n",
    "    tpr = dict()\n",
    "    y_test_bin = label_binarize(y_test, classes=classes)\n",
    "    roc_auc = dict()\n",
    "    for i in range(n_classes):\n",
    "        fpr[i], tpr[i], _ = roc_curve(y_test_bin[:, i], ypred_prob[:, i])\n",
    "        roc_auc[i] = auc(fpr[i], tpr[i])\n",
    "    \n",
    "    return (fpr, tpr, roc_auc)"
   ]
  },
  {
   "cell_type": "markdown",
   "metadata": {},
   "source": [
    "Function that receives the fpr, tpr, roc_auc values and n_classes and plots the roc_curves of each class."
   ]
  },
  {
   "cell_type": "code",
   "execution_count": 22,
   "metadata": {
    "ExecuteTime": {
     "end_time": "2019-05-20T07:50:51.094958Z",
     "start_time": "2019-05-20T07:50:51.086954Z"
    }
   },
   "outputs": [],
   "source": [
    "def plot_roc_curves(fpr,tpr,roc_auc,n_classes):\n",
    "    fig = plt.figure(figsize=(8,8))\n",
    "    title = 'ROC and AUC for each class'\n",
    "    plt.title(title)\n",
    "    for i in range(n_classes):\n",
    "        label = \"Class label: \" + str(classes[i]) + \", AUC: \" + str(np.round(roc_auc[i],3))\n",
    "        plt.plot(fpr[i], tpr[i], label = label)\n",
    "        plt.plot([0, 1], [0, 1], 'k--')\n",
    "        plt.xlim([0.0, 1.0])\n",
    "        plt.ylim([0.0, 1.05])\n",
    "        plt.xlabel('False Positive Rate')\n",
    "        plt.ylabel('True Positive Rate')\n",
    "        plt.legend(loc=\"lower right\")\n",
    "        \n",
    "    plt.show()"
   ]
  },
  {
   "cell_type": "markdown",
   "metadata": {},
   "source": [
    "####  PCA"
   ]
  },
  {
   "cell_type": "markdown",
   "metadata": {},
   "source": [
    "Fitting the model with the transformed feature space. Notice that we need to one hot encode the classes so that it is possible to employ the One vs All scheme, in order to to plot the ROC curve, since ROC is not defined for multiclass problem, only for binary ones."
   ]
  },
  {
   "cell_type": "code",
   "execution_count": 23,
   "metadata": {
    "ExecuteTime": {
     "end_time": "2019-05-20T07:50:52.452424Z",
     "start_time": "2019-05-20T07:50:51.990991Z"
    }
   },
   "outputs": [],
   "source": [
    "pca_rf = RandomForestClassifier(n_estimators=100, n_jobs=-1)\n",
    "pca_rf.fit(X_train@principal_2.T, y_train) \n",
    "pca_rf_ypred_prob = pca_rf.predict_proba(X_test@principal_2.T)\n",
    "pca_rf_ypred = np.array( [classes[np.argmax(x)] for x in pca_rf_ypred_prob] )"
   ]
  },
  {
   "cell_type": "code",
   "execution_count": 24,
   "metadata": {
    "ExecuteTime": {
     "end_time": "2019-05-20T07:50:52.460420Z",
     "start_time": "2019-05-20T07:50:52.454417Z"
    }
   },
   "outputs": [
    {
     "name": "stdout",
     "output_type": "stream",
     "text": [
      "PCA trained RF accuracy score: 54.7 %\n"
     ]
    }
   ],
   "source": [
    "pca_acc_score = accuracy_score(y_test, pca_rf_ypred)\n",
    "print(\"PCA trained RF accuracy score:\", 100*np.round(pca_acc_score,3), \"%\")"
   ]
  },
  {
   "cell_type": "code",
   "execution_count": 25,
   "metadata": {
    "ExecuteTime": {
     "end_time": "2019-05-20T07:50:52.476432Z",
     "start_time": "2019-05-20T07:50:52.463422Z"
    }
   },
   "outputs": [
    {
     "name": "stdout",
     "output_type": "stream",
     "text": [
      "PCA trained RF presicion score: 41.6 %\n"
     ]
    },
    {
     "name": "stderr",
     "output_type": "stream",
     "text": [
      "c:\\python\\lib\\site-packages\\sklearn\\metrics\\classification.py:1143: UndefinedMetricWarning: Precision is ill-defined and being set to 0.0 in labels with no predicted samples.\n",
      "  'precision', 'predicted', average, warn_for)\n"
     ]
    }
   ],
   "source": [
    "pca_precision_score = precision_score(y_test, pca_rf_ypred, average=\"macro\")\n",
    "print(\"PCA trained RF presicion score:\", 100*np.round(pca_precision_score,3), \"%\")"
   ]
  },
  {
   "cell_type": "code",
   "execution_count": 26,
   "metadata": {
    "ExecuteTime": {
     "end_time": "2019-05-20T07:50:52.519463Z",
     "start_time": "2019-05-20T07:50:52.511457Z"
    }
   },
   "outputs": [
    {
     "name": "stdout",
     "output_type": "stream",
     "text": [
      "PCA trained RF recall score: 34.300000000000004 %\n"
     ]
    }
   ],
   "source": [
    "pca_recall_score = recall_score(y_test,pca_rf_ypred, average=\"macro\")\n",
    "print(\"PCA trained RF recall score:\", 100*np.round(pca_recall_score,3), \"%\")"
   ]
  },
  {
   "cell_type": "markdown",
   "metadata": {},
   "source": [
    "A ROC curve is plotted for each class."
   ]
  },
  {
   "cell_type": "code",
   "execution_count": 27,
   "metadata": {
    "ExecuteTime": {
     "end_time": "2019-05-20T07:50:52.859493Z",
     "start_time": "2019-05-20T07:50:52.846484Z"
    }
   },
   "outputs": [
    {
     "name": "stderr",
     "output_type": "stream",
     "text": [
      "c:\\python\\lib\\site-packages\\sklearn\\metrics\\ranking.py:656: UndefinedMetricWarning: No positive samples in y_true, true positive value should be meaningless\n",
      "  UndefinedMetricWarning)\n"
     ]
    }
   ],
   "source": [
    "pca_fpr, pca_tpr, pca_roc_auc = calc_fpr_tpr_auc(pca_rf_ypred_prob,n_classes,classes,y_test)"
   ]
  },
  {
   "cell_type": "code",
   "execution_count": 28,
   "metadata": {
    "ExecuteTime": {
     "end_time": "2019-05-20T07:50:53.497378Z",
     "start_time": "2019-05-20T07:50:53.191158Z"
    }
   },
   "outputs": [
    {
     "data": {
      "image/png": "[encoded data removed]",
      "text/plain": [
       "<Figure size 576x576 with 1 Axes>"
      ]
     },
     "metadata": {
      "needs_background": "light"
     },
     "output_type": "display_data"
    }
   ],
   "source": [
    "plot_roc_curves(pca_fpr, pca_tpr, pca_roc_auc,n_classes)"
   ]
  },
  {
   "cell_type": "markdown",
   "metadata": {},
   "source": [
    "AUC scores for each of the classes."
   ]
  },
  {
   "cell_type": "code",
   "execution_count": 29,
   "metadata": {
    "ExecuteTime": {
     "end_time": "2019-05-20T07:50:53.516390Z",
     "start_time": "2019-05-20T07:50:53.511386Z"
    }
   },
   "outputs": [
    {
     "name": "stdout",
     "output_type": "stream",
     "text": [
      "AUC values for RF classifier trained with features selected by PCA\n",
      "Class label: 3 \tAUC: 0.527\n",
      "Class label: 4 \tAUC: 0.628\n",
      "Class label: 5 \tAUC: 0.743\n",
      "Class label: 6 \tAUC: 0.697\n",
      "Class label: 7 \tAUC: 0.747\n",
      "Class label: 8 \tAUC: 0.724\n",
      "Class label: 9 \tAUC: nan\n"
     ]
    }
   ],
   "source": [
    "print(\"AUC values for RF classifier trained with features selected by PCA\")\n",
    "for key,value in pca_roc_auc.items():\n",
    "    print(\"Class label:\", classes[key], \"\\tAUC:\", np.round(value,3))"
   ]
  },
  {
   "cell_type": "markdown",
   "metadata": {},
   "source": [
    "#### MIFS"
   ]
  },
  {
   "cell_type": "code",
   "execution_count": 30,
   "metadata": {
    "ExecuteTime": {
     "end_time": "2019-05-20T07:51:02.548113Z",
     "start_time": "2019-05-20T07:51:02.191010Z"
    }
   },
   "outputs": [],
   "source": [
    "mifs_rf = RandomForestClassifier(n_estimators=100, n_jobs=-1)\n",
    "mifs_rf.fit(X_train[:,mifs_best_subset], y_train) \n",
    "mifs_rf_ypred_prob = mifs_rf.predict_proba(X_test[:,mifs_best_subset])\n",
    "mifs_rf_ypred = np.array( [classes[np.argmax(x)] for x in mifs_rf_ypred_prob] )"
   ]
  },
  {
   "cell_type": "code",
   "execution_count": 31,
   "metadata": {
    "ExecuteTime": {
     "end_time": "2019-05-20T07:51:02.561112Z",
     "start_time": "2019-05-20T07:51:02.552107Z"
    }
   },
   "outputs": [
    {
     "name": "stdout",
     "output_type": "stream",
     "text": [
      "MIFS trained RF accuracy score: 63.800000000000004 %\n"
     ]
    }
   ],
   "source": [
    "mifs_acc_score = accuracy_score(y_test, mifs_rf_ypred)\n",
    "print(\"MIFS trained RF accuracy score:\", 100*round(mifs_acc_score,3), \"%\")"
   ]
  },
  {
   "cell_type": "code",
   "execution_count": 32,
   "metadata": {
    "ExecuteTime": {
     "end_time": "2019-05-20T07:51:02.574122Z",
     "start_time": "2019-05-20T07:51:02.564115Z"
    }
   },
   "outputs": [
    {
     "name": "stdout",
     "output_type": "stream",
     "text": [
      "MIFS trained RF presicion score: 59.0 %\n"
     ]
    },
    {
     "name": "stderr",
     "output_type": "stream",
     "text": [
      "c:\\python\\lib\\site-packages\\sklearn\\metrics\\classification.py:1143: UndefinedMetricWarning: Precision is ill-defined and being set to 0.0 in labels with no predicted samples.\n",
      "  'precision', 'predicted', average, warn_for)\n"
     ]
    }
   ],
   "source": [
    "mifs_precision_score = precision_score(y_test, mifs_rf_ypred, average=\"macro\")\n",
    "print(\"MIFS trained RF presicion score:\", 100*np.round(mifs_precision_score,2), \"%\")"
   ]
  },
  {
   "cell_type": "code",
   "execution_count": 33,
   "metadata": {
    "ExecuteTime": {
     "end_time": "2019-05-20T07:51:02.668241Z",
     "start_time": "2019-05-20T07:51:02.660235Z"
    }
   },
   "outputs": [
    {
     "name": "stdout",
     "output_type": "stream",
     "text": [
      "PCA trained RF recall score: 39.7 %\n"
     ]
    }
   ],
   "source": [
    "mifs_recall_score = recall_score(y_test, mifs_rf_ypred, average=\"macro\")\n",
    "print(\"PCA trained RF recall score:\", 100*np.round(mifs_recall_score,3), \"%\")"
   ]
  },
  {
   "cell_type": "code",
   "execution_count": 34,
   "metadata": {
    "ExecuteTime": {
     "end_time": "2019-05-20T07:51:02.821388Z",
     "start_time": "2019-05-20T07:51:02.809380Z"
    }
   },
   "outputs": [
    {
     "name": "stderr",
     "output_type": "stream",
     "text": [
      "c:\\python\\lib\\site-packages\\sklearn\\metrics\\ranking.py:656: UndefinedMetricWarning: No positive samples in y_true, true positive value should be meaningless\n",
      "  UndefinedMetricWarning)\n"
     ]
    }
   ],
   "source": [
    "mifs_fpr, mifs_tpr, mifs_roc_auc = calc_fpr_tpr_auc(mifs_rf_ypred_prob,n_classes,classes,y_test)"
   ]
  },
  {
   "cell_type": "code",
   "execution_count": 35,
   "metadata": {
    "ExecuteTime": {
     "end_time": "2019-05-20T07:51:03.225745Z",
     "start_time": "2019-05-20T07:51:02.958557Z"
    }
   },
   "outputs": [
    {
     "data": {
      "image/png": "[encoded data removed]",
      "text/plain": [
       "<Figure size 576x576 with 1 Axes>"
      ]
     },
     "metadata": {
      "needs_background": "light"
     },
     "output_type": "display_data"
    }
   ],
   "source": [
    "plot_roc_curves(mifs_fpr, mifs_tpr, mifs_roc_auc,n_classes)"
   ]
  },
  {
   "cell_type": "code",
   "execution_count": 36,
   "metadata": {
    "ExecuteTime": {
     "end_time": "2019-05-20T07:51:03.235753Z",
     "start_time": "2019-05-20T07:51:03.229748Z"
    }
   },
   "outputs": [
    {
     "name": "stdout",
     "output_type": "stream",
     "text": [
      "AUC values for RF classifier trained with features selected by MIFS\n",
      "Class label: 3 \tAUC: 0.543\n",
      "Class label: 4 \tAUC: 0.752\n",
      "Class label: 5 \tAUC: 0.848\n",
      "Class label: 6 \tAUC: 0.791\n",
      "Class label: 7 \tAUC: 0.84\n",
      "Class label: 8 \tAUC: 0.767\n",
      "Class label: 9 \tAUC: nan\n"
     ]
    }
   ],
   "source": [
    "print(\"AUC values for RF classifier trained with features selected by MIFS\")\n",
    "for key,value in mifs_roc_auc.items():\n",
    "    print(\"Class label:\", classes[key], \"\\tAUC:\", np.round(value,3))"
   ]
  },
  {
   "cell_type": "markdown",
   "metadata": {},
   "source": [
    "####  BDS "
   ]
  },
  {
   "cell_type": "code",
   "execution_count": 37,
   "metadata": {
    "ExecuteTime": {
     "end_time": "2019-05-20T07:51:08.516710Z",
     "start_time": "2019-05-20T07:51:08.038266Z"
    }
   },
   "outputs": [],
   "source": [
    "bds_rf = RandomForestClassifier(n_estimators=100, n_jobs=-1)\n",
    "bds_rf.fit(X_train[:,bds_best_subset], y_train) \n",
    "bds_rf_ypred_prob = bds_rf.predict_proba(X_test[:,bds_best_subset])\n",
    "bds_rf_ypred = np.array( [classes[np.argmax(x)] for x in bds_rf_ypred_prob] )"
   ]
  },
  {
   "cell_type": "code",
   "execution_count": 38,
   "metadata": {
    "ExecuteTime": {
     "end_time": "2019-05-20T07:51:08.526718Z",
     "start_time": "2019-05-20T07:51:08.520714Z"
    }
   },
   "outputs": [
    {
     "name": "stdout",
     "output_type": "stream",
     "text": [
      "MIFS trained RF accuracy score: 65.2 %\n"
     ]
    }
   ],
   "source": [
    "bds_acc_score = accuracy_score(y_test, bds_rf_ypred)\n",
    "print(\"MIFS trained RF accuracy score:\", 100*np.round(bds_acc_score,3), \"%\")"
   ]
  },
  {
   "cell_type": "code",
   "execution_count": 39,
   "metadata": {
    "ExecuteTime": {
     "end_time": "2019-05-20T07:51:08.540727Z",
     "start_time": "2019-05-20T07:51:08.529720Z"
    }
   },
   "outputs": [
    {
     "name": "stdout",
     "output_type": "stream",
     "text": [
      "MIFS trained RF presicion score: 56.99999999999999 %\n"
     ]
    },
    {
     "name": "stderr",
     "output_type": "stream",
     "text": [
      "c:\\python\\lib\\site-packages\\sklearn\\metrics\\classification.py:1143: UndefinedMetricWarning: Precision is ill-defined and being set to 0.0 in labels with no predicted samples.\n",
      "  'precision', 'predicted', average, warn_for)\n"
     ]
    }
   ],
   "source": [
    "bds_precision_score = precision_score(y_test, bds_rf_ypred, average=\"macro\")\n",
    "print(\"MIFS trained RF presicion score:\", 100*np.round(bds_precision_score,2), \"%\")"
   ]
  },
  {
   "cell_type": "code",
   "execution_count": 40,
   "metadata": {
    "ExecuteTime": {
     "end_time": "2019-05-20T07:51:08.553736Z",
     "start_time": "2019-05-20T07:51:08.544731Z"
    }
   },
   "outputs": [
    {
     "name": "stdout",
     "output_type": "stream",
     "text": [
      "PCA trained RF recall score: 39.0 %\n"
     ]
    }
   ],
   "source": [
    "bds_recall_score = recall_score(y_test, bds_rf_ypred, average=\"macro\")\n",
    "print(\"PCA trained RF recall score:\", 100*np.round(bds_recall_score,2), \"%\")"
   ]
  },
  {
   "cell_type": "code",
   "execution_count": 41,
   "metadata": {
    "ExecuteTime": {
     "end_time": "2019-05-20T07:51:08.690835Z",
     "start_time": "2019-05-20T07:51:08.678825Z"
    }
   },
   "outputs": [
    {
     "name": "stderr",
     "output_type": "stream",
     "text": [
      "c:\\python\\lib\\site-packages\\sklearn\\metrics\\ranking.py:656: UndefinedMetricWarning: No positive samples in y_true, true positive value should be meaningless\n",
      "  UndefinedMetricWarning)\n"
     ]
    }
   ],
   "source": [
    "bds_fpr, bds_tpr, bds_roc_auc = calc_fpr_tpr_auc(bds_rf_ypred_prob,n_classes,classes,y_test)"
   ]
  },
  {
   "cell_type": "code",
   "execution_count": 42,
   "metadata": {
    "ExecuteTime": {
     "end_time": "2019-05-20T07:51:09.093155Z",
     "start_time": "2019-05-20T07:51:08.823965Z"
    }
   },
   "outputs": [
    {
     "data": {
      "image/png": "[encoded data removed]",
      "text/plain": [
       "<Figure size 576x576 with 1 Axes>"
      ]
     },
     "metadata": {
      "needs_background": "light"
     },
     "output_type": "display_data"
    }
   ],
   "source": [
    "plot_roc_curves(bds_fpr, bds_tpr, bds_roc_auc,n_classes)"
   ]
  },
  {
   "cell_type": "code",
   "execution_count": 43,
   "metadata": {
    "ExecuteTime": {
     "end_time": "2019-05-20T07:51:09.106164Z",
     "start_time": "2019-05-20T07:51:09.096158Z"
    }
   },
   "outputs": [
    {
     "name": "stdout",
     "output_type": "stream",
     "text": [
      "AUC values for RF classifier trained with features selected by BDS\n",
      "Class label: 3 \tAUC: 0.561\n",
      "Class label: 4 \tAUC: 0.804\n",
      "Class label: 5 \tAUC: 0.863\n",
      "Class label: 6 \tAUC: 0.799\n",
      "Class label: 7 \tAUC: 0.859\n",
      "Class label: 8 \tAUC: 0.879\n",
      "Class label: 9 \tAUC: nan\n"
     ]
    }
   ],
   "source": [
    "print(\"AUC values for RF classifier trained with features selected by BDS\")\n",
    "for key,value in bds_roc_auc.items():\n",
    "    print(\"Class label:\", classes[key], \"\\tAUC:\", np.round(value,3))"
   ]
  },
  {
   "cell_type": "markdown",
   "metadata": {},
   "source": [
    "###  Mean AUC for each method"
   ]
  },
  {
   "cell_type": "code",
   "execution_count": 44,
   "metadata": {
    "ExecuteTime": {
     "end_time": "2019-05-20T07:51:11.338723Z",
     "start_time": "2019-05-20T07:51:11.334720Z"
    }
   },
   "outputs": [],
   "source": [
    "def mean_AUC(roc_auc_scores):\n",
    "    aucs = [auc for auc in roc_auc_scores.values() if not np.isnan(auc)]\n",
    "    return np.mean(aucs)"
   ]
  },
  {
   "cell_type": "code",
   "execution_count": 45,
   "metadata": {
    "ExecuteTime": {
     "end_time": "2019-05-20T07:51:11.530641Z",
     "start_time": "2019-05-20T07:51:11.526640Z"
    }
   },
   "outputs": [],
   "source": [
    "mean_aucs = [mean_AUC(auc) for auc in [pca_roc_auc,mifs_roc_auc,bds_roc_auc]]"
   ]
  },
  {
   "cell_type": "markdown",
   "metadata": {},
   "source": [
    "## Results Summary"
   ]
  },
  {
   "cell_type": "markdown",
   "metadata": {},
   "source": [
    "Given the results of the AUC obtained via different feature subset selection methods, a summary table is presented."
   ]
  },
  {
   "cell_type": "code",
   "execution_count": 46,
   "metadata": {
    "ExecuteTime": {
     "end_time": "2019-05-20T07:51:12.020099Z",
     "start_time": "2019-05-20T07:51:12.015094Z"
    }
   },
   "outputs": [],
   "source": [
    "summary = np.array(\n",
    "    [[pca_acc_score, pca_precision_score, pca_recall_score, mean_aucs[0]],\n",
    "    [mifs_acc_score, mifs_precision_score, mifs_recall_score, mean_aucs[1]],\n",
    "    [bds_acc_score, bds_precision_score, bds_recall_score, mean_aucs[2]]]\n",
    ")\n",
    "summary = np.round(summary,3)"
   ]
  },
  {
   "cell_type": "code",
   "execution_count": 47,
   "metadata": {
    "ExecuteTime": {
     "end_time": "2019-05-20T07:51:12.188039Z",
     "start_time": "2019-05-20T07:51:12.184036Z"
    }
   },
   "outputs": [],
   "source": [
    "summary_table = pd.DataFrame(summary, columns=['accuracy', 'precision', 'recall', 'mean AUC'], \n",
    "                             index=[\"PCA\", \"MIFS\", \"BDS\"])"
   ]
  },
  {
   "cell_type": "markdown",
   "metadata": {},
   "source": [
    "Summary table of results obtained after training a random forest classifier via different feature subset selection methods."
   ]
  },
  {
   "cell_type": "code",
   "execution_count": 48,
   "metadata": {
    "ExecuteTime": {
     "end_time": "2019-05-20T07:51:12.956737Z",
     "start_time": "2019-05-20T07:51:12.942726Z"
    }
   },
   "outputs": [
    {
     "data": {
      "text/html": [
       "<div>\n",
       "<style scoped>\n",
       "    .dataframe tbody tr th:only-of-type {\n",
       "        vertical-align: middle;\n",
       "    }\n",
       "\n",
       "    .dataframe tbody tr th {\n",
       "        vertical-align: top;\n",
       "    }\n",
       "\n",
       "    .dataframe thead th {\n",
       "        text-align: right;\n",
       "    }\n",
       "</style>\n",
       "<table border=\"1\" class=\"dataframe\">\n",
       "  <thead>\n",
       "    <tr style=\"text-align: right;\">\n",
       "      <th></th>\n",
       "      <th>accuracy</th>\n",
       "      <th>precision</th>\n",
       "      <th>recall</th>\n",
       "      <th>mean AUC</th>\n",
       "    </tr>\n",
       "  </thead>\n",
       "  <tbody>\n",
       "    <tr>\n",
       "      <th>PCA</th>\n",
       "      <td>0.547</td>\n",
       "      <td>0.416</td>\n",
       "      <td>0.343</td>\n",
       "      <td>0.677</td>\n",
       "    </tr>\n",
       "    <tr>\n",
       "      <th>MIFS</th>\n",
       "      <td>0.638</td>\n",
       "      <td>0.587</td>\n",
       "      <td>0.397</td>\n",
       "      <td>0.757</td>\n",
       "    </tr>\n",
       "    <tr>\n",
       "      <th>BDS</th>\n",
       "      <td>0.652</td>\n",
       "      <td>0.568</td>\n",
       "      <td>0.390</td>\n",
       "      <td>0.794</td>\n",
       "    </tr>\n",
       "  </tbody>\n",
       "</table>\n",
       "</div>"
      ],
      "text/plain": [
       "      accuracy  precision  recall  mean AUC\n",
       "PCA      0.547      0.416   0.343     0.677\n",
       "MIFS     0.638      0.587   0.397     0.757\n",
       "BDS      0.652      0.568   0.390     0.794"
      ]
     },
     "execution_count": 48,
     "metadata": {},
     "output_type": "execute_result"
    }
   ],
   "source": [
    "summary_table"
   ]
  },
  {
   "cell_type": "markdown",
   "metadata": {},
   "source": [
    "It must be noticed that the differences of the results of the MIFS and BDS are not statistically significant and might be due to chance. Additionally the computations required to find the feature subset via de MIFS are significantly lower than those for the BDS method, since it is not necessary to fit a model for every function evaluation, which is the main difference between filter and wrapper methods."
   ]
  }
 ],
 "metadata": {
  "kernelspec": {
   "display_name": "Python 3",
   "language": "python",
   "name": "python3"
  },
  "language_info": {
   "codemirror_mode": {
    "name": "ipython",
    "version": 3
   },
   "file_extension": ".py",
   "mimetype": "text/x-python",
   "name": "python",
   "nbconvert_exporter": "python",
   "pygments_lexer": "ipython3",
   "version": "3.6.7"
  }
 },
 "nbformat": 4,
 "nbformat_minor": 2
}
