{
 "cells": [
  {
   "cell_type": "markdown",
   "id": "c86c585d",
   "metadata": {},
   "source": [
    "# Mean Absolute Deviation (MAD) of Average Absolute Deviation (AAD)\n",
    "[From wikipedia:](https://en.wikipedia.org/wiki/Average_absolute_deviation)\n",
    "\n",
    ">The average absolute deviation (AAD) of a data set is the average of the absolute deviations from a central point. It is a summary statistic of statistical dispersion or variability. In the general form, the central point can be a mean, median, mode, or the result of any other measure of central tendency or any reference value related to the given data set. AAD includes the mean absolute deviation and the median absolute deviation (both abbreviated as MAD). \n",
    "\n",
    "1. Average Absolute Deviation around the mean\n",
    "2. Mean Absolute Deviation around the median\n",
    "3. Median Absolute deviation around the mean\n",
    "4. Median Absolute deviation around the median\n",
    "\n",
    "$ MAD = \\frac{1}{N}\\sum_{i=1}^N |x_i - m(x)| \\quad $ where $m(x)$ might be measure of central tendency, usually the average, median or mode."
   ]
  },
  {
   "cell_type": "markdown",
   "id": "02f4b61a",
   "metadata": {
    "vscode": {
     "languageId": "plaintext"
    }
   },
   "source": [
    "## Real-world example"
   ]
  },
  {
   "cell_type": "code",
   "execution_count": null,
   "id": "51d20210",
   "metadata": {},
   "outputs": [],
   "source": [
    "from sklearn.datasets import load_diabetes\n",
    "from scipy.stats import pareto\n",
    "import pandas as pd"
   ]
  },
  {
   "cell_type": "code",
   "execution_count": 2,
   "id": "7719338b",
   "metadata": {},
   "outputs": [
    {
     "data": {
      "text/html": [
       "<div>\n",
       "<style scoped>\n",
       "    .dataframe tbody tr th:only-of-type {\n",
       "        vertical-align: middle;\n",
       "    }\n",
       "\n",
       "    .dataframe tbody tr th {\n",
       "        vertical-align: top;\n",
       "    }\n",
       "\n",
       "    .dataframe thead th {\n",
       "        text-align: right;\n",
       "    }\n",
       "</style>\n",
       "<table border=\"1\" class=\"dataframe\">\n",
       "  <thead>\n",
       "    <tr style=\"text-align: right;\">\n",
       "      <th></th>\n",
       "      <th>age</th>\n",
       "      <th>sex</th>\n",
       "      <th>bmi</th>\n",
       "      <th>bp</th>\n",
       "      <th>s1</th>\n",
       "      <th>s2</th>\n",
       "      <th>s3</th>\n",
       "      <th>s4</th>\n",
       "      <th>s5</th>\n",
       "      <th>s6</th>\n",
       "      <th>target</th>\n",
       "    </tr>\n",
       "  </thead>\n",
       "  <tbody>\n",
       "    <tr>\n",
       "      <th>0</th>\n",
       "      <td>59.0</td>\n",
       "      <td>2.0</td>\n",
       "      <td>32.1</td>\n",
       "      <td>101.00</td>\n",
       "      <td>157.0</td>\n",
       "      <td>93.2</td>\n",
       "      <td>38.0</td>\n",
       "      <td>4.00</td>\n",
       "      <td>4.8598</td>\n",
       "      <td>87.0</td>\n",
       "      <td>151.0</td>\n",
       "    </tr>\n",
       "    <tr>\n",
       "      <th>1</th>\n",
       "      <td>48.0</td>\n",
       "      <td>1.0</td>\n",
       "      <td>21.6</td>\n",
       "      <td>87.00</td>\n",
       "      <td>183.0</td>\n",
       "      <td>103.2</td>\n",
       "      <td>70.0</td>\n",
       "      <td>3.00</td>\n",
       "      <td>3.8918</td>\n",
       "      <td>69.0</td>\n",
       "      <td>75.0</td>\n",
       "    </tr>\n",
       "    <tr>\n",
       "      <th>2</th>\n",
       "      <td>72.0</td>\n",
       "      <td>2.0</td>\n",
       "      <td>30.5</td>\n",
       "      <td>93.00</td>\n",
       "      <td>156.0</td>\n",
       "      <td>93.6</td>\n",
       "      <td>41.0</td>\n",
       "      <td>4.00</td>\n",
       "      <td>4.6728</td>\n",
       "      <td>85.0</td>\n",
       "      <td>141.0</td>\n",
       "    </tr>\n",
       "    <tr>\n",
       "      <th>3</th>\n",
       "      <td>24.0</td>\n",
       "      <td>1.0</td>\n",
       "      <td>25.3</td>\n",
       "      <td>84.00</td>\n",
       "      <td>198.0</td>\n",
       "      <td>131.4</td>\n",
       "      <td>40.0</td>\n",
       "      <td>5.00</td>\n",
       "      <td>4.8903</td>\n",
       "      <td>89.0</td>\n",
       "      <td>206.0</td>\n",
       "    </tr>\n",
       "    <tr>\n",
       "      <th>4</th>\n",
       "      <td>50.0</td>\n",
       "      <td>1.0</td>\n",
       "      <td>23.0</td>\n",
       "      <td>101.00</td>\n",
       "      <td>192.0</td>\n",
       "      <td>125.4</td>\n",
       "      <td>52.0</td>\n",
       "      <td>4.00</td>\n",
       "      <td>4.2905</td>\n",
       "      <td>80.0</td>\n",
       "      <td>135.0</td>\n",
       "    </tr>\n",
       "    <tr>\n",
       "      <th>...</th>\n",
       "      <td>...</td>\n",
       "      <td>...</td>\n",
       "      <td>...</td>\n",
       "      <td>...</td>\n",
       "      <td>...</td>\n",
       "      <td>...</td>\n",
       "      <td>...</td>\n",
       "      <td>...</td>\n",
       "      <td>...</td>\n",
       "      <td>...</td>\n",
       "      <td>...</td>\n",
       "    </tr>\n",
       "    <tr>\n",
       "      <th>437</th>\n",
       "      <td>60.0</td>\n",
       "      <td>2.0</td>\n",
       "      <td>28.2</td>\n",
       "      <td>112.00</td>\n",
       "      <td>185.0</td>\n",
       "      <td>113.8</td>\n",
       "      <td>42.0</td>\n",
       "      <td>4.00</td>\n",
       "      <td>4.9836</td>\n",
       "      <td>93.0</td>\n",
       "      <td>178.0</td>\n",
       "    </tr>\n",
       "    <tr>\n",
       "      <th>438</th>\n",
       "      <td>47.0</td>\n",
       "      <td>2.0</td>\n",
       "      <td>24.9</td>\n",
       "      <td>75.00</td>\n",
       "      <td>225.0</td>\n",
       "      <td>166.0</td>\n",
       "      <td>42.0</td>\n",
       "      <td>5.00</td>\n",
       "      <td>4.4427</td>\n",
       "      <td>102.0</td>\n",
       "      <td>104.0</td>\n",
       "    </tr>\n",
       "    <tr>\n",
       "      <th>439</th>\n",
       "      <td>60.0</td>\n",
       "      <td>2.0</td>\n",
       "      <td>24.9</td>\n",
       "      <td>99.67</td>\n",
       "      <td>162.0</td>\n",
       "      <td>106.6</td>\n",
       "      <td>43.0</td>\n",
       "      <td>3.77</td>\n",
       "      <td>4.1271</td>\n",
       "      <td>95.0</td>\n",
       "      <td>132.0</td>\n",
       "    </tr>\n",
       "    <tr>\n",
       "      <th>440</th>\n",
       "      <td>36.0</td>\n",
       "      <td>1.0</td>\n",
       "      <td>30.0</td>\n",
       "      <td>95.00</td>\n",
       "      <td>201.0</td>\n",
       "      <td>125.2</td>\n",
       "      <td>42.0</td>\n",
       "      <td>4.79</td>\n",
       "      <td>5.1299</td>\n",
       "      <td>85.0</td>\n",
       "      <td>220.0</td>\n",
       "    </tr>\n",
       "    <tr>\n",
       "      <th>441</th>\n",
       "      <td>36.0</td>\n",
       "      <td>1.0</td>\n",
       "      <td>19.6</td>\n",
       "      <td>71.00</td>\n",
       "      <td>250.0</td>\n",
       "      <td>133.2</td>\n",
       "      <td>97.0</td>\n",
       "      <td>3.00</td>\n",
       "      <td>4.5951</td>\n",
       "      <td>92.0</td>\n",
       "      <td>57.0</td>\n",
       "    </tr>\n",
       "  </tbody>\n",
       "</table>\n",
       "<p>442 rows × 11 columns</p>\n",
       "</div>"
      ],
      "text/plain": [
       "      age  sex   bmi      bp     s1     s2    s3    s4      s5     s6  target\n",
       "0    59.0  2.0  32.1  101.00  157.0   93.2  38.0  4.00  4.8598   87.0   151.0\n",
       "1    48.0  1.0  21.6   87.00  183.0  103.2  70.0  3.00  3.8918   69.0    75.0\n",
       "2    72.0  2.0  30.5   93.00  156.0   93.6  41.0  4.00  4.6728   85.0   141.0\n",
       "3    24.0  1.0  25.3   84.00  198.0  131.4  40.0  5.00  4.8903   89.0   206.0\n",
       "4    50.0  1.0  23.0  101.00  192.0  125.4  52.0  4.00  4.2905   80.0   135.0\n",
       "..    ...  ...   ...     ...    ...    ...   ...   ...     ...    ...     ...\n",
       "437  60.0  2.0  28.2  112.00  185.0  113.8  42.0  4.00  4.9836   93.0   178.0\n",
       "438  47.0  2.0  24.9   75.00  225.0  166.0  42.0  5.00  4.4427  102.0   104.0\n",
       "439  60.0  2.0  24.9   99.67  162.0  106.6  43.0  3.77  4.1271   95.0   132.0\n",
       "440  36.0  1.0  30.0   95.00  201.0  125.2  42.0  4.79  5.1299   85.0   220.0\n",
       "441  36.0  1.0  19.6   71.00  250.0  133.2  97.0  3.00  4.5951   92.0    57.0\n",
       "\n",
       "[442 rows x 11 columns]"
      ]
     },
     "execution_count": 2,
     "metadata": {},
     "output_type": "execute_result"
    }
   ],
   "source": [
    "df = load_diabetes(as_frame=True, scaled=False)\n",
    "df.frame"
   ]
  },
  {
   "cell_type": "code",
   "execution_count": 54,
   "id": "a22d82c2",
   "metadata": {},
   "outputs": [
    {
     "name": "stdout",
     "output_type": "stream",
     "text": [
      "bmi mean: 26.376\n",
      "bmi median: 25.7\n",
      "bmi variance: 19.520\n",
      "bmi standard deviation: 4.418\n",
      "bmi mean absolute deviation around mean: 3.559\n",
      "bmi mean absolute deviation around median: 3.515\n",
      "bmi median absolute deviation around mean: 3.124\n",
      "bmi median absolute deviation around median: 2.900\n",
      "bmi coefficient of variation: 0.168\n",
      "bmi mean AAD ratio: 0.135\n"
     ]
    }
   ],
   "source": [
    "def compute_stats(df, var):\n",
    "    stats = {}\n",
    "    stats[\"median\"] = df[var].median()\n",
    "    stats[\"mean\"] = df[var].mean()\n",
    "    stats[\"variance\"] = df[var].var()\n",
    "    stats[\"std\"] = df[var].std()\n",
    "    stats[\"mean_absolute_deviation_around_mean\"] = abs(df[var] - stats[\"mean\"]).mean()\n",
    "    stats[\"median_absolute_deivation_around_mean\"] = abs(df[var] - stats[\"mean\"]).median()\n",
    "    stats[\"mean_absolute_deviation_around_median\"] = abs(df[var] - stats[\"median\"]).mean()\n",
    "    stats[\"median_absolute_deviation_around_median\"] = abs(df[var] - stats[\"median\"]).median()\n",
    "    stats[\"coefficient_of_variation\"] = stats[\"std\"] / stats[\"mean\"]\n",
    "    stats[\"mean_aad_ratio\"] = stats[\"mean_absolute_deviation_around_mean\"]/stats[\"mean\"]\n",
    "    return stats\n",
    "\n",
    "def print_stats(var, stats):\n",
    "    print(f\"{var} mean: {stats[\"mean\"]:.3f}\")\n",
    "    print(f\"{var} median: {stats[\"median\"]}\")\n",
    "    print(f\"{var} variance: {stats[\"variance\"]:.3f}\")\n",
    "    print(f\"{var} standard deviation: {stats[\"std\"]:.3f}\")\n",
    "    print(f\"{var} mean absolute deviation around mean: {stats[\"mean_absolute_deviation_around_mean\"]:.3f}\")\n",
    "    print(f\"{var} mean absolute deviation around median: {stats[\"mean_absolute_deviation_around_median\"]:.3f}\")\n",
    "    print(f\"{var} median absolute deviation around mean: {stats[\"median_absolute_deivation_around_mean\"]:.3f}\")\n",
    "    print(f\"{var} median absolute deviation around median: {stats[\"median_absolute_deviation_around_median\"]:.3f}\")\n",
    "    print(f\"{var} coefficient of variation: {stats[\"coefficient_of_variation\"]:.3f}\")\n",
    "    print(f\"{var} mean AAD ratio: {stats[\"mean_aad_ratio\"]:.3f}\")\n",
    "\n",
    "var = \"bmi\"\n",
    "bmi_stats = compute_stats(df.frame, var)\n",
    "print_stats(var, bmi_stats)"
   ]
  },
  {
   "cell_type": "markdown",
   "id": "d9474243",
   "metadata": {},
   "source": [
    "The mean absolute deviation from the mean is less than or equal to the standard deviation; one way of proving this relies on Jensen's inequality. \n",
    "\n",
    "Notice: \n",
    "- standard deviation > \n",
    "- mean absolute deviation around mean > \n",
    "- mean absolute deviation around median > \n",
    "- median absolute deviation around mean > \n",
    "- median absolute deviation around median\n",
    "\n",
    "The median absolute deviation is more robust than the mean absolute deviation to outliers.\n",
    "\n",
    "The variance has an interpretability problem when working with data, it is difficult to interpret the value of variance given it has different units than the quantity measured. This problem does not occur for average absolute deviations since the units are the same as the quantity measured."
   ]
  },
  {
   "cell_type": "code",
   "execution_count": 55,
   "id": "2956fde3",
   "metadata": {},
   "outputs": [
    {
     "name": "stdout",
     "output_type": "stream",
     "text": [
      "bp mean: 94.647\n",
      "bp median: 93.0\n",
      "bp variance: 191.304\n",
      "bp standard deviation: 13.831\n",
      "bp mean absolute deviation around mean: 11.410\n",
      "bp mean absolute deviation around median: 11.287\n",
      "bp median absolute deviation around mean: 10.353\n",
      "bp median absolute deviation around median: 10.000\n",
      "bp coefficient of variation: 0.146\n",
      "bp mean AAD ratio: 0.121\n"
     ]
    }
   ],
   "source": [
    "var = \"bp\"\n",
    "bp_stats = compute_stats(df.frame, var)\n",
    "print_stats(var, bp_stats)"
   ]
  },
  {
   "cell_type": "markdown",
   "id": "c2858191",
   "metadata": {},
   "source": [
    "## Interpretability of AAD\n",
    "\n",
    "One can interpret the average absolute deviation from the mean as a measure of dispersion around a central point, in this case, the mean. \n",
    "It represents how far apart we expect a value to be from the central point.\n",
    "It is also useful to compute the dispersion in relative terms, that is, what's the ratio between the AAD and the central point value?\n",
    "The computation is similar and has a similar interpretation to the coefficient of variation ($CV =\\frac{\\sigma}{\\mu}$). \n",
    "\n",
    "For example, from the computations above we see that the AAD of blood pressure (bp) is 12.1% (0.121) of the average value of bp, which has an easier interpretaion than the AAD of 11.4 bp points."
   ]
  },
  {
   "cell_type": "markdown",
   "id": "a1a670e1",
   "metadata": {},
   "source": [
    "## Why do we need to apply absolute value to the deviations?"
   ]
  },
  {
   "cell_type": "markdown",
   "id": "fd24d4e8",
   "metadata": {},
   "source": [
    "What happens if we forget to apply the absolute value to the differences between the values and the mean?"
   ]
  },
  {
   "cell_type": "code",
   "execution_count": 56,
   "id": "ad04a725",
   "metadata": {},
   "outputs": [
    {
     "name": "stdout",
     "output_type": "stream",
     "text": [
      "mean: 26.37579185520362\n",
      "mean of diffs: 4.179663151530001e-16\n"
     ]
    }
   ],
   "source": [
    "var = 'bmi'\n",
    "mean = df.frame[var].mean()\n",
    "diffs = df.frame[var] - mean\n",
    "mean_diffs = diffs.mean()\n",
    "print(f\"mean: {mean}\")\n",
    "print(f\"mean of diffs: {mean_diffs}\")"
   ]
  },
  {
   "cell_type": "markdown",
   "id": "e59db37e",
   "metadata": {},
   "source": [
    "\n",
    "The mean difference from the mean is zero because one can imagine the mean of a sample as the center of mass or centroid of an object. Then, the distances from each data point to the object's center of mass from each side of the mass are balanced. Thus, the mean difference is zero around the object's center of mass. Mathematically:\n",
    "\n",
    "$$ \\overline{x} = \\frac{1}{N}\\sum_{i=1}^N x_i$$\n",
    "$$  \n",
    "\\overline{\\Delta_{\\overline{x}}} = \n",
    "\\frac{1}{N}\\sum_{i=1}^N (x_i - \\overline{x}) = \n",
    "\\frac{1}{N}\\sum_{i=1}^N x_i - \\frac{1}{N}\\sum_{i=1}^N \\overline{x} =\n",
    "\\overline{x} - \\frac{1}{N}\\sum_{i=1}^N \\overline{x} = \n",
    "\\overline{x} - \\frac{N}{N}\\overline{x} = \\overline{x} - \\overline{x} = 0\n",
    "$$\n",
    "\n",
    "This can be interpreted such that the mean of a discrete set of points is the center of mass of a rod where we have placed equal weights at distances given by the data values. The rod origin would be placed at the minimum value in the data, its end at its maximum value, and the computed mean would be the centroid. In this place, one has to put the fulcrum such that the rod is at equilibrium because the weights balance each other out. This interpretation can be easily generalized to more dimensions to signify the center of mass of an object with more dimensions, such as a plane, 3d space, or multidimensional abstract space. \n",
    "\n",
    "As a result, if we forget to apply the absolute value the resulting mean of the differences is uninformative and zero as expected."
   ]
  },
  {
   "cell_type": "markdown",
   "id": "3d62251c",
   "metadata": {},
   "source": [
    "## Robustness\n",
    "The median is more robust to outliers than the mean. The mean is affected by extreme values, while the median is not. \n",
    "For example, if we have a dataset with values [1, 2, 3, 4, 100], the mean is 22, while the median is 3.5. \n",
    "The median is a better measure of central tendency in this case because it is not affected by the extreme value of 100.\n",
    "\n",
    "Thus, for datasets with outliers, the median is usually a better measure of central tendency than the mean."
   ]
  },
  {
   "cell_type": "code",
   "execution_count": 98,
   "id": "db617df7",
   "metadata": {},
   "outputs": [
    {
     "name": "stdout",
     "output_type": "stream",
     "text": [
      "X mean: 58180.645\n",
      "X median: 4.00342235872449\n",
      "X variance: 93557956927324.922\n",
      "X standard deviation: 9672536.220\n",
      "X mean absolute deviation around mean: 115424.967\n",
      "X mean absolute deviation around median: 58178.642\n",
      "X median absolute deviation around mean: 58176.679\n",
      "X median absolute deviation around median: 2.727\n",
      "X coefficient of variation: 166.250\n",
      "X mean AAD ratio: 1.984\n"
     ]
    }
   ],
   "source": [
    "\n",
    "b = 0.5\n",
    "X = pd.DataFrame(pareto.rvs(b=b, size=100000),columns=[\"X\"])\n",
    "x_stats = compute_stats(X, \"X\")\n",
    "print_stats(\"X\", x_stats)"
   ]
  },
  {
   "cell_type": "markdown",
   "id": "41dd83a9",
   "metadata": {},
   "source": [
    "Notice how the mean is much greater than the median. This is a sign of a right-skewed distribution. The mean is affected by the extreme values in the tail of the distribution, while the median is not. For skewed distributions such as the present case, using the average or median will significantly change the result from absolute deviation computations. The median deviations will be more robust to outliers and skewed distributions.\n",
    "\n",
    "[From wikipedia](https://en.wikipedia.org/wiki/Median_absolute_deviation)\n",
    "> Because the median absolute deviation from the median (MADM) is a more robust estimator of scale than the sample variance or standard deviation, it works better with distributions without a mean or variance, such as the Cauchy distribution or pareto distributions for some parameter configuration.\n",
    "> Unlike the variance, which may be infinite or undefined, the population MAD is always a finite number. For example, the standard Cauchy distribution has undefined variance, but its MADM is 1."
   ]
  },
  {
   "cell_type": "markdown",
   "id": "f87b2557",
   "metadata": {},
   "source": [
    "Notice something interesting for the pareto distribution, the sample AAD is half the sample mean and the median deviation from the mean is the sample mean. This occurs only for the particular case where $b=0.5$."
   ]
  },
  {
   "cell_type": "markdown",
   "id": "63a176f5",
   "metadata": {},
   "source": [
    "## Relationship between MADM and distribution percentiles\n",
    "> The population MAD is defined analogously to the sample MAD, but is based on the complete population rather than on a sample. For a symmetric distribution with zero mean, the population MAD is the 75th percentile of the distribution.\n",
    "\n"
   ]
  },
  {
   "cell_type": "markdown",
   "id": "a949fc6e",
   "metadata": {},
   "source": [
    "### TODO\n",
    "Check the fact above with symmetric distributions and attempt to understand the relationship between MADM and distribution percentiles."
   ]
  },
  {
   "cell_type": "code",
   "execution_count": null,
   "id": "353f3cbc",
   "metadata": {},
   "outputs": [
    {
     "data": {
      "text/plain": [
       "array([0.08590945, 0.5       , 0.61660771])"
      ]
     },
     "execution_count": 78,
     "metadata": {},
     "output_type": "execute_result"
    }
   ],
   "source": [
    "# TODO: What's the relationship between the percentile of the distribution and MADM?\n",
    "x_madm = x_stats[\"median_absolute_deviation_around_median\"]\n",
    "pareto.cdf([4-x_madm,4,4+x_madm], b=b)"
   ]
  }
 ],
 "metadata": {
  "kernelspec": {
   "display_name": "Machine-Learning",
   "language": "python",
   "name": "python3"
  },
  "language_info": {
   "codemirror_mode": {
    "name": "ipython",
    "version": 3
   },
   "file_extension": ".py",
   "mimetype": "text/x-python",
   "name": "python",
   "nbconvert_exporter": "python",
   "pygments_lexer": "ipython3",
   "version": "3.13.2"
  }
 },
 "nbformat": 4,
 "nbformat_minor": 5
}
