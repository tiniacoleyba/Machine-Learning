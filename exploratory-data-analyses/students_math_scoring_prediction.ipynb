{
 "cells": [
  {
   "cell_type": "markdown",
   "metadata": {},
   "source": [
    "# Students performance in exams\n",
    "## Javier A. Tiniaco Leyba\n",
    "\n",
    " I will be predicting math scoring of student. Dataset taken from [here](https://www.kaggle.com/spscientist/students-performance-in-exams).\n",
    " \n",
    " It is important to notice that I will suppose that reading and writing scores are not available to predict the math score, since in reality we would not know those scores, because they are usually published together."
   ]
  },
  {
   "cell_type": "code",
   "execution_count": 1,
   "metadata": {
    "ExecuteTime": {
     "end_time": "2019-05-20T20:15:43.482840Z",
     "start_time": "2019-05-20T20:15:40.772911Z"
    }
   },
   "outputs": [
    {
     "name": "stderr",
     "output_type": "stream",
     "text": [
      "Using TensorFlow backend.\n"
     ]
    }
   ],
   "source": [
    "import pandas as pd\n",
    "from keras.models import Sequential\n",
    "from keras.layers import Dense, Activation, Dropout\n",
    "import numpy as np\n",
    "import matplotlib.pyplot as plt\n",
    "from sklearn.model_selection import train_test_split\n",
    "from sklearn.metrics import mean_squared_error"
   ]
  },
  {
   "cell_type": "code",
   "execution_count": 2,
   "metadata": {
    "ExecuteTime": {
     "end_time": "2019-05-20T20:15:43.498854Z",
     "start_time": "2019-05-20T20:15:43.484842Z"
    }
   },
   "outputs": [],
   "source": [
    "# load data\n",
    "data = pd.read_csv('StudentsPerformance.csv')"
   ]
  },
  {
   "cell_type": "markdown",
   "metadata": {},
   "source": [
    "##  Exploratory analysis\n",
    "Let's perform some basic descriptive statistics to understand the dataset."
   ]
  },
  {
   "cell_type": "code",
   "execution_count": 3,
   "metadata": {
    "ExecuteTime": {
     "end_time": "2019-05-20T20:15:43.526874Z",
     "start_time": "2019-05-20T20:15:43.505858Z"
    }
   },
   "outputs": [
    {
     "data": {
      "text/html": [
       "<div>\n",
       "<style scoped>\n",
       "    .dataframe tbody tr th:only-of-type {\n",
       "        vertical-align: middle;\n",
       "    }\n",
       "\n",
       "    .dataframe tbody tr th {\n",
       "        vertical-align: top;\n",
       "    }\n",
       "\n",
       "    .dataframe thead th {\n",
       "        text-align: right;\n",
       "    }\n",
       "</style>\n",
       "<table border=\"1\" class=\"dataframe\">\n",
       "  <thead>\n",
       "    <tr style=\"text-align: right;\">\n",
       "      <th></th>\n",
       "      <th>gender</th>\n",
       "      <th>race/ethnicity</th>\n",
       "      <th>parental level of education</th>\n",
       "      <th>lunch</th>\n",
       "      <th>test preparation course</th>\n",
       "      <th>math score</th>\n",
       "      <th>reading score</th>\n",
       "      <th>writing score</th>\n",
       "    </tr>\n",
       "  </thead>\n",
       "  <tbody>\n",
       "    <tr>\n",
       "      <th>0</th>\n",
       "      <td>female</td>\n",
       "      <td>group B</td>\n",
       "      <td>bachelor's degree</td>\n",
       "      <td>standard</td>\n",
       "      <td>none</td>\n",
       "      <td>72</td>\n",
       "      <td>72</td>\n",
       "      <td>74</td>\n",
       "    </tr>\n",
       "    <tr>\n",
       "      <th>1</th>\n",
       "      <td>female</td>\n",
       "      <td>group C</td>\n",
       "      <td>some college</td>\n",
       "      <td>standard</td>\n",
       "      <td>completed</td>\n",
       "      <td>69</td>\n",
       "      <td>90</td>\n",
       "      <td>88</td>\n",
       "    </tr>\n",
       "    <tr>\n",
       "      <th>2</th>\n",
       "      <td>female</td>\n",
       "      <td>group B</td>\n",
       "      <td>master's degree</td>\n",
       "      <td>standard</td>\n",
       "      <td>none</td>\n",
       "      <td>90</td>\n",
       "      <td>95</td>\n",
       "      <td>93</td>\n",
       "    </tr>\n",
       "    <tr>\n",
       "      <th>3</th>\n",
       "      <td>male</td>\n",
       "      <td>group A</td>\n",
       "      <td>associate's degree</td>\n",
       "      <td>free/reduced</td>\n",
       "      <td>none</td>\n",
       "      <td>47</td>\n",
       "      <td>57</td>\n",
       "      <td>44</td>\n",
       "    </tr>\n",
       "    <tr>\n",
       "      <th>4</th>\n",
       "      <td>male</td>\n",
       "      <td>group C</td>\n",
       "      <td>some college</td>\n",
       "      <td>standard</td>\n",
       "      <td>none</td>\n",
       "      <td>76</td>\n",
       "      <td>78</td>\n",
       "      <td>75</td>\n",
       "    </tr>\n",
       "  </tbody>\n",
       "</table>\n",
       "</div>"
      ],
      "text/plain": [
       "   gender race/ethnicity parental level of education         lunch  \\\n",
       "0  female        group B           bachelor's degree      standard   \n",
       "1  female        group C                some college      standard   \n",
       "2  female        group B             master's degree      standard   \n",
       "3    male        group A          associate's degree  free/reduced   \n",
       "4    male        group C                some college      standard   \n",
       "\n",
       "  test preparation course  math score  reading score  writing score  \n",
       "0                    none          72             72             74  \n",
       "1               completed          69             90             88  \n",
       "2                    none          90             95             93  \n",
       "3                    none          47             57             44  \n",
       "4                    none          76             78             75  "
      ]
     },
     "execution_count": 3,
     "metadata": {},
     "output_type": "execute_result"
    }
   ],
   "source": [
    "data.head()"
   ]
  },
  {
   "cell_type": "markdown",
   "metadata": {},
   "source": [
    "Let's make sure there are no missing values, and impute them ih there are."
   ]
  },
  {
   "cell_type": "code",
   "execution_count": 4,
   "metadata": {
    "ExecuteTime": {
     "end_time": "2019-05-20T20:15:43.541884Z",
     "start_time": "2019-05-20T20:15:43.530875Z"
    }
   },
   "outputs": [
    {
     "name": "stdout",
     "output_type": "stream",
     "text": [
      "<class 'pandas.core.frame.DataFrame'>\n",
      "RangeIndex: 1000 entries, 0 to 999\n",
      "Data columns (total 8 columns):\n",
      "gender                         1000 non-null object\n",
      "race/ethnicity                 1000 non-null object\n",
      "parental level of education    1000 non-null object\n",
      "lunch                          1000 non-null object\n",
      "test preparation course        1000 non-null object\n",
      "math score                     1000 non-null int64\n",
      "reading score                  1000 non-null int64\n",
      "writing score                  1000 non-null int64\n",
      "dtypes: int64(3), object(5)\n",
      "memory usage: 62.6+ KB\n"
     ]
    }
   ],
   "source": [
    "data.info()"
   ]
  },
  {
   "cell_type": "markdown",
   "metadata": {},
   "source": [
    "We can see from above that there are no missing values, also, we have 1000 samples."
   ]
  },
  {
   "cell_type": "markdown",
   "metadata": {},
   "source": [
    "### Explore each feature\n",
    "Since there are only a few features, we can explore them all manually to understand the distribution of each feature, which will be useful to choose how to make then normalization. We will ignore scoring for now since those are numeric features, and explre first the categorical ones."
   ]
  },
  {
   "cell_type": "code",
   "execution_count": 5,
   "metadata": {
    "ExecuteTime": {
     "end_time": "2019-05-20T20:15:43.552890Z",
     "start_time": "2019-05-20T20:15:43.547888Z"
    }
   },
   "outputs": [],
   "source": [
    "features = [data[feat].unique() for feat in data.keys()]"
   ]
  },
  {
   "cell_type": "code",
   "execution_count": 6,
   "metadata": {
    "ExecuteTime": {
     "end_time": "2019-05-20T20:15:43.561897Z",
     "start_time": "2019-05-20T20:15:43.555893Z"
    }
   },
   "outputs": [
    {
     "data": {
      "text/plain": [
       "[array(['female', 'male'], dtype=object),\n",
       " array(['group B', 'group C', 'group A', 'group D', 'group E'],\n",
       "       dtype=object),\n",
       " array([\"bachelor's degree\", 'some college', \"master's degree\",\n",
       "        \"associate's degree\", 'high school', 'some high school'],\n",
       "       dtype=object),\n",
       " array(['standard', 'free/reduced'], dtype=object),\n",
       " array(['none', 'completed'], dtype=object)]"
      ]
     },
     "execution_count": 6,
     "metadata": {},
     "output_type": "execute_result"
    }
   ],
   "source": [
    "# Show categorical features, ignore numeric ones\n",
    "features[:-3]"
   ]
  },
  {
   "cell_type": "markdown",
   "metadata": {},
   "source": [
    "Simple anonymous function to plot features in a bar graph."
   ]
  },
  {
   "cell_type": "code",
   "execution_count": 7,
   "metadata": {
    "ExecuteTime": {
     "end_time": "2019-05-20T20:15:43.574907Z",
     "start_time": "2019-05-20T20:15:43.567903Z"
    }
   },
   "outputs": [],
   "source": [
    "barplot = lambda text: data[text].value_counts().plot(kind='bar'); plt.show();"
   ]
  },
  {
   "cell_type": "markdown",
   "metadata": {
    "ExecuteTime": {
     "end_time": "2019-05-20T17:17:56.412607Z",
     "start_time": "2019-05-20T17:17:56.128760Z"
    }
   },
   "source": [
    "##### Gender"
   ]
  },
  {
   "cell_type": "code",
   "execution_count": 8,
   "metadata": {
    "ExecuteTime": {
     "end_time": "2019-05-20T20:15:43.702998Z",
     "start_time": "2019-05-20T20:15:43.576910Z"
    }
   },
   "outputs": [
    {
     "data": {
      "image/png": "[encoded data removed]",
      "text/plain": [
       "<Figure size 432x288 with 1 Axes>"
      ]
     },
     "metadata": {
      "needs_background": "light"
     },
     "output_type": "display_data"
    }
   ],
   "source": [
    "barplot('gender')\n",
    "plt.show()"
   ]
  },
  {
   "cell_type": "code",
   "execution_count": 9,
   "metadata": {
    "ExecuteTime": {
     "end_time": "2019-05-20T20:15:43.713006Z",
     "start_time": "2019-05-20T20:15:43.706001Z"
    }
   },
   "outputs": [
    {
     "data": {
      "text/plain": [
       "female    518\n",
       "male      482\n",
       "Name: gender, dtype: int64"
      ]
     },
     "execution_count": 9,
     "metadata": {},
     "output_type": "execute_result"
    }
   ],
   "source": [
    "data['gender'].value_counts()"
   ]
  },
  {
   "cell_type": "markdown",
   "metadata": {},
   "source": [
    "Gender seem to be balanced in the data. So the the feature can be encoded as a binary variable, with two values: {0,1}"
   ]
  },
  {
   "cell_type": "markdown",
   "metadata": {},
   "source": [
    "##### Race/ethnicity"
   ]
  },
  {
   "cell_type": "code",
   "execution_count": 10,
   "metadata": {
    "ExecuteTime": {
     "end_time": "2019-05-20T20:15:43.846100Z",
     "start_time": "2019-05-20T20:15:43.718009Z"
    }
   },
   "outputs": [
    {
     "data": {
      "image/png": "[encoded data removed]",
      "text/plain": [
       "<Figure size 432x288 with 1 Axes>"
      ]
     },
     "metadata": {
      "needs_background": "light"
     },
     "output_type": "display_data"
    }
   ],
   "source": [
    "barplot('race/ethnicity')\n",
    "plt.show()"
   ]
  },
  {
   "cell_type": "code",
   "execution_count": 11,
   "metadata": {
    "ExecuteTime": {
     "end_time": "2019-05-20T20:15:43.855106Z",
     "start_time": "2019-05-20T20:15:43.848101Z"
    }
   },
   "outputs": [
    {
     "data": {
      "text/plain": [
       "group C    319\n",
       "group D    262\n",
       "group B    190\n",
       "group E    140\n",
       "group A     89\n",
       "Name: race/ethnicity, dtype: int64"
      ]
     },
     "execution_count": 11,
     "metadata": {},
     "output_type": "execute_result"
    }
   ],
   "source": [
    "data['race/ethnicity'].value_counts()"
   ]
  },
  {
   "cell_type": "markdown",
   "metadata": {},
   "source": [
    "In this case, we see that groups are distributed linearly, so we can normalize this feature linearly."
   ]
  },
  {
   "cell_type": "markdown",
   "metadata": {},
   "source": [
    "#### parental level of education"
   ]
  },
  {
   "cell_type": "code",
   "execution_count": 12,
   "metadata": {
    "ExecuteTime": {
     "end_time": "2019-05-20T20:15:44.002213Z",
     "start_time": "2019-05-20T20:15:43.858108Z"
    }
   },
   "outputs": [
    {
     "data": {
      "image/png": "[encoded data removed]",
      "text/plain": [
       "<Figure size 432x288 with 1 Axes>"
      ]
     },
     "metadata": {
      "needs_background": "light"
     },
     "output_type": "display_data"
    }
   ],
   "source": [
    "barplot('parental level of education')\n",
    "plt.show()"
   ]
  },
  {
   "cell_type": "code",
   "execution_count": 13,
   "metadata": {
    "ExecuteTime": {
     "end_time": "2019-05-20T20:15:44.011218Z",
     "start_time": "2019-05-20T20:15:44.004212Z"
    }
   },
   "outputs": [
    {
     "data": {
      "text/plain": [
       "some college          226\n",
       "associate's degree    222\n",
       "high school           196\n",
       "some high school      179\n",
       "bachelor's degree     118\n",
       "master's degree        59\n",
       "Name: parental level of education, dtype: int64"
      ]
     },
     "execution_count": 13,
     "metadata": {},
     "output_type": "execute_result"
    }
   ],
   "source": [
    "data['parental level of education'].value_counts()"
   ]
  },
  {
   "cell_type": "markdown",
   "metadata": {},
   "source": [
    "This is not linear but it could be approximated as such, since there are no wild variations, but we can also try a parabolic normalization or a gaussian, which seems to fit best the data."
   ]
  },
  {
   "cell_type": "markdown",
   "metadata": {},
   "source": [
    "#### lunch"
   ]
  },
  {
   "cell_type": "code",
   "execution_count": 14,
   "metadata": {
    "ExecuteTime": {
     "end_time": "2019-05-20T20:15:44.126300Z",
     "start_time": "2019-05-20T20:15:44.016221Z"
    }
   },
   "outputs": [
    {
     "data": {
      "image/png": "[encoded data removed]",
      "text/plain": [
       "<Figure size 432x288 with 1 Axes>"
      ]
     },
     "metadata": {
      "needs_background": "light"
     },
     "output_type": "display_data"
    }
   ],
   "source": [
    "barplot('lunch')\n",
    "plt.show()"
   ]
  },
  {
   "cell_type": "code",
   "execution_count": 15,
   "metadata": {
    "ExecuteTime": {
     "end_time": "2019-05-20T20:15:44.135307Z",
     "start_time": "2019-05-20T20:15:44.129302Z"
    }
   },
   "outputs": [
    {
     "data": {
      "text/plain": [
       "standard        645\n",
       "free/reduced    355\n",
       "Name: lunch, dtype: int64"
      ]
     },
     "execution_count": 15,
     "metadata": {},
     "output_type": "execute_result"
    }
   ],
   "source": [
    "data['lunch'].value_counts()"
   ]
  },
  {
   "cell_type": "markdown",
   "metadata": {},
   "source": [
    "The class is not balanced but, we can codify it by a binary variable, since we only have two classes:"
   ]
  },
  {
   "cell_type": "markdown",
   "metadata": {},
   "source": [
    "#### test preparation course"
   ]
  },
  {
   "cell_type": "code",
   "execution_count": 16,
   "metadata": {
    "ExecuteTime": {
     "end_time": "2019-05-20T20:15:44.254390Z",
     "start_time": "2019-05-20T20:15:44.137308Z"
    }
   },
   "outputs": [
    {
     "data": {
      "image/png": "[encoded data removed]",
      "text/plain": [
       "<Figure size 432x288 with 1 Axes>"
      ]
     },
     "metadata": {
      "needs_background": "light"
     },
     "output_type": "display_data"
    }
   ],
   "source": [
    "barplot('test preparation course')\n",
    "plt.show()"
   ]
  },
  {
   "cell_type": "code",
   "execution_count": 17,
   "metadata": {
    "ExecuteTime": {
     "end_time": "2019-05-20T20:15:44.271404Z",
     "start_time": "2019-05-20T20:15:44.261396Z"
    }
   },
   "outputs": [
    {
     "data": {
      "text/plain": [
       "none         642\n",
       "completed    358\n",
       "Name: test preparation course, dtype: int64"
      ]
     },
     "execution_count": 17,
     "metadata": {},
     "output_type": "execute_result"
    }
   ],
   "source": [
    "data['test preparation course'].value_counts()"
   ]
  },
  {
   "cell_type": "markdown",
   "metadata": {},
   "source": [
    "Unbalanced, binary feature that can be codified as a binary number."
   ]
  },
  {
   "cell_type": "markdown",
   "metadata": {},
   "source": [
    "### Fetures to numeric data\n",
    "Now that we know how the features are distributed, we need to codify them so that the neural network can work. First, we will make a deepcopy of the original dataframe to avoid damaging the data."
   ]
  },
  {
   "cell_type": "code",
   "execution_count": 18,
   "metadata": {
    "ExecuteTime": {
     "end_time": "2019-05-20T20:15:44.286413Z",
     "start_time": "2019-05-20T20:15:44.281410Z"
    }
   },
   "outputs": [],
   "source": [
    "# default copy of DataFrame object is deep\n",
    "num_data = data.copy()"
   ]
  },
  {
   "cell_type": "code",
   "execution_count": 19,
   "metadata": {
    "ExecuteTime": {
     "end_time": "2019-05-20T20:15:44.317436Z",
     "start_time": "2019-05-20T20:15:44.291417Z"
    }
   },
   "outputs": [],
   "source": [
    "num_data['gender'].replace({'male':1, 'female':-1}, inplace=True)\n",
    "\n",
    "num_data['lunch'].replace({'standard':1, 'free/reduced':-1}, inplace=True)\n",
    "\n",
    "num_data['test preparation course'].replace({'completed':1, 'none':-1}, inplace=True)\n",
    "\n",
    "num_data['parental level of education'].replace({\n",
    "    \"master's degree\":0, \n",
    "    \"bachelor's degree\":1,\n",
    "    'some high school':2,\n",
    "    'high school':3,\n",
    "    \"associate's degree\":4,\n",
    "    'some college':5}, inplace=True)\n",
    "\n",
    "num_data['race/ethnicity'].replace({\n",
    "    'group A':0, \n",
    "    'group E':1,\n",
    "    'group B':2,\n",
    "    'group D':3,\n",
    "    'group C':4}, inplace=True)"
   ]
  },
  {
   "cell_type": "markdown",
   "metadata": {},
   "source": [
    "Now we have the data with numeric values, but we need to normallize, because the convergence of neural networks is usually improved when data is normalized. The only features left to normalize are \"race/ethnicity\" and \"parental level of education\"."
   ]
  },
  {
   "cell_type": "code",
   "execution_count": 20,
   "metadata": {
    "ExecuteTime": {
     "end_time": "2019-05-20T20:15:44.335448Z",
     "start_time": "2019-05-20T20:15:44.319437Z"
    }
   },
   "outputs": [
    {
     "data": {
      "text/html": [
       "<div>\n",
       "<style scoped>\n",
       "    .dataframe tbody tr th:only-of-type {\n",
       "        vertical-align: middle;\n",
       "    }\n",
       "\n",
       "    .dataframe tbody tr th {\n",
       "        vertical-align: top;\n",
       "    }\n",
       "\n",
       "    .dataframe thead th {\n",
       "        text-align: right;\n",
       "    }\n",
       "</style>\n",
       "<table border=\"1\" class=\"dataframe\">\n",
       "  <thead>\n",
       "    <tr style=\"text-align: right;\">\n",
       "      <th></th>\n",
       "      <th>gender</th>\n",
       "      <th>race/ethnicity</th>\n",
       "      <th>parental level of education</th>\n",
       "      <th>lunch</th>\n",
       "      <th>test preparation course</th>\n",
       "      <th>math score</th>\n",
       "      <th>reading score</th>\n",
       "      <th>writing score</th>\n",
       "    </tr>\n",
       "  </thead>\n",
       "  <tbody>\n",
       "    <tr>\n",
       "      <th>0</th>\n",
       "      <td>-1</td>\n",
       "      <td>2</td>\n",
       "      <td>1</td>\n",
       "      <td>1</td>\n",
       "      <td>-1</td>\n",
       "      <td>72</td>\n",
       "      <td>72</td>\n",
       "      <td>74</td>\n",
       "    </tr>\n",
       "    <tr>\n",
       "      <th>1</th>\n",
       "      <td>-1</td>\n",
       "      <td>4</td>\n",
       "      <td>5</td>\n",
       "      <td>1</td>\n",
       "      <td>1</td>\n",
       "      <td>69</td>\n",
       "      <td>90</td>\n",
       "      <td>88</td>\n",
       "    </tr>\n",
       "    <tr>\n",
       "      <th>2</th>\n",
       "      <td>-1</td>\n",
       "      <td>2</td>\n",
       "      <td>0</td>\n",
       "      <td>1</td>\n",
       "      <td>-1</td>\n",
       "      <td>90</td>\n",
       "      <td>95</td>\n",
       "      <td>93</td>\n",
       "    </tr>\n",
       "    <tr>\n",
       "      <th>3</th>\n",
       "      <td>1</td>\n",
       "      <td>0</td>\n",
       "      <td>4</td>\n",
       "      <td>-1</td>\n",
       "      <td>-1</td>\n",
       "      <td>47</td>\n",
       "      <td>57</td>\n",
       "      <td>44</td>\n",
       "    </tr>\n",
       "    <tr>\n",
       "      <th>4</th>\n",
       "      <td>1</td>\n",
       "      <td>4</td>\n",
       "      <td>5</td>\n",
       "      <td>1</td>\n",
       "      <td>-1</td>\n",
       "      <td>76</td>\n",
       "      <td>78</td>\n",
       "      <td>75</td>\n",
       "    </tr>\n",
       "  </tbody>\n",
       "</table>\n",
       "</div>"
      ],
      "text/plain": [
       "   gender  race/ethnicity  parental level of education  lunch  \\\n",
       "0      -1               2                            1      1   \n",
       "1      -1               4                            5      1   \n",
       "2      -1               2                            0      1   \n",
       "3       1               0                            4     -1   \n",
       "4       1               4                            5      1   \n",
       "\n",
       "   test preparation course  math score  reading score  writing score  \n",
       "0                       -1          72             72             74  \n",
       "1                        1          69             90             88  \n",
       "2                       -1          90             95             93  \n",
       "3                       -1          47             57             44  \n",
       "4                       -1          76             78             75  "
      ]
     },
     "execution_count": 20,
     "metadata": {},
     "output_type": "execute_result"
    }
   ],
   "source": [
    "num_data.head(5)"
   ]
  },
  {
   "cell_type": "markdown",
   "metadata": {},
   "source": [
    "### Normalization"
   ]
  },
  {
   "cell_type": "code",
   "execution_count": 21,
   "metadata": {
    "ExecuteTime": {
     "end_time": "2019-05-20T20:15:44.344454Z",
     "start_time": "2019-05-20T20:15:44.338451Z"
    }
   },
   "outputs": [],
   "source": [
    "def linear_normalization(vector):\n",
    "    \"\"\"Vector is a numpy 1D array\"\"\"\n",
    "    mean = vector.mean()\n",
    "    interval = vector.max() - vector.min()\n",
    "    return (vector - mean) / interval"
   ]
  },
  {
   "cell_type": "code",
   "execution_count": 22,
   "metadata": {
    "ExecuteTime": {
     "end_time": "2019-05-20T20:15:44.354461Z",
     "start_time": "2019-05-20T20:15:44.348458Z"
    }
   },
   "outputs": [],
   "source": [
    "X = np.array(num_data.iloc[:,:5]).astype(np.float)\n",
    "Y = np.array(data['math score'])"
   ]
  },
  {
   "cell_type": "code",
   "execution_count": 23,
   "metadata": {
    "ExecuteTime": {
     "end_time": "2019-05-20T20:15:44.362468Z",
     "start_time": "2019-05-20T20:15:44.357464Z"
    }
   },
   "outputs": [],
   "source": [
    "X[:,1] = linear_normalization(X[:,1])"
   ]
  },
  {
   "cell_type": "code",
   "execution_count": 24,
   "metadata": {
    "ExecuteTime": {
     "end_time": "2019-05-20T20:15:44.371475Z",
     "start_time": "2019-05-20T20:15:44.365471Z"
    }
   },
   "outputs": [],
   "source": [
    "X[:,2] = linear_normalization(X[:,2])"
   ]
  },
  {
   "cell_type": "markdown",
   "metadata": {},
   "source": [
    "## Modeling"
   ]
  },
  {
   "cell_type": "markdown",
   "metadata": {},
   "source": [
    "I decided to use keras because the data is simple, so there is no need to craft optimizers or loss functions. If it were necesarry, tensorflow would be a better option, because it is a low level library. \n",
    "\n",
    " Notice that since we hava few samples, we are using MSE as loss function, even though mean squared logarithmic error (MSLE) is usually preferable for regression problems. I am doing this because MLSE is makes it harder for the NN to converge, which is a problem when there are few samples."
   ]
  },
  {
   "cell_type": "markdown",
   "metadata": {},
   "source": [
    "#### Spliting train, test sets"
   ]
  },
  {
   "cell_type": "markdown",
   "metadata": {},
   "source": [
    "40% of the samples are kept for testing, and a random state set for reproducibility."
   ]
  },
  {
   "cell_type": "code",
   "execution_count": 25,
   "metadata": {
    "ExecuteTime": {
     "end_time": "2019-05-20T20:15:44.378480Z",
     "start_time": "2019-05-20T20:15:44.373476Z"
    }
   },
   "outputs": [],
   "source": [
    "X_train, X_test, y_train, y_test = train_test_split(X, Y, test_size=0.4, random_state=0)"
   ]
  },
  {
   "cell_type": "markdown",
   "metadata": {},
   "source": [
    "#### Actual NN model, simple MLP\n",
    "Since the problem is simple, a multilayer perceptron is good enought to obtain decent results. I am following the [Occam's razor principle](https://en.wikipedia.org/wiki/Occam%27s_razor) here."
   ]
  },
  {
   "cell_type": "code",
   "execution_count": 26,
   "metadata": {
    "ExecuteTime": {
     "end_time": "2019-05-20T20:15:44.387485Z",
     "start_time": "2019-05-20T20:15:44.382483Z"
    }
   },
   "outputs": [],
   "source": [
    "def MLP(optimizer = 'sgd', loss = 'mean_squared_error', drop=0.25, neurons=20, activation = 'sigmoid'):\n",
    "    model = Sequential([\n",
    "        # Careful, overfit\n",
    "        Dropout(drop),\n",
    "        Dense(neurons, input_shape=(5,)),\n",
    "        # Activations: 'tanh', 'sigmoid', 'relu'\n",
    "        Activation(activation),\n",
    "        Dense(1)\n",
    "        # Activation('relu'),\n",
    "        ])\n",
    "\n",
    "    model.compile(optimizer=optimizer,\n",
    "                  loss=loss)\n",
    "    return model"
   ]
  },
  {
   "cell_type": "code",
   "execution_count": 27,
   "metadata": {
    "ExecuteTime": {
     "end_time": "2019-05-20T20:15:44.432517Z",
     "start_time": "2019-05-20T20:15:44.391489Z"
    }
   },
   "outputs": [],
   "source": [
    "model = MLP('sgd', 'mean_squared_error')"
   ]
  },
  {
   "cell_type": "markdown",
   "metadata": {},
   "source": [
    "#### Model training"
   ]
  },
  {
   "cell_type": "code",
   "execution_count": 28,
   "metadata": {
    "ExecuteTime": {
     "end_time": "2019-05-20T20:15:48.452699Z",
     "start_time": "2019-05-20T20:15:44.434520Z"
    }
   },
   "outputs": [
    {
     "name": "stdout",
     "output_type": "stream",
     "text": [
      "Epoch 1/25\n",
      "600/600 [==============================] - 1s 2ms/step - loss: 970.5844\n",
      "Epoch 2/25\n",
      "600/600 [==============================] - 0s 142us/step - loss: 210.6462\n",
      "Epoch 3/25\n",
      "600/600 [==============================] - 0s 138us/step - loss: 214.0251\n",
      "Epoch 4/25\n",
      "600/600 [==============================] - 0s 143us/step - loss: 212.7119\n",
      "Epoch 5/25\n",
      "600/600 [==============================] - 0s 190us/step - loss: 214.4375\n",
      "Epoch 6/25\n",
      "600/600 [==============================] - 0s 163us/step - loss: 213.2297\n",
      "Epoch 7/25\n",
      "600/600 [==============================] - 0s 142us/step - loss: 216.4873\n",
      "Epoch 8/25\n",
      "600/600 [==============================] - 0s 145us/step - loss: 205.3999\n",
      "Epoch 9/25\n",
      "600/600 [==============================] - 0s 138us/step - loss: 218.4415\n",
      "Epoch 10/25\n",
      "600/600 [==============================] - 0s 147us/step - loss: 214.9469\n",
      "Epoch 11/25\n",
      "600/600 [==============================] - 0s 158us/step - loss: 205.4049\n",
      "Epoch 12/25\n",
      "600/600 [==============================] - 0s 150us/step - loss: 215.5055\n",
      "Epoch 13/25\n",
      "600/600 [==============================] - 0s 143us/step - loss: 207.1874\n",
      "Epoch 14/25\n",
      "600/600 [==============================] - 0s 157us/step - loss: 209.1279\n",
      "Epoch 15/25\n",
      "600/600 [==============================] - 0s 162us/step - loss: 214.2125\n",
      "Epoch 16/25\n",
      "600/600 [==============================] - 0s 168us/step - loss: 212.6566\n",
      "Epoch 17/25\n",
      "600/600 [==============================] - 0s 157us/step - loss: 213.9871\n",
      "Epoch 18/25\n",
      "600/600 [==============================] - 0s 173us/step - loss: 205.3137\n",
      "Epoch 19/25\n",
      "600/600 [==============================] - 0s 157us/step - loss: 210.5968\n",
      "Epoch 20/25\n",
      "600/600 [==============================] - 0s 153us/step - loss: 207.3735\n",
      "Epoch 21/25\n",
      "600/600 [==============================] - 0s 157us/step - loss: 205.8597\n",
      "Epoch 22/25\n",
      "600/600 [==============================] - 0s 153us/step - loss: 208.4472\n",
      "Epoch 23/25\n",
      "600/600 [==============================] - 0s 152us/step - loss: 210.7875\n",
      "Epoch 24/25\n",
      "600/600 [==============================] - 0s 162us/step - loss: 213.9887\n",
      "Epoch 25/25\n",
      "600/600 [==============================] - 0s 153us/step - loss: 205.6328\n"
     ]
    },
    {
     "data": {
      "text/plain": [
       "<keras.callbacks.History at 0x4e3bd8ada0>"
      ]
     },
     "execution_count": 28,
     "metadata": {},
     "output_type": "execute_result"
    }
   ],
   "source": [
    "model.fit(X_train, y_train, epochs=25, verbose=1)"
   ]
  },
  {
   "cell_type": "markdown",
   "metadata": {},
   "source": [
    "## Model evaluation"
   ]
  },
  {
   "cell_type": "code",
   "execution_count": 29,
   "metadata": {
    "ExecuteTime": {
     "end_time": "2019-05-20T20:15:48.508738Z",
     "start_time": "2019-05-20T20:15:48.455701Z"
    }
   },
   "outputs": [],
   "source": [
    "# predictions\n",
    "y_pred = model.predict(X_test)"
   ]
  },
  {
   "cell_type": "markdown",
   "metadata": {},
   "source": [
    "Visual way of checking results. A clear linear relation means better results, since predictions are closer to real values."
   ]
  },
  {
   "cell_type": "code",
   "execution_count": 30,
   "metadata": {
    "ExecuteTime": {
     "end_time": "2019-05-20T20:15:48.649840Z",
     "start_time": "2019-05-20T20:15:48.510740Z"
    }
   },
   "outputs": [
    {
     "data": {
      "image/png": "[encoded data removed]",
      "text/plain": [
       "<Figure size 432x288 with 1 Axes>"
      ]
     },
     "metadata": {
      "needs_background": "light"
     },
     "output_type": "display_data"
    }
   ],
   "source": [
    "plt.scatter(y_pred, y_test);\n",
    "plt.xlabel('predicted y')\n",
    "plt.ylabel('actual y')\n",
    "plt.title('Predictions vs true values')\n",
    "plt.show()"
   ]
  },
  {
   "cell_type": "markdown",
   "metadata": {},
   "source": [
    "Calculate test MSE."
   ]
  },
  {
   "cell_type": "code",
   "execution_count": 31,
   "metadata": {
    "ExecuteTime": {
     "end_time": "2019-05-20T20:15:48.656843Z",
     "start_time": "2019-05-20T20:15:48.651840Z"
    }
   },
   "outputs": [
    {
     "data": {
      "text/plain": [
       "178.0899131270697"
      ]
     },
     "execution_count": 31,
     "metadata": {},
     "output_type": "execute_result"
    }
   ],
   "source": [
    "test_mse = mean_squared_error(y_pred, y_test)\n",
    "test_mse"
   ]
  },
  {
   "cell_type": "markdown",
   "metadata": {},
   "source": [
    "At this point the model is scoring better in the test set than in the training set, probably due to underfitting since I used only 25 epochs and NN parameters were not tuned, since it was not the purpose of this analysis. However, tje results obtained are already decent."
   ]
  },
  {
   "cell_type": "code",
   "execution_count": 32,
   "metadata": {
    "ExecuteTime": {
     "end_time": "2019-05-20T20:15:48.667863Z",
     "start_time": "2019-05-20T20:15:48.660847Z"
    }
   },
   "outputs": [
    {
     "data": {
      "text/plain": [
       "array([[1.        , 0.42449272],\n",
       "       [0.42449272, 1.        ]])"
      ]
     },
     "execution_count": 32,
     "metadata": {},
     "output_type": "execute_result"
    }
   ],
   "source": [
    "corr = np.corrcoef([y_pred.flatten(),y_test])\n",
    "corr"
   ]
  },
  {
   "cell_type": "markdown",
   "metadata": {},
   "source": [
    "A correlation between predictions and true values of 0.42 is obtained, which is ceirtanly not great, but is ok if we consider that we only have 5 predictors for a complex problem, for which we lack information."
   ]
  },
  {
   "cell_type": "markdown",
   "metadata": {},
   "source": [
    "### Model interpretability"
   ]
  },
  {
   "cell_type": "markdown",
   "metadata": {},
   "source": [
    "A very simple shallow Neural Network was used with only a few parameters. "
   ]
  },
  {
   "cell_type": "code",
   "execution_count": 33,
   "metadata": {
    "ExecuteTime": {
     "end_time": "2019-05-20T20:15:48.681862Z",
     "start_time": "2019-05-20T20:15:48.670855Z"
    }
   },
   "outputs": [
    {
     "name": "stdout",
     "output_type": "stream",
     "text": [
      "_________________________________________________________________\n",
      "Layer (type)                 Output Shape              Param #   \n",
      "=================================================================\n",
      "dropout_1 (Dropout)          (None, 5)                 0         \n",
      "_________________________________________________________________\n",
      "dense_1 (Dense)              (None, 20)                120       \n",
      "_________________________________________________________________\n",
      "activation_1 (Activation)    (None, 20)                0         \n",
      "_________________________________________________________________\n",
      "dense_2 (Dense)              (None, 1)                 21        \n",
      "=================================================================\n",
      "Total params: 141\n",
      "Trainable params: 141\n",
      "Non-trainable params: 0\n",
      "_________________________________________________________________\n"
     ]
    }
   ],
   "source": [
    "model.summary()"
   ]
  },
  {
   "cell_type": "markdown",
   "metadata": {},
   "source": [
    "Knowledge can be extracted from the weights of the NN first layer."
   ]
  },
  {
   "cell_type": "code",
   "execution_count": 34,
   "metadata": {
    "ExecuteTime": {
     "end_time": "2019-05-20T20:15:48.697883Z",
     "start_time": "2019-05-20T20:15:48.683872Z"
    }
   },
   "outputs": [],
   "source": [
    "first_layer_weights = model.get_weights()[0]"
   ]
  },
  {
   "cell_type": "code",
   "execution_count": 35,
   "metadata": {
    "ExecuteTime": {
     "end_time": "2019-05-20T20:15:48.705878Z",
     "start_time": "2019-05-20T20:15:48.699874Z"
    }
   },
   "outputs": [
    {
     "data": {
      "text/plain": [
       "(5, 20)"
      ]
     },
     "execution_count": 35,
     "metadata": {},
     "output_type": "execute_result"
    }
   ],
   "source": [
    "first_layer_weights.shape"
   ]
  },
  {
   "cell_type": "markdown",
   "metadata": {},
   "source": [
    "20 weights per each of the 5 features. We can obtain the relative importance of each feature by taking the mean of the weights."
   ]
  },
  {
   "cell_type": "code",
   "execution_count": 36,
   "metadata": {
    "ExecuteTime": {
     "end_time": "2019-05-20T20:15:48.711883Z",
     "start_time": "2019-05-20T20:15:48.707881Z"
    }
   },
   "outputs": [],
   "source": [
    "mean_weights = first_layer_weights.mean(axis=1)"
   ]
  },
  {
   "cell_type": "code",
   "execution_count": 37,
   "metadata": {
    "ExecuteTime": {
     "end_time": "2019-05-20T20:15:48.722891Z",
     "start_time": "2019-05-20T20:15:48.713885Z"
    }
   },
   "outputs": [
    {
     "data": {
      "text/plain": [
       "array([ 0.14077069, -0.29328525, -0.03074291,  0.4732377 ,  0.24500763],\n",
       "      dtype=float32)"
      ]
     },
     "execution_count": 37,
     "metadata": {},
     "output_type": "execute_result"
    }
   ],
   "source": [
    "mean_weights"
   ]
  },
  {
   "cell_type": "code",
   "execution_count": 38,
   "metadata": {
    "ExecuteTime": {
     "end_time": "2019-05-20T20:15:48.731897Z",
     "start_time": "2019-05-20T20:15:48.724892Z"
    }
   },
   "outputs": [
    {
     "data": {
      "text/plain": [
       "{'gender': 0.14077069,\n",
       " 'race/ethnicity': -0.29328525,\n",
       " 'parental level of education': -0.030742913,\n",
       " 'lunch': 0.4732377,\n",
       " 'test preparation course': 0.24500763}"
      ]
     },
     "execution_count": 38,
     "metadata": {},
     "output_type": "execute_result"
    }
   ],
   "source": [
    "weights_features = {key:val for (key,val) in zip(data.keys()[:5],mean_weights) }\n",
    "weights_features"
   ]
  },
  {
   "cell_type": "markdown",
   "metadata": {},
   "source": [
    "From the weights of the first layer we can see that the parental level of education is considered less important than the preparation and surprisingly, the type of lunch they had. Moreover, from the weights of the gender feature, it seems like males are more likely to obtain a higher score than females. However, data is not enought to make any conclusion, statistical testing wold be necessary. The results of the weights can serve only as a guideline for further analysis."
   ]
  }
 ],
 "metadata": {
  "kernelspec": {
   "display_name": "Python 3",
   "language": "python",
   "name": "python3"
  },
  "language_info": {
   "codemirror_mode": {
    "name": "ipython",
    "version": 3
   },
   "file_extension": ".py",
   "mimetype": "text/x-python",
   "name": "python",
   "nbconvert_exporter": "python",
   "pygments_lexer": "ipython3",
   "version": "3.6.7"
  }
 },
 "nbformat": 4,
 "nbformat_minor": 2
}
