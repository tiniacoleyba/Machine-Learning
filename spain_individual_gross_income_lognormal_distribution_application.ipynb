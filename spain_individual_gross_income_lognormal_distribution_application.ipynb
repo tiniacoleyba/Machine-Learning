{
 "cells": [
  {
   "cell_type": "markdown",
   "metadata": {
    "ExecuteTime": {
     "end_time": "2020-08-15T04:46:07.839734Z",
     "start_time": "2020-08-15T04:46:07.836734Z"
    }
   },
   "source": [
    "# Spain gross income distribution per person\n",
    "\n",
    "In this notebook, I will explore an application of the lognormal probability distribution.\n",
    "\n",
    "  The data of gross income per person per year in euros for Spain is fitted to a [lognormal probability distribution](https://en.wikipedia.org/wiki/Log-normal_distribution). A lognormal model has been successfully used in economics to model the distribution of income for up to approximately 95% of a country's population. \n",
    "  \n",
    "To understand the method used to derive the parameters of the distribution, one should know what is:\n",
    "  - Normal distribution.\n",
    "  - Standard normal distribution.\n",
    "  - Lognormal distribution.\n",
    "  - Quantile.\n",
    "  - Logarithms and exponents.\n",
    "  - Basic optimization.\n",
    "  \n",
    "## Data Source\n",
    "1. I downloaded the data from Spain's [National Institute of Statistics](https://www.ine.es/index.htm) (INE—Instituto Nacional de Estadística), specifically in CSV format, from the following link (https://ine.es/jaxiT3/Tabla.htm?t=28191&L=0). The CSV was named by default 28191.csv, but I renamed it to spain_salary_distribution.csv to store it locally on my computer.\n",
    "2. I also downloaded the [publicly available data provided by AEAT](https://sede.agenciatributaria.gob.es/AEAT/Contenidos_Comunes/La_Agencia_Tributaria/Estadisticas/Publicaciones/sites/irpf/2022/jrubik592444a7f926d31e5daa6e1d35549f0aaf47969e.html) (Agencia Estatal de la Administración Tributaria) about gross yearly income in euros per person (available up to 2022) to enrich the statistics further.\n",
    "\n",
    "\n",
    "I also uploaded the data after translating headers to English to Kaggle: https://www.kaggle.com/jtljtl/spain-salary-distribution"
   ]
  },
  {
   "cell_type": "markdown",
   "metadata": {},
   "source": [
    "## Data preparation"
   ]
  },
  {
   "cell_type": "code",
   "execution_count": 1,
   "metadata": {},
   "outputs": [],
   "source": [
    "import pandas as pd\n",
    "import numpy as np\n",
    "import matplotlib.pyplot as plt\n",
    "from scipy import stats\n",
    "from scipy.optimize import minimize"
   ]
  },
  {
   "cell_type": "code",
   "execution_count": 2,
   "metadata": {
    "ExecuteTime": {
     "end_time": "2020-08-19T06:39:01.586130Z",
     "start_time": "2020-08-19T06:39:01.554107Z"
    }
   },
   "outputs": [],
   "source": [
    "df = pd.read_csv(\"spain_salary_distribution.csv\",sep=';',encoding='iso-8859-1')\n",
    "\n",
    "# Convert attribute \"Total\" from Object data type to float\n",
    "df[\"Total\"] = df[\"Total\"].apply(lambda x: float(x.replace('.','').replace(',','.')))\n",
    "\n",
    "# Map statistics in words to numbers\n",
    "qmap = {\n",
    "    \"Percentil 10\": 0.1,\n",
    "    \"Cuartil inferior\": 0.25,\n",
    "    \"Mediana\": 0.5,\n",
    "    \"Cuartil superior\": 0.75,\n",
    "    \"Percentil 90\": 0.9,\n",
    "    \"Media\": np.nan\n",
    "}\n",
    "\n",
    "# Translate headers\n",
    "col_names = {\n",
    "    \"Sexo\": \"gender\",\n",
    "    \"Comunidades autónomas\": \"state\",\n",
    "    \"Medidas y percentiles\": \"statistic\",\n",
    "    \"Periodo\": \"year\",\n",
    "    \"Total\": \"gross_income_euros\",\n",
    "}\n",
    "\n",
    "# Translate gender\n",
    "gmap = {\n",
    "    \"Mujeres\": \"female\",\n",
    "    \"Hombres\": \"male\",\n",
    "    \"Ambos sexos\" : \"both\"\n",
    "}\n",
    "\n",
    "# Translate statistics\n",
    "smap = {\n",
    "    \"Cuartil superior\" : \"upper_quartile\",\n",
    "    \"Cuartil inferior\" : \"lower_quartile\",\n",
    "    \"Mediana\" : \"median\",\n",
    "    \"Percentil 90\" : \"90th_percentile\",\n",
    "    \"Percentil 10\" : \"10th_percentile\",\n",
    "    \"Media\" : \"mean\"\n",
    "}\n",
    "\n",
    "\n",
    "df.rename(columns=col_names, inplace=True)\n",
    "\n",
    "df[\"gender\"] = df[\"gender\"].apply(lambda s: gmap.get(s))\n",
    "\n",
    "df[\"percentile\"] = df[\"statistic\"].apply(lambda s: qmap.get(s))\n",
    "\n",
    "df[\"statistic\"] = df[\"statistic\"].apply(lambda s: smap.get(s))\n",
    "\n",
    "df[\"state\"] = df[\"state\"].apply(lambda s: 'nationwide' if s == 'Total Nacional' else s)\n",
    "\n",
    "def filter_df(state, gender,statistic):\n",
    "    f1 = df.loc[:,\"state\"] == state\n",
    "    f2 = df.loc[:,\"gender\"] == gender\n",
    "    f3 = df.loc[:,\"statistic\"] == statistic\n",
    "    return f1 & f2 & f3"
   ]
  },
  {
   "cell_type": "markdown",
   "metadata": {},
   "source": [
    "We are given statistics about the gross income in euros (Total), per person for Spain. We have in \"Medias y percentiles\":\n",
    "- The 10th percentile (Percentil 10).\n",
    "- The lower quartile (Cuartil inferior).\n",
    "- The median (Mediana).\n",
    "- The mean (Media).\n",
    "- The upper quartile (Cuartil superior).\n",
    "- The 90th percentile (Percentil 90).\n",
    "\n",
    "These statistics are seggregated by:\n",
    "\n",
    "- Gender (Sexo).\n",
    "- Year (Periodo).\n",
    "- State (Comunidades autónomas).\n",
    "\n",
    "In this notebook, I will just explore total national incomes, but the analysis could be extended to gender, year, and state."
   ]
  },
  {
   "cell_type": "code",
   "execution_count": 3,
   "metadata": {},
   "outputs": [
    {
     "data": {
      "text/html": [
       "<div>\n",
       "<style scoped>\n",
       "    .dataframe tbody tr th:only-of-type {\n",
       "        vertical-align: middle;\n",
       "    }\n",
       "\n",
       "    .dataframe tbody tr th {\n",
       "        vertical-align: top;\n",
       "    }\n",
       "\n",
       "    .dataframe thead th {\n",
       "        text-align: right;\n",
       "    }\n",
       "</style>\n",
       "<table border=\"1\" class=\"dataframe\">\n",
       "  <thead>\n",
       "    <tr style=\"text-align: right;\">\n",
       "      <th></th>\n",
       "      <th>gender</th>\n",
       "      <th>state</th>\n",
       "      <th>statistic</th>\n",
       "      <th>year</th>\n",
       "      <th>gross_income_euros</th>\n",
       "      <th>percentile</th>\n",
       "    </tr>\n",
       "  </thead>\n",
       "  <tbody>\n",
       "    <tr>\n",
       "      <th>4733</th>\n",
       "      <td>male</td>\n",
       "      <td>País Vasco</td>\n",
       "      <td>median</td>\n",
       "      <td>2014</td>\n",
       "      <td>28799.94</td>\n",
       "      <td>0.50</td>\n",
       "    </tr>\n",
       "    <tr>\n",
       "      <th>2268</th>\n",
       "      <td>female</td>\n",
       "      <td>Castilla y León</td>\n",
       "      <td>10th_percentile</td>\n",
       "      <td>2019</td>\n",
       "      <td>6765.51</td>\n",
       "      <td>0.10</td>\n",
       "    </tr>\n",
       "    <tr>\n",
       "      <th>3888</th>\n",
       "      <td>male</td>\n",
       "      <td>Castilla y León</td>\n",
       "      <td>10th_percentile</td>\n",
       "      <td>2019</td>\n",
       "      <td>12453.04</td>\n",
       "      <td>0.10</td>\n",
       "    </tr>\n",
       "    <tr>\n",
       "      <th>321</th>\n",
       "      <td>both</td>\n",
       "      <td>Asturias, Principado de</td>\n",
       "      <td>median</td>\n",
       "      <td>2016</td>\n",
       "      <td>20081.25</td>\n",
       "      <td>0.50</td>\n",
       "    </tr>\n",
       "    <tr>\n",
       "      <th>3131</th>\n",
       "      <td>female</td>\n",
       "      <td>País Vasco</td>\n",
       "      <td>upper_quartile</td>\n",
       "      <td>2011</td>\n",
       "      <td>30201.90</td>\n",
       "      <td>0.75</td>\n",
       "    </tr>\n",
       "    <tr>\n",
       "      <th>1205</th>\n",
       "      <td>both</td>\n",
       "      <td>Madrid, Comunidad de</td>\n",
       "      <td>lower_quartile</td>\n",
       "      <td>2017</td>\n",
       "      <td>14697.30</td>\n",
       "      <td>0.25</td>\n",
       "    </tr>\n",
       "    <tr>\n",
       "      <th>3792</th>\n",
       "      <td>male</td>\n",
       "      <td>Cantabria</td>\n",
       "      <td>mean</td>\n",
       "      <td>2010</td>\n",
       "      <td>23924.51</td>\n",
       "      <td>NaN</td>\n",
       "    </tr>\n",
       "    <tr>\n",
       "      <th>2988</th>\n",
       "      <td>female</td>\n",
       "      <td>Navarra, Comunidad Foral de</td>\n",
       "      <td>10th_percentile</td>\n",
       "      <td>2019</td>\n",
       "      <td>8195.45</td>\n",
       "      <td>0.10</td>\n",
       "    </tr>\n",
       "    <tr>\n",
       "      <th>2148</th>\n",
       "      <td>female</td>\n",
       "      <td>Canarias</td>\n",
       "      <td>90th_percentile</td>\n",
       "      <td>2019</td>\n",
       "      <td>37036.45</td>\n",
       "      <td>0.90</td>\n",
       "    </tr>\n",
       "    <tr>\n",
       "      <th>3824</th>\n",
       "      <td>male</td>\n",
       "      <td>Cantabria</td>\n",
       "      <td>lower_quartile</td>\n",
       "      <td>2008</td>\n",
       "      <td>15546.39</td>\n",
       "      <td>0.25</td>\n",
       "    </tr>\n",
       "  </tbody>\n",
       "</table>\n",
       "</div>"
      ],
      "text/plain": [
       "      gender                        state        statistic  year  \\\n",
       "4733    male                   País Vasco           median  2014   \n",
       "2268  female              Castilla y León  10th_percentile  2019   \n",
       "3888    male              Castilla y León  10th_percentile  2019   \n",
       "321     both      Asturias, Principado de           median  2016   \n",
       "3131  female                   País Vasco   upper_quartile  2011   \n",
       "1205    both         Madrid, Comunidad de   lower_quartile  2017   \n",
       "3792    male                    Cantabria             mean  2010   \n",
       "2988  female  Navarra, Comunidad Foral de  10th_percentile  2019   \n",
       "2148  female                     Canarias  90th_percentile  2019   \n",
       "3824    male                    Cantabria   lower_quartile  2008   \n",
       "\n",
       "      gross_income_euros  percentile  \n",
       "4733            28799.94        0.50  \n",
       "2268             6765.51        0.10  \n",
       "3888            12453.04        0.10  \n",
       "321             20081.25        0.50  \n",
       "3131            30201.90        0.75  \n",
       "1205            14697.30        0.25  \n",
       "3792            23924.51         NaN  \n",
       "2988             8195.45        0.10  \n",
       "2148            37036.45        0.90  \n",
       "3824            15546.39        0.25  "
      ]
     },
     "execution_count": 3,
     "metadata": {},
     "output_type": "execute_result"
    }
   ],
   "source": [
    "df.sample(10)"
   ]
  },
  {
   "cell_type": "code",
   "execution_count": 4,
   "metadata": {},
   "outputs": [],
   "source": [
    "# https://sede.agenciatributaria.gob.es/AEAT/Contenidos_Comunes/La_Agencia_Tributaria/Estadisticas/Publicaciones/sites/irpf/2022/jrubik592444a7f926d31e5daa6e1d35549f0aaf47969e.html\n",
    "# https://www.bankinter.com/blog/finanzas-personales/sueldo-mas-altos-por-paises\n",
    "\n",
    "data_aeat = {\n",
    "    \"pmf\": np.array([5.61+6.18+13.22, 10.10, 21.02, 17.36, 21.27, 4.53, 0.63])/100,\n",
    "    \"gross_income_euros\": [6_000, 12_000, 21_000, 30_000, 60_000, 150_000, 601_000]\n",
    "}\n",
    "data_aeat[\"cdf\"] = np.cumsum(data_aeat[\"pmf\"])"
   ]
  },
  {
   "cell_type": "code",
   "execution_count": 5,
   "metadata": {},
   "outputs": [
    {
     "data": {
      "text/plain": [
       "{'pmf': array([0.2501, 0.101 , 0.2102, 0.1736, 0.2127, 0.0453, 0.0063]),\n",
       " 'gross_income_euros': [6000, 12000, 21000, 30000, 60000, 150000, 601000],\n",
       " 'cdf': array([0.2501, 0.3511, 0.5613, 0.7349, 0.9476, 0.9929, 0.9992])}"
      ]
     },
     "execution_count": 5,
     "metadata": {},
     "output_type": "execute_result"
    }
   ],
   "source": [
    "data_aeat"
   ]
  },
  {
   "cell_type": "code",
   "execution_count": 6,
   "metadata": {},
   "outputs": [
    {
     "data": {
      "text/html": [
       "<div>\n",
       "<style scoped>\n",
       "    .dataframe tbody tr th:only-of-type {\n",
       "        vertical-align: middle;\n",
       "    }\n",
       "\n",
       "    .dataframe tbody tr th {\n",
       "        vertical-align: top;\n",
       "    }\n",
       "\n",
       "    .dataframe thead th {\n",
       "        text-align: right;\n",
       "    }\n",
       "</style>\n",
       "<table border=\"1\" class=\"dataframe\">\n",
       "  <thead>\n",
       "    <tr style=\"text-align: right;\">\n",
       "      <th></th>\n",
       "      <th>gender</th>\n",
       "      <th>state</th>\n",
       "      <th>statistic</th>\n",
       "      <th>year</th>\n",
       "      <th>gross_income_euros</th>\n",
       "      <th>percentile</th>\n",
       "    </tr>\n",
       "  </thead>\n",
       "  <tbody>\n",
       "    <tr>\n",
       "      <th>30</th>\n",
       "      <td>both</td>\n",
       "      <td>nationwide</td>\n",
       "      <td>lower_quartile</td>\n",
       "      <td>2022</td>\n",
       "      <td>15913.52</td>\n",
       "      <td>0.25</td>\n",
       "    </tr>\n",
       "  </tbody>\n",
       "</table>\n",
       "</div>"
      ],
      "text/plain": [
       "   gender       state       statistic  year  gross_income_euros  percentile\n",
       "30   both  nationwide  lower_quartile  2022            15913.52        0.25"
      ]
     },
     "execution_count": 6,
     "metadata": {},
     "output_type": "execute_result"
    }
   ],
   "source": [
    "df.loc[filter_df(\"nationwide\", \"both\",\"lower_quartile\")&(df.year==2022),:]"
   ]
  },
  {
   "cell_type": "code",
   "execution_count": 7,
   "metadata": {},
   "outputs": [
    {
     "data": {
      "text/html": [
       "<div>\n",
       "<style scoped>\n",
       "    .dataframe tbody tr th:only-of-type {\n",
       "        vertical-align: middle;\n",
       "    }\n",
       "\n",
       "    .dataframe tbody tr th {\n",
       "        vertical-align: top;\n",
       "    }\n",
       "\n",
       "    .dataframe thead th {\n",
       "        text-align: right;\n",
       "    }\n",
       "</style>\n",
       "<table border=\"1\" class=\"dataframe\">\n",
       "  <thead>\n",
       "    <tr style=\"text-align: right;\">\n",
       "      <th></th>\n",
       "      <th>gender</th>\n",
       "      <th>state</th>\n",
       "      <th>statistic</th>\n",
       "      <th>year</th>\n",
       "      <th>gross_income_euros</th>\n",
       "      <th>percentile</th>\n",
       "    </tr>\n",
       "  </thead>\n",
       "  <tbody>\n",
       "    <tr>\n",
       "      <th>45</th>\n",
       "      <td>both</td>\n",
       "      <td>nationwide</td>\n",
       "      <td>median</td>\n",
       "      <td>2022</td>\n",
       "      <td>22383.11</td>\n",
       "      <td>0.5</td>\n",
       "    </tr>\n",
       "  </tbody>\n",
       "</table>\n",
       "</div>"
      ],
      "text/plain": [
       "   gender       state statistic  year  gross_income_euros  percentile\n",
       "45   both  nationwide    median  2022            22383.11         0.5"
      ]
     },
     "execution_count": 7,
     "metadata": {},
     "output_type": "execute_result"
    }
   ],
   "source": [
    "df.loc[filter_df(\"nationwide\", \"both\",\"median\")&(df.year==2022),:]"
   ]
  },
  {
   "cell_type": "code",
   "execution_count": 8,
   "metadata": {},
   "outputs": [
    {
     "data": {
      "text/html": [
       "<div>\n",
       "<style scoped>\n",
       "    .dataframe tbody tr th:only-of-type {\n",
       "        vertical-align: middle;\n",
       "    }\n",
       "\n",
       "    .dataframe tbody tr th {\n",
       "        vertical-align: top;\n",
       "    }\n",
       "\n",
       "    .dataframe thead th {\n",
       "        text-align: right;\n",
       "    }\n",
       "</style>\n",
       "<table border=\"1\" class=\"dataframe\">\n",
       "  <thead>\n",
       "    <tr style=\"text-align: right;\">\n",
       "      <th></th>\n",
       "      <th>gender</th>\n",
       "      <th>state</th>\n",
       "      <th>statistic</th>\n",
       "      <th>year</th>\n",
       "      <th>gross_income_euros</th>\n",
       "      <th>percentile</th>\n",
       "    </tr>\n",
       "  </thead>\n",
       "  <tbody>\n",
       "    <tr>\n",
       "      <th>60</th>\n",
       "      <td>both</td>\n",
       "      <td>nationwide</td>\n",
       "      <td>upper_quartile</td>\n",
       "      <td>2022</td>\n",
       "      <td>33561.62</td>\n",
       "      <td>0.75</td>\n",
       "    </tr>\n",
       "  </tbody>\n",
       "</table>\n",
       "</div>"
      ],
      "text/plain": [
       "   gender       state       statistic  year  gross_income_euros  percentile\n",
       "60   both  nationwide  upper_quartile  2022            33561.62        0.75"
      ]
     },
     "execution_count": 8,
     "metadata": {},
     "output_type": "execute_result"
    }
   ],
   "source": [
    "df.loc[filter_df(\"nationwide\", \"both\",\"upper_quartile\")&(df.year==2022),:]"
   ]
  },
  {
   "cell_type": "markdown",
   "metadata": {},
   "source": [
    "There are discrepancies in the lower percentiles of the data provided by AEAT and  INE. For example, the INE data states that 25% of the working population's yearly gross income is 15913.52€. In contrast, AEAT data says that it is  6000€. This difference diminishes between datasets as the percentiles increase. For example, for the median, the INE data says that it is  22383.11€, and the AEAT says that the percentile 56th is 21000€. Then,  for the upper quartile (75th percentile), the INE data provides a value of 33561.62€, whereas the AEAT value for the 73th percentile is 30000€. So, the difference between values on the two datasets becomes smaller as the percentiles increase.\n",
    "\n",
    "While the reasons for these discrepancies are not immediately clear, the observation is unmistakable. Therefore, I have decided to use the upper percentiles provided by AEAT to enhance the INE data, while disregarding the lower percentiles from AEAT. My hypothesis is that lower-paying jobs may involve a portion of the total pay being made in cash, which is often not  declared for tax purposes. This could explain why the AEAT data does not accurately represent the lower percentiles of the income distribution. This is an  educated guess based on estimates of the Spanish economy, which suggest that between  20 and 25% of the total economy is not declared for tax purposes.\n",
    "\n",
    "My second hypothesis to justify the convergence of percentile values on upper percentiles is that higher-paying jobs make it harder or rarer to use cash as payment. Thus, most of the payments made to employees in higher-paying jobs are likely to be reported accurately to AEAT. As a consequence, I decided to enrich the INE data using only the top three percentiles provided by AEAT data: p94.7, p99.29, and p99.92."
   ]
  },
  {
   "cell_type": "markdown",
   "metadata": {},
   "source": [
    "## Data visualization"
   ]
  },
  {
   "cell_type": "code",
   "execution_count": 9,
   "metadata": {
    "ExecuteTime": {
     "end_time": "2020-08-15T05:06:22.969947Z",
     "start_time": "2020-08-15T05:06:22.539641Z"
    }
   },
   "outputs": [
    {
     "data": {
      "image/png": "[encoded data removed]",
      "text/plain": [
       "<Figure size 1440x720 with 1 Axes>"
      ]
     },
     "metadata": {
      "needs_background": "light"
     },
     "output_type": "display_data"
    }
   ],
   "source": [
    "fig = plt.figure(figsize=(20,10))\n",
    "axes = plt.gca()\n",
    "axes.set_xlim([2008,2022])\n",
    "axes.set_ylim([5000,50000])\n",
    "\n",
    "for s in smap.values():\n",
    "    f = filter_df(\"nationwide\",\"both\",statistic=s)\n",
    "    plt.plot(df.loc[f,\"year\"], df.loc[f,\"gross_income_euros\"],label=s)\n",
    "\n",
    "plt.title('Gross salaries per year and person in euros for spanish employees')\n",
    "plt.legend(loc='upper left')\n",
    "plt.grid()\n",
    "plt.ylabel('Gross yearly salary (euros)')\n",
    "plt.xlabel('Year')\n",
    "plt.show()"
   ]
  },
  {
   "cell_type": "markdown",
   "metadata": {
    "ExecuteTime": {
     "end_time": "2020-08-14T18:39:25.319849Z",
     "start_time": "2020-08-14T18:39:25.316846Z"
    }
   },
   "source": [
    "## Fitting data to a lognormal distribution\n",
    "\n",
    "\n",
    "$ X \\sim Lognorm(\\mu, \\sigma^2) $\n",
    "\n",
    "I suppose that the income is distributed lognormally between the 10th and 90th percentiles. To find the parameters of the distribution, I use the analytic formula for the median of the distribution:\n",
    "\n",
    "$$ median = e^\\mu \\implies \\mu = log(median) \\qquad (1)$$\n",
    "\n",
    "For the standard deviation ($\\sigma$), we know since it is lognormal distribution that:\n",
    "\n",
    "$$ q = P(X \\leq x_q) = \\Phi\\left(Z \\leq \\frac{log(x_q) - \\mu}{\\sigma}\\right) \\qquad (2)$$\n",
    "\n",
    "The quantiles given and the logarithm of their respective values follow a normal distribution, so we can standardize the income random variable and find the corresponding values of the standard normal random variable that corresponds to those quantiles."
   ]
  },
  {
   "cell_type": "code",
   "execution_count": 10,
   "metadata": {},
   "outputs": [
    {
     "data": {
      "text/plain": [
       "[10657.37, 15913.52, 22383.11, 33561.62, 48217.21, 60000.0]"
      ]
     },
     "execution_count": 10,
     "metadata": {},
     "output_type": "execute_result"
    }
   ],
   "source": [
    "f = (df.year==2022)&(df.gender==\"both\")&(df.state==\"nationwide\")&(df.statistic!=\"mean\")\n",
    "quantiles_values = list(df.loc[f,\"gross_income_euros\"].values)\n",
    "# AEAT data below: 60k, 150k and 601k\n",
    "quantiles_values.append(60_000.0) \n",
    "# quantiles_values.append(150_000)\n",
    "# quantiles_values.append(601_000)\n",
    "quantiles_values"
   ]
  },
  {
   "cell_type": "code",
   "execution_count": 11,
   "metadata": {
    "ExecuteTime": {
     "end_time": "2020-08-15T05:28:51.897486Z",
     "start_time": "2020-08-15T05:28:51.890480Z"
    }
   },
   "outputs": [
    {
     "data": {
      "text/plain": [
       "array([-1.28155157, -0.67448975,  0.        ,  0.67448975,  1.28155157,\n",
       "        1.62201564])"
      ]
     },
     "execution_count": 11,
     "metadata": {},
     "output_type": "execute_result"
    }
   ],
   "source": [
    "quantiles = [0.1,0.25,0.5,0.75,0.9]\n",
    "quantiles += [0.9476] # 0.9929] # , 0.9992] # AEAT data\n",
    "z = stats.norm.ppf(quantiles)\n",
    "z"
   ]
  },
  {
   "cell_type": "markdown",
   "metadata": {},
   "source": [
    "Now associate values of the income to those quantiles, which we can do visually by looking at the plot above so, approximately:\n"
   ]
  },
  {
   "cell_type": "code",
   "execution_count": 12,
   "metadata": {
    "ExecuteTime": {
     "end_time": "2020-08-15T05:30:30.118192Z",
     "start_time": "2020-08-15T05:30:30.114189Z"
    }
   },
   "outputs": [],
   "source": [
    "xq = quantiles_values"
   ]
  },
  {
   "cell_type": "markdown",
   "metadata": {},
   "source": [
    "Since we know $\\mu$ by (1), $X_q$ and $q$ by data, and $Z$ by calculation, we can compute sigma by minimizing the squared error in (2):\n",
    "\n",
    "$$ Error(\\sigma) = \\sum_i^n \\left(z_i - \\frac{log(x_{qi}) - \\mu}{\\sigma} \\right)^2 \\qquad (3)$$\n",
    "\n",
    "The main caveat of this approach is that we only have five data points: p10, p25, p50, p75 and p90."
   ]
  },
  {
   "cell_type": "code",
   "execution_count": 13,
   "metadata": {
    "ExecuteTime": {
     "end_time": "2020-08-15T06:02:35.780995Z",
     "start_time": "2020-08-15T06:02:35.768987Z"
    }
   },
   "outputs": [
    {
     "data": {
      "text/plain": [
       "0.5925722189181554"
      ]
     },
     "execution_count": 13,
     "metadata": {},
     "output_type": "execute_result"
    }
   ],
   "source": [
    "# scipy parametrization. mu calculated as in (1)\n",
    "_median = df.loc[(df.year==2022)&filter_df(\"nationwide\",\"both\",\"median\"),\"gross_income_euros\"].values[0]\n",
    "loc = np.log(_median) # (1): mu = log(median)\n",
    "\n",
    "# Define the error function as in (3)\n",
    "error = lambda sigma: sum((zi - (np.log(xqi)-loc)/sigma)**2 for zi,xqi in zip(z,xq))\n",
    "\n",
    "# Initial guess as in (4)\n",
    "_mean = df.loc[(df.year==2022)&filter_df(\"nationwide\",\"both\",\"mean\"),\"gross_income_euros\"].values[0]\n",
    "sigma = lambda mean, mu: (2*(np.log(mean)-mu))**0.5\n",
    "x0 = sigma(_mean, loc)\n",
    "\n",
    "# Minimize it. res.x contains the value of the parameter\n",
    "res = minimize(error, x0=x0, method='Nelder-Mead', tol=1e-6)\n",
    "res.x[0]"
   ]
  },
  {
   "cell_type": "markdown",
   "metadata": {},
   "source": [
    "$x0$ is an estimate of the parameter being minimized. I set it by using the formula:\n",
    "\n",
    "$$ mean = exp\\left(\\mu + \\frac{\\sigma^2}{2}\\right) \\implies \\sigma^2 = 2log(mean) - 2\\mu \\qquad (4)$$\n",
    "\n",
    "Since we know the mean (data) and $\\mu$ we can use (4) to find a educated guess of $\\sigma$:"
   ]
  },
  {
   "cell_type": "code",
   "execution_count": 14,
   "metadata": {
    "ExecuteTime": {
     "end_time": "2020-08-15T05:56:38.017909Z",
     "start_time": "2020-08-15T05:56:38.010904Z"
    }
   },
   "outputs": [
    {
     "data": {
      "text/plain": [
       "(0.6093188170202187, 0.5925722189181554)"
      ]
     },
     "execution_count": 14,
     "metadata": {},
     "output_type": "execute_result"
    }
   ],
   "source": [
    "sigma(_mean, loc), res.x[0]"
   ]
  },
  {
   "cell_type": "code",
   "execution_count": 15,
   "metadata": {},
   "outputs": [
    {
     "data": {
      "text/plain": [
       "(0.012646769747491265, 0.017793262577768153)"
      ]
     },
     "execution_count": 15,
     "metadata": {},
     "output_type": "execute_result"
    }
   ],
   "source": [
    "error(res.x[0]), error(sigma(_mean, loc))"
   ]
  },
  {
   "cell_type": "markdown",
   "metadata": {},
   "source": [
    "The error using the minization method is smaller than the error using only the initial guess based on analytical formulas for the lognormal distribution. Still, the optimized parameter is quite close to the initial guess.\n",
    "\n",
    "This is one of the many possible ways of estimating the distribution's parameters. I used this method since we were given quantiles instead of sampled data. The idea is to fit the quantiles to the CDF of the lognormal distribution."
   ]
  },
  {
   "cell_type": "code",
   "execution_count": 16,
   "metadata": {
    "ExecuteTime": {
     "end_time": "2020-08-15T05:41:48.522646Z",
     "start_time": "2020-08-15T05:41:48.152384Z"
    }
   },
   "outputs": [
    {
     "data": {
      "image/png": "[encoded data removed]",
      "text/plain": [
       "<Figure size 1440x720 with 1 Axes>"
      ]
     },
     "metadata": {
      "needs_background": "light"
     },
     "output_type": "display_data"
    }
   ],
   "source": [
    "# Generate samples from the calculated distribution to make plots\n",
    "q = np.arange(0.1, 0.951, 0.005)\n",
    "# docs: https://docs.scipy.org/doc/scipy/reference/generated/scipy.stats.lognorm.html\n",
    "x = stats.lognorm.ppf(q, s=res.x[0], scale=_median) # s=sigma(_mean, loc)\n",
    "\n",
    "fig = plt.figure(figsize=(20,10))\n",
    "axes = plt.gca()\n",
    "\n",
    "plt.scatter(xq, quantiles, color=\"red\", label=\"Empirical data\")\n",
    "plt.plot(x, q, label=\"Fitted analytical distribution\")\n",
    "\n",
    "plt.title('Lognormal empirical Cumulative Distribution Function (CDF) fitted to data')\n",
    "plt.grid()\n",
    "plt.xlabel('Gross yearly salary (euros)')\n",
    "plt.legend(loc=\"upper left\")\n",
    "plt.ylabel('CDF')\n",
    "plt.show()"
   ]
  },
  {
   "cell_type": "code",
   "execution_count": 17,
   "metadata": {
    "ExecuteTime": {
     "end_time": "2020-08-14T19:16:05.732421Z",
     "start_time": "2020-08-14T19:16:05.539287Z"
    }
   },
   "outputs": [
    {
     "data": {
      "image/png": "[encoded data removed]",
      "text/plain": [
       "<Figure size 1440x720 with 1 Axes>"
      ]
     },
     "metadata": {
      "needs_background": "light"
     },
     "output_type": "display_data"
    }
   ],
   "source": [
    "xinc = np.arange(10_000,60_000,100)\n",
    "fig = plt.figure(figsize=(20,10))\n",
    "plt.plot(xinc, stats.lognorm.pdf(xinc, s=res.x, scale=_median)) # s=sigma(_mean, loc)\n",
    "plt.xlabel('Gross yearly income per person in euros')\n",
    "plt.ylabel('pdf(x)')\n",
    "plt.grid()\n",
    "plt.title('Probability density function of a lognormal distribution fitted to income data')\n",
    "plt.show()"
   ]
  },
  {
   "cell_type": "markdown",
   "metadata": {},
   "source": [
    "As can be seen from the plot of the empirical cumulative distribution function, the lognormal distribution fits the data accurately. Now that we have the distribution and its parameters we can compute any value and its percentiles. The computation can be useful to estimate how much can the country expect to collect in taxes from this population range, or to assess where a person lies in the salary distribution, which could be useful to stablish public aid programs. Notice also that the mode is around 16000 euros (in 2022), which means that most frequent value for a person's income in Spain is approximately 1170 euros per month after taxes payed in twelve payments."
   ]
  },
  {
   "cell_type": "markdown",
   "metadata": {},
   "source": [
    "## Top 2.5% incomes\n",
    "\n",
    "From wikipedia:\n",
    "> In economics, there is evidence that the income of 97%–99% of the population is distributed log-normally. (The distribution of higher-income individuals follows a Pareto distribution).\n",
    "\n",
    "Source: Wataru, Souma (2002-02-22). \"Physics of Personal Income\". In Takayasu, Hideki (ed.). Empirical Science of Financial Fluctuations: The Advent of Econophysics. Springer. arXiv:cond-mat/0202388. doi:10.1007/978-4-431-66993-7\n",
    "\n",
    "I tried fitting the lognormal distribution with the upper percentiles p99.29 (150k€) and p99.92 (601k€). Still, the fit was obviously incorrect for percentiles higher than p97. The fit would increase its error on lower percentiles while underestimating upper percentiles. The results indicate that the lognormal distribution is limited in this case to p97. So, I will use a parato distribution instead to model the top 2.5%, as the quote above suggests. \n",
    "\n",
    "There's a philosophical implication hidden in the fact that the income distribution as an employee can't be modeled only by one probability distribution. The income of 97% of the working population seems to be governed by a different law than the remaining 3%. This implies that the top 3% of earners must be doing something different than the rest to get, stay, and get to higher percentiles. It signals that they have found mechanisms by which they can accelerate their income growth over time, methods that are fundamentally different from the ones the rest of the population is using. Otherwise, I would expect one distribution to model all the income brackets."
   ]
  },
  {
   "cell_type": "markdown",
   "metadata": {},
   "source": [
    "The Cumulative Distribution Function (CDF) of a pareto distribution is modeled by: $$ CDF(x) = {\\displaystyle 1-\\left({\\frac {x_{\\mathrm {m} }}{x}}\\right)^{\\alpha }} $$ where Alpha and Xm are the distribution parameters. I will use the few quantiles I got from AEAT to find those parameters."
   ]
  },
  {
   "cell_type": "code",
   "execution_count": 18,
   "metadata": {},
   "outputs": [
    {
     "data": {
      "text/plain": [
       "( final_simplex: (array([[1.69275742],\n",
       "        [1.69275818]]), array([2.4525859e-05, 2.4525859e-05]))\n",
       "            fun: 2.4525859025458107e-05\n",
       "        message: 'Optimization terminated successfully.'\n",
       "           nfev: 42\n",
       "            nit: 21\n",
       "         status: 0\n",
       "        success: True\n",
       "              x: array([1.69275742]),\n",
       "  final_simplex: (array([[1.61751359],\n",
       "        [1.61751359]]), array([32807442.1303641 , 32807442.13036502]))\n",
       "            fun: 32807442.130364098\n",
       "        message: 'Optimization terminated successfully.'\n",
       "           nfev: 60\n",
       "            nit: 30\n",
       "         status: 0\n",
       "        success: True\n",
       "              x: array([1.61751359]))"
      ]
     },
     "execution_count": 18,
     "metadata": {},
     "output_type": "execute_result"
    }
   ],
   "source": [
    "# AEAT data\n",
    "pareto_x = [60_000.0, 150_000.0, 601_000.0]\n",
    "pareto_q = [0.9476, 0.9929, 0.9992]\n",
    "\n",
    "# first poin estimated with lognormal, hypothesis: we can extrapolate with lognormal from p95 to p97\n",
    "min_q = 0.975 # Educated guess based on the paper \"Physics of Personal Income\" cited above\n",
    "xm = round(stats.lognorm.ppf(min_q, s=res.x[0], scale=_median),0)\n",
    "pareto_x = [xm, 150_000.0, 601_000.0]\n",
    "pareto_q = [min_q, 0.9929, 0.9992]\n",
    "\n",
    "# Normalizing the top percentiles >=95th to be a new entire distribution\n",
    "xm = pareto_x[0] # The minimum value x can take\n",
    "pareto_range = 1 - pareto_q[0]\n",
    "pareto_q = [(q - pareto_q[0])/pareto_range for q in pareto_q]\n",
    "\n",
    "def pareto_error_func(alpha):\n",
    "    return sum((1 - (xm/px)**alpha - pq)**2 for pq, px in zip(pareto_q, pareto_x))\n",
    "\n",
    "def pareto_error_func_v2(alpha):\n",
    "    return sum((xm*(1-pq)**(-1/alpha) - px)**2 for pq, px in zip(pareto_q, pareto_x))\n",
    "\n",
    "res_pareto = minimize(pareto_error_func, x0=2, method='Nelder-Mead', tol=1e-6)\n",
    "res_pareto_v2 = minimize(pareto_error_func_v2, x0=2, method='Nelder-Mead', tol=1e-6)\n",
    "res_pareto, res_pareto_v2"
   ]
  },
  {
   "cell_type": "code",
   "execution_count": 19,
   "metadata": {},
   "outputs": [
    {
     "data": {
      "text/plain": [
       "(71502.0, 1.692757415771484, 1.6175135895609851)"
      ]
     },
     "execution_count": 19,
     "metadata": {},
     "output_type": "execute_result"
    }
   ],
   "source": [
    "alpha1, alpha2 = res_pareto.x[0], res_pareto_v2.x[0]\n",
    "xm, alpha1, alpha2"
   ]
  },
  {
   "cell_type": "code",
   "execution_count": 20,
   "metadata": {},
   "outputs": [
    {
     "data": {
      "text/plain": [
       "(array([ 71502.        , 155702.19609728, 600459.25810363]),\n",
       " [0.0, 0.7160000000000004, 0.9679999999999991],\n",
       " [71502.0, 150000.0, 601000.0])"
      ]
     },
     "execution_count": 20,
     "metadata": {},
     "output_type": "execute_result"
    }
   ],
   "source": [
    "stats.pareto.ppf(pareto_q, b=alpha2, scale=xm), pareto_q, pareto_x"
   ]
  },
  {
   "cell_type": "code",
   "execution_count": 21,
   "metadata": {},
   "outputs": [
    {
     "data": {
      "image/png": "[encoded data removed]",
      "text/plain": [
       "<Figure size 1440x720 with 1 Axes>"
      ]
     },
     "metadata": {
      "needs_background": "light"
     },
     "output_type": "display_data"
    }
   ],
   "source": [
    "# Generate samples from the calculated distribution to make plots\n",
    "q = np.arange(0, round(pareto_q[-1],3)+0.005, 0.005)\n",
    "# docs: https://docs.scipy.org/doc/scipy/reference/generated/scipy.stats.pareto.html\n",
    "x = stats.pareto.ppf(q, b=alpha2, scale=xm)\n",
    "pareto_x_estimates = stats.pareto.ppf(pareto_q, b=alpha2, scale=xm)\n",
    "\n",
    "fig = plt.figure(figsize=(20,10))\n",
    "axes = plt.gca()\n",
    "\n",
    "plt.scatter(pareto_x, pareto_q, color=\"red\", label=\"Empirical data\")\n",
    "plt.scatter(pareto_x_estimates, pareto_q, color=\"green\", label=\"Fitted Pareto distribution estimations\")\n",
    "plt.plot(x, q, label=\"Fitted Pareto analytical distribution\")\n",
    "\n",
    "plt.title('Pareto empirical Cumulative Distribution Function (CDF) fitted to data')\n",
    "plt.grid()\n",
    "plt.xlabel('Gross yearly salary (euros) top 5% earners')\n",
    "plt.legend(loc=\"upper left\")\n",
    "plt.ylabel('CDF')\n",
    "plt.show()"
   ]
  },
  {
   "cell_type": "markdown",
   "metadata": {},
   "source": [
    "My combination of lognormal and Pareto distributions to model Spanish working people's income seems to effectively model the percentiles between p10 and p99.9. I model the percentiles between p10 and p97.5 using a lognormal distribution with a median equal to 22383€ and a standard deviation equal to 0.59. Then, I model the percentiles between p97.5 and p99.9 through a Pareto probability distribution with alpha = 1.617 and Xm = 71500€ (2022 data). "
   ]
  },
  {
   "cell_type": "code",
   "execution_count": 22,
   "metadata": {},
   "outputs": [],
   "source": [
    "_q = np.arange(0.975, 1, 0.0005)\n",
    "qmapper = lambda p: (p - min_q)/pareto_range\n",
    "_x = stats.pareto.ppf(qmapper(_q), b=alpha2, scale=xm)\n",
    "df_pareto_cdf = pd.DataFrame(columns=[\"total_percentile\",\"pareto_percentile\",\"value_eur_2022\"])\n",
    "df_pareto_cdf[\"total_percentile\"] = _q\n",
    "df_pareto_cdf[\"pareto_percentile\"] = qmapper(_q)\n",
    "df_pareto_cdf[\"value_eur_2022\"] = _x\n",
    "# Spain 2023 inflation: 3.5%\n",
    "# Spain 2024 inflation projected at 3% (approx)\n",
    "df_pareto_cdf[\"value_eur_inflation_adjusted_to_2024\"] = df_pareto_cdf[\"value_eur_2022\"]*1.035*1.03"
   ]
  },
  {
   "cell_type": "code",
   "execution_count": 23,
   "metadata": {},
   "outputs": [
    {
     "data": {
      "text/html": [
       "<div>\n",
       "<style scoped>\n",
       "    .dataframe tbody tr th:only-of-type {\n",
       "        vertical-align: middle;\n",
       "    }\n",
       "\n",
       "    .dataframe tbody tr th {\n",
       "        vertical-align: top;\n",
       "    }\n",
       "\n",
       "    .dataframe thead th {\n",
       "        text-align: right;\n",
       "    }\n",
       "</style>\n",
       "<table border=\"1\" class=\"dataframe\">\n",
       "  <thead>\n",
       "    <tr style=\"text-align: right;\">\n",
       "      <th></th>\n",
       "      <th>total_percentile</th>\n",
       "      <th>pareto_percentile</th>\n",
       "      <th>value_eur_2022</th>\n",
       "      <th>value_eur_inflation_adjusted_to_2024</th>\n",
       "    </tr>\n",
       "  </thead>\n",
       "  <tbody>\n",
       "    <tr>\n",
       "      <th>0</th>\n",
       "      <td>0.9750</td>\n",
       "      <td>0.00</td>\n",
       "      <td>7.150200e+04</td>\n",
       "      <td>7.622471e+04</td>\n",
       "    </tr>\n",
       "    <tr>\n",
       "      <th>1</th>\n",
       "      <td>0.9755</td>\n",
       "      <td>0.02</td>\n",
       "      <td>7.240066e+04</td>\n",
       "      <td>7.718272e+04</td>\n",
       "    </tr>\n",
       "    <tr>\n",
       "      <th>2</th>\n",
       "      <td>0.9760</td>\n",
       "      <td>0.04</td>\n",
       "      <td>7.332950e+04</td>\n",
       "      <td>7.817291e+04</td>\n",
       "    </tr>\n",
       "    <tr>\n",
       "      <th>3</th>\n",
       "      <td>0.9765</td>\n",
       "      <td>0.06</td>\n",
       "      <td>7.429018e+04</td>\n",
       "      <td>7.919705e+04</td>\n",
       "    </tr>\n",
       "    <tr>\n",
       "      <th>4</th>\n",
       "      <td>0.9770</td>\n",
       "      <td>0.08</td>\n",
       "      <td>7.528453e+04</td>\n",
       "      <td>8.025707e+04</td>\n",
       "    </tr>\n",
       "    <tr>\n",
       "      <th>5</th>\n",
       "      <td>0.9775</td>\n",
       "      <td>0.10</td>\n",
       "      <td>7.631448e+04</td>\n",
       "      <td>8.135506e+04</td>\n",
       "    </tr>\n",
       "    <tr>\n",
       "      <th>6</th>\n",
       "      <td>0.9780</td>\n",
       "      <td>0.12</td>\n",
       "      <td>7.738216e+04</td>\n",
       "      <td>8.249325e+04</td>\n",
       "    </tr>\n",
       "    <tr>\n",
       "      <th>7</th>\n",
       "      <td>0.9785</td>\n",
       "      <td>0.14</td>\n",
       "      <td>7.848983e+04</td>\n",
       "      <td>8.367408e+04</td>\n",
       "    </tr>\n",
       "    <tr>\n",
       "      <th>8</th>\n",
       "      <td>0.9790</td>\n",
       "      <td>0.16</td>\n",
       "      <td>7.963999e+04</td>\n",
       "      <td>8.490022e+04</td>\n",
       "    </tr>\n",
       "    <tr>\n",
       "      <th>9</th>\n",
       "      <td>0.9795</td>\n",
       "      <td>0.18</td>\n",
       "      <td>8.083534e+04</td>\n",
       "      <td>8.617452e+04</td>\n",
       "    </tr>\n",
       "    <tr>\n",
       "      <th>10</th>\n",
       "      <td>0.9800</td>\n",
       "      <td>0.20</td>\n",
       "      <td>8.207883e+04</td>\n",
       "      <td>8.750013e+04</td>\n",
       "    </tr>\n",
       "    <tr>\n",
       "      <th>11</th>\n",
       "      <td>0.9805</td>\n",
       "      <td>0.22</td>\n",
       "      <td>8.337366e+04</td>\n",
       "      <td>8.888049e+04</td>\n",
       "    </tr>\n",
       "    <tr>\n",
       "      <th>12</th>\n",
       "      <td>0.9810</td>\n",
       "      <td>0.24</td>\n",
       "      <td>8.472335e+04</td>\n",
       "      <td>9.031933e+04</td>\n",
       "    </tr>\n",
       "    <tr>\n",
       "      <th>13</th>\n",
       "      <td>0.9815</td>\n",
       "      <td>0.26</td>\n",
       "      <td>8.613178e+04</td>\n",
       "      <td>9.182079e+04</td>\n",
       "    </tr>\n",
       "    <tr>\n",
       "      <th>14</th>\n",
       "      <td>0.9820</td>\n",
       "      <td>0.28</td>\n",
       "      <td>8.760319e+04</td>\n",
       "      <td>9.338938e+04</td>\n",
       "    </tr>\n",
       "    <tr>\n",
       "      <th>15</th>\n",
       "      <td>0.9825</td>\n",
       "      <td>0.30</td>\n",
       "      <td>8.914227e+04</td>\n",
       "      <td>9.503011e+04</td>\n",
       "    </tr>\n",
       "    <tr>\n",
       "      <th>16</th>\n",
       "      <td>0.9830</td>\n",
       "      <td>0.32</td>\n",
       "      <td>9.075419e+04</td>\n",
       "      <td>9.674850e+04</td>\n",
       "    </tr>\n",
       "    <tr>\n",
       "      <th>17</th>\n",
       "      <td>0.9835</td>\n",
       "      <td>0.34</td>\n",
       "      <td>9.244471e+04</td>\n",
       "      <td>9.855068e+04</td>\n",
       "    </tr>\n",
       "    <tr>\n",
       "      <th>18</th>\n",
       "      <td>0.9840</td>\n",
       "      <td>0.36</td>\n",
       "      <td>9.422022e+04</td>\n",
       "      <td>1.004435e+05</td>\n",
       "    </tr>\n",
       "    <tr>\n",
       "      <th>19</th>\n",
       "      <td>0.9845</td>\n",
       "      <td>0.38</td>\n",
       "      <td>9.608785e+04</td>\n",
       "      <td>1.024344e+05</td>\n",
       "    </tr>\n",
       "    <tr>\n",
       "      <th>20</th>\n",
       "      <td>0.9850</td>\n",
       "      <td>0.40</td>\n",
       "      <td>9.805559e+04</td>\n",
       "      <td>1.045322e+05</td>\n",
       "    </tr>\n",
       "    <tr>\n",
       "      <th>21</th>\n",
       "      <td>0.9855</td>\n",
       "      <td>0.42</td>\n",
       "      <td>1.001324e+05</td>\n",
       "      <td>1.067462e+05</td>\n",
       "    </tr>\n",
       "    <tr>\n",
       "      <th>22</th>\n",
       "      <td>0.9860</td>\n",
       "      <td>0.44</td>\n",
       "      <td>1.023285e+05</td>\n",
       "      <td>1.090873e+05</td>\n",
       "    </tr>\n",
       "    <tr>\n",
       "      <th>23</th>\n",
       "      <td>0.9865</td>\n",
       "      <td>0.46</td>\n",
       "      <td>1.046553e+05</td>\n",
       "      <td>1.115678e+05</td>\n",
       "    </tr>\n",
       "    <tr>\n",
       "      <th>24</th>\n",
       "      <td>0.9870</td>\n",
       "      <td>0.48</td>\n",
       "      <td>1.071258e+05</td>\n",
       "      <td>1.142015e+05</td>\n",
       "    </tr>\n",
       "    <tr>\n",
       "      <th>25</th>\n",
       "      <td>0.9875</td>\n",
       "      <td>0.50</td>\n",
       "      <td>1.097551e+05</td>\n",
       "      <td>1.170045e+05</td>\n",
       "    </tr>\n",
       "    <tr>\n",
       "      <th>26</th>\n",
       "      <td>0.9880</td>\n",
       "      <td>0.52</td>\n",
       "      <td>1.125603e+05</td>\n",
       "      <td>1.199949e+05</td>\n",
       "    </tr>\n",
       "    <tr>\n",
       "      <th>27</th>\n",
       "      <td>0.9885</td>\n",
       "      <td>0.54</td>\n",
       "      <td>1.155613e+05</td>\n",
       "      <td>1.231941e+05</td>\n",
       "    </tr>\n",
       "    <tr>\n",
       "      <th>28</th>\n",
       "      <td>0.9890</td>\n",
       "      <td>0.56</td>\n",
       "      <td>1.187811e+05</td>\n",
       "      <td>1.266266e+05</td>\n",
       "    </tr>\n",
       "    <tr>\n",
       "      <th>29</th>\n",
       "      <td>0.9895</td>\n",
       "      <td>0.58</td>\n",
       "      <td>1.222469e+05</td>\n",
       "      <td>1.303213e+05</td>\n",
       "    </tr>\n",
       "    <tr>\n",
       "      <th>30</th>\n",
       "      <td>0.9900</td>\n",
       "      <td>0.60</td>\n",
       "      <td>1.259905e+05</td>\n",
       "      <td>1.343122e+05</td>\n",
       "    </tr>\n",
       "    <tr>\n",
       "      <th>31</th>\n",
       "      <td>0.9905</td>\n",
       "      <td>0.62</td>\n",
       "      <td>1.300498e+05</td>\n",
       "      <td>1.386396e+05</td>\n",
       "    </tr>\n",
       "    <tr>\n",
       "      <th>32</th>\n",
       "      <td>0.9910</td>\n",
       "      <td>0.64</td>\n",
       "      <td>1.344704e+05</td>\n",
       "      <td>1.433521e+05</td>\n",
       "    </tr>\n",
       "    <tr>\n",
       "      <th>33</th>\n",
       "      <td>0.9915</td>\n",
       "      <td>0.66</td>\n",
       "      <td>1.393071e+05</td>\n",
       "      <td>1.485084e+05</td>\n",
       "    </tr>\n",
       "    <tr>\n",
       "      <th>34</th>\n",
       "      <td>0.9920</td>\n",
       "      <td>0.68</td>\n",
       "      <td>1.446274e+05</td>\n",
       "      <td>1.541801e+05</td>\n",
       "    </tr>\n",
       "    <tr>\n",
       "      <th>35</th>\n",
       "      <td>0.9925</td>\n",
       "      <td>0.70</td>\n",
       "      <td>1.505147e+05</td>\n",
       "      <td>1.604562e+05</td>\n",
       "    </tr>\n",
       "    <tr>\n",
       "      <th>36</th>\n",
       "      <td>0.9930</td>\n",
       "      <td>0.72</td>\n",
       "      <td>1.570736e+05</td>\n",
       "      <td>1.674483e+05</td>\n",
       "    </tr>\n",
       "    <tr>\n",
       "      <th>37</th>\n",
       "      <td>0.9935</td>\n",
       "      <td>0.74</td>\n",
       "      <td>1.644375e+05</td>\n",
       "      <td>1.752986e+05</td>\n",
       "    </tr>\n",
       "    <tr>\n",
       "      <th>38</th>\n",
       "      <td>0.9940</td>\n",
       "      <td>0.76</td>\n",
       "      <td>1.727794e+05</td>\n",
       "      <td>1.841915e+05</td>\n",
       "    </tr>\n",
       "    <tr>\n",
       "      <th>39</th>\n",
       "      <td>0.9945</td>\n",
       "      <td>0.78</td>\n",
       "      <td>1.823283e+05</td>\n",
       "      <td>1.943711e+05</td>\n",
       "    </tr>\n",
       "    <tr>\n",
       "      <th>40</th>\n",
       "      <td>0.9950</td>\n",
       "      <td>0.80</td>\n",
       "      <td>1.933946e+05</td>\n",
       "      <td>2.061683e+05</td>\n",
       "    </tr>\n",
       "    <tr>\n",
       "      <th>41</th>\n",
       "      <td>0.9955</td>\n",
       "      <td>0.82</td>\n",
       "      <td>2.064112e+05</td>\n",
       "      <td>2.200446e+05</td>\n",
       "    </tr>\n",
       "    <tr>\n",
       "      <th>42</th>\n",
       "      <td>0.9960</td>\n",
       "      <td>0.84</td>\n",
       "      <td>2.220022e+05</td>\n",
       "      <td>2.366655e+05</td>\n",
       "    </tr>\n",
       "    <tr>\n",
       "      <th>43</th>\n",
       "      <td>0.9965</td>\n",
       "      <td>0.86</td>\n",
       "      <td>2.411070e+05</td>\n",
       "      <td>2.570321e+05</td>\n",
       "    </tr>\n",
       "    <tr>\n",
       "      <th>44</th>\n",
       "      <td>0.9970</td>\n",
       "      <td>0.88</td>\n",
       "      <td>2.652153e+05</td>\n",
       "      <td>2.827328e+05</td>\n",
       "    </tr>\n",
       "    <tr>\n",
       "      <th>45</th>\n",
       "      <td>0.9975</td>\n",
       "      <td>0.90</td>\n",
       "      <td>2.968595e+05</td>\n",
       "      <td>3.164671e+05</td>\n",
       "    </tr>\n",
       "    <tr>\n",
       "      <th>46</th>\n",
       "      <td>0.9980</td>\n",
       "      <td>0.92</td>\n",
       "      <td>3.407721e+05</td>\n",
       "      <td>3.632800e+05</td>\n",
       "    </tr>\n",
       "    <tr>\n",
       "      <th>47</th>\n",
       "      <td>0.9985</td>\n",
       "      <td>0.94</td>\n",
       "      <td>4.071038e+05</td>\n",
       "      <td>4.339930e+05</td>\n",
       "    </tr>\n",
       "    <tr>\n",
       "      <th>48</th>\n",
       "      <td>0.9990</td>\n",
       "      <td>0.96</td>\n",
       "      <td>5.230830e+05</td>\n",
       "      <td>5.576326e+05</td>\n",
       "    </tr>\n",
       "    <tr>\n",
       "      <th>49</th>\n",
       "      <td>0.9995</td>\n",
       "      <td>0.98</td>\n",
       "      <td>8.029291e+05</td>\n",
       "      <td>8.559626e+05</td>\n",
       "    </tr>\n",
       "    <tr>\n",
       "      <th>50</th>\n",
       "      <td>1.0000</td>\n",
       "      <td>1.00</td>\n",
       "      <td>7.299126e+12</td>\n",
       "      <td>7.781233e+12</td>\n",
       "    </tr>\n",
       "  </tbody>\n",
       "</table>\n",
       "</div>"
      ],
      "text/plain": [
       "    total_percentile  pareto_percentile  value_eur_2022  \\\n",
       "0             0.9750               0.00    7.150200e+04   \n",
       "1             0.9755               0.02    7.240066e+04   \n",
       "2             0.9760               0.04    7.332950e+04   \n",
       "3             0.9765               0.06    7.429018e+04   \n",
       "4             0.9770               0.08    7.528453e+04   \n",
       "5             0.9775               0.10    7.631448e+04   \n",
       "6             0.9780               0.12    7.738216e+04   \n",
       "7             0.9785               0.14    7.848983e+04   \n",
       "8             0.9790               0.16    7.963999e+04   \n",
       "9             0.9795               0.18    8.083534e+04   \n",
       "10            0.9800               0.20    8.207883e+04   \n",
       "11            0.9805               0.22    8.337366e+04   \n",
       "12            0.9810               0.24    8.472335e+04   \n",
       "13            0.9815               0.26    8.613178e+04   \n",
       "14            0.9820               0.28    8.760319e+04   \n",
       "15            0.9825               0.30    8.914227e+04   \n",
       "16            0.9830               0.32    9.075419e+04   \n",
       "17            0.9835               0.34    9.244471e+04   \n",
       "18            0.9840               0.36    9.422022e+04   \n",
       "19            0.9845               0.38    9.608785e+04   \n",
       "20            0.9850               0.40    9.805559e+04   \n",
       "21            0.9855               0.42    1.001324e+05   \n",
       "22            0.9860               0.44    1.023285e+05   \n",
       "23            0.9865               0.46    1.046553e+05   \n",
       "24            0.9870               0.48    1.071258e+05   \n",
       "25            0.9875               0.50    1.097551e+05   \n",
       "26            0.9880               0.52    1.125603e+05   \n",
       "27            0.9885               0.54    1.155613e+05   \n",
       "28            0.9890               0.56    1.187811e+05   \n",
       "29            0.9895               0.58    1.222469e+05   \n",
       "30            0.9900               0.60    1.259905e+05   \n",
       "31            0.9905               0.62    1.300498e+05   \n",
       "32            0.9910               0.64    1.344704e+05   \n",
       "33            0.9915               0.66    1.393071e+05   \n",
       "34            0.9920               0.68    1.446274e+05   \n",
       "35            0.9925               0.70    1.505147e+05   \n",
       "36            0.9930               0.72    1.570736e+05   \n",
       "37            0.9935               0.74    1.644375e+05   \n",
       "38            0.9940               0.76    1.727794e+05   \n",
       "39            0.9945               0.78    1.823283e+05   \n",
       "40            0.9950               0.80    1.933946e+05   \n",
       "41            0.9955               0.82    2.064112e+05   \n",
       "42            0.9960               0.84    2.220022e+05   \n",
       "43            0.9965               0.86    2.411070e+05   \n",
       "44            0.9970               0.88    2.652153e+05   \n",
       "45            0.9975               0.90    2.968595e+05   \n",
       "46            0.9980               0.92    3.407721e+05   \n",
       "47            0.9985               0.94    4.071038e+05   \n",
       "48            0.9990               0.96    5.230830e+05   \n",
       "49            0.9995               0.98    8.029291e+05   \n",
       "50            1.0000               1.00    7.299126e+12   \n",
       "\n",
       "    value_eur_inflation_adjusted_to_2024  \n",
       "0                           7.622471e+04  \n",
       "1                           7.718272e+04  \n",
       "2                           7.817291e+04  \n",
       "3                           7.919705e+04  \n",
       "4                           8.025707e+04  \n",
       "5                           8.135506e+04  \n",
       "6                           8.249325e+04  \n",
       "7                           8.367408e+04  \n",
       "8                           8.490022e+04  \n",
       "9                           8.617452e+04  \n",
       "10                          8.750013e+04  \n",
       "11                          8.888049e+04  \n",
       "12                          9.031933e+04  \n",
       "13                          9.182079e+04  \n",
       "14                          9.338938e+04  \n",
       "15                          9.503011e+04  \n",
       "16                          9.674850e+04  \n",
       "17                          9.855068e+04  \n",
       "18                          1.004435e+05  \n",
       "19                          1.024344e+05  \n",
       "20                          1.045322e+05  \n",
       "21                          1.067462e+05  \n",
       "22                          1.090873e+05  \n",
       "23                          1.115678e+05  \n",
       "24                          1.142015e+05  \n",
       "25                          1.170045e+05  \n",
       "26                          1.199949e+05  \n",
       "27                          1.231941e+05  \n",
       "28                          1.266266e+05  \n",
       "29                          1.303213e+05  \n",
       "30                          1.343122e+05  \n",
       "31                          1.386396e+05  \n",
       "32                          1.433521e+05  \n",
       "33                          1.485084e+05  \n",
       "34                          1.541801e+05  \n",
       "35                          1.604562e+05  \n",
       "36                          1.674483e+05  \n",
       "37                          1.752986e+05  \n",
       "38                          1.841915e+05  \n",
       "39                          1.943711e+05  \n",
       "40                          2.061683e+05  \n",
       "41                          2.200446e+05  \n",
       "42                          2.366655e+05  \n",
       "43                          2.570321e+05  \n",
       "44                          2.827328e+05  \n",
       "45                          3.164671e+05  \n",
       "46                          3.632800e+05  \n",
       "47                          4.339930e+05  \n",
       "48                          5.576326e+05  \n",
       "49                          8.559626e+05  \n",
       "50                          7.781233e+12  "
      ]
     },
     "execution_count": 23,
     "metadata": {},
     "output_type": "execute_result"
    }
   ],
   "source": [
    "df_pareto_cdf"
   ]
  },
  {
   "cell_type": "code",
   "execution_count": 24,
   "metadata": {},
   "outputs": [
    {
     "data": {
      "text/html": [
       "<div>\n",
       "<style scoped>\n",
       "    .dataframe tbody tr th:only-of-type {\n",
       "        vertical-align: middle;\n",
       "    }\n",
       "\n",
       "    .dataframe tbody tr th {\n",
       "        vertical-align: top;\n",
       "    }\n",
       "\n",
       "    .dataframe thead th {\n",
       "        text-align: right;\n",
       "    }\n",
       "</style>\n",
       "<table border=\"1\" class=\"dataframe\">\n",
       "  <thead>\n",
       "    <tr style=\"text-align: right;\">\n",
       "      <th></th>\n",
       "      <th>value_eur_2022</th>\n",
       "      <th>pareto_percentile</th>\n",
       "      <th>total_percentile</th>\n",
       "      <th>value_eur_inflation_adjusted_to_2024</th>\n",
       "    </tr>\n",
       "  </thead>\n",
       "  <tbody>\n",
       "    <tr>\n",
       "      <th>0</th>\n",
       "      <td>100000.0</td>\n",
       "      <td>0.418757</td>\n",
       "      <td>0.985469</td>\n",
       "      <td>106605.0</td>\n",
       "    </tr>\n",
       "    <tr>\n",
       "      <th>1</th>\n",
       "      <td>200000.0</td>\n",
       "      <td>0.810575</td>\n",
       "      <td>0.995264</td>\n",
       "      <td>213210.0</td>\n",
       "    </tr>\n",
       "    <tr>\n",
       "      <th>2</th>\n",
       "      <td>300000.0</td>\n",
       "      <td>0.901688</td>\n",
       "      <td>0.997542</td>\n",
       "      <td>319815.0</td>\n",
       "    </tr>\n",
       "    <tr>\n",
       "      <th>3</th>\n",
       "      <td>400000.0</td>\n",
       "      <td>0.938267</td>\n",
       "      <td>0.998457</td>\n",
       "      <td>426420.0</td>\n",
       "    </tr>\n",
       "    <tr>\n",
       "      <th>4</th>\n",
       "      <td>500000.0</td>\n",
       "      <td>0.956971</td>\n",
       "      <td>0.998924</td>\n",
       "      <td>533025.0</td>\n",
       "    </tr>\n",
       "    <tr>\n",
       "      <th>5</th>\n",
       "      <td>600000.0</td>\n",
       "      <td>0.967960</td>\n",
       "      <td>0.999199</td>\n",
       "      <td>639630.0</td>\n",
       "    </tr>\n",
       "    <tr>\n",
       "      <th>6</th>\n",
       "      <td>700000.0</td>\n",
       "      <td>0.975031</td>\n",
       "      <td>0.999376</td>\n",
       "      <td>746235.0</td>\n",
       "    </tr>\n",
       "    <tr>\n",
       "      <th>7</th>\n",
       "      <td>800000.0</td>\n",
       "      <td>0.979881</td>\n",
       "      <td>0.999497</td>\n",
       "      <td>852840.0</td>\n",
       "    </tr>\n",
       "    <tr>\n",
       "      <th>8</th>\n",
       "      <td>900000.0</td>\n",
       "      <td>0.983371</td>\n",
       "      <td>0.999584</td>\n",
       "      <td>959445.0</td>\n",
       "    </tr>\n",
       "    <tr>\n",
       "      <th>9</th>\n",
       "      <td>1000000.0</td>\n",
       "      <td>0.985977</td>\n",
       "      <td>0.999649</td>\n",
       "      <td>1066050.0</td>\n",
       "    </tr>\n",
       "    <tr>\n",
       "      <th>10</th>\n",
       "      <td>2000000.0</td>\n",
       "      <td>0.995430</td>\n",
       "      <td>0.999886</td>\n",
       "      <td>2132100.0</td>\n",
       "    </tr>\n",
       "    <tr>\n",
       "      <th>11</th>\n",
       "      <td>3000000.0</td>\n",
       "      <td>0.997628</td>\n",
       "      <td>0.999941</td>\n",
       "      <td>3198150.0</td>\n",
       "    </tr>\n",
       "    <tr>\n",
       "      <th>12</th>\n",
       "      <td>4000000.0</td>\n",
       "      <td>0.998511</td>\n",
       "      <td>0.999963</td>\n",
       "      <td>4264200.0</td>\n",
       "    </tr>\n",
       "    <tr>\n",
       "      <th>13</th>\n",
       "      <td>5000000.0</td>\n",
       "      <td>0.998962</td>\n",
       "      <td>0.999974</td>\n",
       "      <td>5330250.0</td>\n",
       "    </tr>\n",
       "    <tr>\n",
       "      <th>14</th>\n",
       "      <td>6000000.0</td>\n",
       "      <td>0.999227</td>\n",
       "      <td>0.999981</td>\n",
       "      <td>6396300.0</td>\n",
       "    </tr>\n",
       "    <tr>\n",
       "      <th>15</th>\n",
       "      <td>7000000.0</td>\n",
       "      <td>0.999398</td>\n",
       "      <td>0.999985</td>\n",
       "      <td>7462350.0</td>\n",
       "    </tr>\n",
       "    <tr>\n",
       "      <th>16</th>\n",
       "      <td>8000000.0</td>\n",
       "      <td>0.999515</td>\n",
       "      <td>0.999988</td>\n",
       "      <td>8528400.0</td>\n",
       "    </tr>\n",
       "    <tr>\n",
       "      <th>17</th>\n",
       "      <td>9000000.0</td>\n",
       "      <td>0.999599</td>\n",
       "      <td>0.999990</td>\n",
       "      <td>9594450.0</td>\n",
       "    </tr>\n",
       "  </tbody>\n",
       "</table>\n",
       "</div>"
      ],
      "text/plain": [
       "    value_eur_2022  pareto_percentile  total_percentile  \\\n",
       "0         100000.0           0.418757          0.985469   \n",
       "1         200000.0           0.810575          0.995264   \n",
       "2         300000.0           0.901688          0.997542   \n",
       "3         400000.0           0.938267          0.998457   \n",
       "4         500000.0           0.956971          0.998924   \n",
       "5         600000.0           0.967960          0.999199   \n",
       "6         700000.0           0.975031          0.999376   \n",
       "7         800000.0           0.979881          0.999497   \n",
       "8         900000.0           0.983371          0.999584   \n",
       "9        1000000.0           0.985977          0.999649   \n",
       "10       2000000.0           0.995430          0.999886   \n",
       "11       3000000.0           0.997628          0.999941   \n",
       "12       4000000.0           0.998511          0.999963   \n",
       "13       5000000.0           0.998962          0.999974   \n",
       "14       6000000.0           0.999227          0.999981   \n",
       "15       7000000.0           0.999398          0.999985   \n",
       "16       8000000.0           0.999515          0.999988   \n",
       "17       9000000.0           0.999599          0.999990   \n",
       "\n",
       "    value_eur_inflation_adjusted_to_2024  \n",
       "0                               106605.0  \n",
       "1                               213210.0  \n",
       "2                               319815.0  \n",
       "3                               426420.0  \n",
       "4                               533025.0  \n",
       "5                               639630.0  \n",
       "6                               746235.0  \n",
       "7                               852840.0  \n",
       "8                               959445.0  \n",
       "9                              1066050.0  \n",
       "10                             2132100.0  \n",
       "11                             3198150.0  \n",
       "12                             4264200.0  \n",
       "13                             5330250.0  \n",
       "14                             6396300.0  \n",
       "15                             7462350.0  \n",
       "16                             8528400.0  \n",
       "17                             9594450.0  "
      ]
     },
     "execution_count": 24,
     "metadata": {},
     "output_type": "execute_result"
    }
   ],
   "source": [
    "_tmp = pd.DataFrame()\n",
    "_tmp[\"value_eur_2022\"] = np.append(np.arange(1e5,1e6,1e5),np.arange(1e6,1e7,1e6))\n",
    "_tmp[\"pareto_percentile\"] = stats.pareto.cdf(_tmp[\"value_eur_2022\"], b=alpha2, scale=xm)\n",
    "inverse_mapper = lambda q : q*pareto_range + min_q\n",
    "_tmp[\"total_percentile\"] = inverse_mapper(_tmp[\"pareto_percentile\"])\n",
    "_tmp[\"value_eur_inflation_adjusted_to_2024\"] = _tmp[\"value_eur_2022\"]*1.035*1.03\n",
    "_tmp"
   ]
  },
  {
   "cell_type": "markdown",
   "metadata": {},
   "source": [
    "### Exporting CSV to Kaggle \n",
    "Data will be cleaned and translated to english where convinient before uploading to Kaggle: https://www.kaggle.com/jtljtl/spain-salary-distribution"
   ]
  },
  {
   "cell_type": "code",
   "execution_count": 25,
   "metadata": {},
   "outputs": [
    {
     "data": {
      "text/plain": [
       "{'pmf': array([0.2501, 0.101 , 0.2102, 0.1736, 0.2127, 0.0453, 0.0063]),\n",
       " 'gross_income_euros': [6000, 12000, 21000, 30000, 60000, 150000, 601000],\n",
       " 'cdf': array([0.2501, 0.3511, 0.5613, 0.7349, 0.9476, 0.9929, 0.9992])}"
      ]
     },
     "execution_count": 25,
     "metadata": {},
     "output_type": "execute_result"
    }
   ],
   "source": [
    "data_aeat"
   ]
  },
  {
   "cell_type": "markdown",
   "metadata": {},
   "source": [
    "I will add to INE data the upper percentiles provided by AEAT:"
   ]
  },
  {
   "cell_type": "code",
   "execution_count": 26,
   "metadata": {},
   "outputs": [],
   "source": [
    "_data_aeat = [\n",
    "    [\"both\",\"nationwide\",\"95rd_percentile\",2022,60_000.0,0.9476],\n",
    "    [\"both\",\"nationwide\",\"99th_percentile\",2022,150_000.0,0.9929],\n",
    "    [\"both\",\"nationwide\",\"99.9th_percentile\",2022,601_000.0,0.9992]\n",
    "]\n",
    "\n",
    "df = df.append(pd.DataFrame(_data_aeat, columns=df.columns)).reset_index(drop=True)"
   ]
  },
  {
   "cell_type": "code",
   "execution_count": 27,
   "metadata": {},
   "outputs": [
    {
     "data": {
      "text/html": [
       "<div>\n",
       "<style scoped>\n",
       "    .dataframe tbody tr th:only-of-type {\n",
       "        vertical-align: middle;\n",
       "    }\n",
       "\n",
       "    .dataframe tbody tr th {\n",
       "        vertical-align: top;\n",
       "    }\n",
       "\n",
       "    .dataframe thead th {\n",
       "        text-align: right;\n",
       "    }\n",
       "</style>\n",
       "<table border=\"1\" class=\"dataframe\">\n",
       "  <thead>\n",
       "    <tr style=\"text-align: right;\">\n",
       "      <th></th>\n",
       "      <th>gender</th>\n",
       "      <th>state</th>\n",
       "      <th>statistic</th>\n",
       "      <th>year</th>\n",
       "      <th>gross_income_euros</th>\n",
       "      <th>percentile</th>\n",
       "    </tr>\n",
       "  </thead>\n",
       "  <tbody>\n",
       "    <tr>\n",
       "      <th>4858</th>\n",
       "      <td>male</td>\n",
       "      <td>Rioja, La</td>\n",
       "      <td>90th_percentile</td>\n",
       "      <td>2009</td>\n",
       "      <td>37994.40</td>\n",
       "      <td>0.9000</td>\n",
       "    </tr>\n",
       "    <tr>\n",
       "      <th>4859</th>\n",
       "      <td>male</td>\n",
       "      <td>Rioja, La</td>\n",
       "      <td>90th_percentile</td>\n",
       "      <td>2008</td>\n",
       "      <td>37080.55</td>\n",
       "      <td>0.9000</td>\n",
       "    </tr>\n",
       "    <tr>\n",
       "      <th>4860</th>\n",
       "      <td>both</td>\n",
       "      <td>nationwide</td>\n",
       "      <td>95rd_percentile</td>\n",
       "      <td>2022</td>\n",
       "      <td>60000.00</td>\n",
       "      <td>0.9476</td>\n",
       "    </tr>\n",
       "    <tr>\n",
       "      <th>4861</th>\n",
       "      <td>both</td>\n",
       "      <td>nationwide</td>\n",
       "      <td>99th_percentile</td>\n",
       "      <td>2022</td>\n",
       "      <td>150000.00</td>\n",
       "      <td>0.9929</td>\n",
       "    </tr>\n",
       "    <tr>\n",
       "      <th>4862</th>\n",
       "      <td>both</td>\n",
       "      <td>nationwide</td>\n",
       "      <td>99.9th_percentile</td>\n",
       "      <td>2022</td>\n",
       "      <td>601000.00</td>\n",
       "      <td>0.9992</td>\n",
       "    </tr>\n",
       "  </tbody>\n",
       "</table>\n",
       "</div>"
      ],
      "text/plain": [
       "     gender       state          statistic  year  gross_income_euros  \\\n",
       "4858   male   Rioja, La    90th_percentile  2009            37994.40   \n",
       "4859   male   Rioja, La    90th_percentile  2008            37080.55   \n",
       "4860   both  nationwide    95rd_percentile  2022            60000.00   \n",
       "4861   both  nationwide    99th_percentile  2022           150000.00   \n",
       "4862   both  nationwide  99.9th_percentile  2022           601000.00   \n",
       "\n",
       "      percentile  \n",
       "4858      0.9000  \n",
       "4859      0.9000  \n",
       "4860      0.9476  \n",
       "4861      0.9929  \n",
       "4862      0.9992  "
      ]
     },
     "execution_count": 27,
     "metadata": {},
     "output_type": "execute_result"
    }
   ],
   "source": [
    "df.tail(5)"
   ]
  },
  {
   "cell_type": "code",
   "execution_count": 28,
   "metadata": {
    "ExecuteTime": {
     "end_time": "2020-08-19T07:02:56.756691Z",
     "start_time": "2020-08-19T07:02:56.741679Z"
    }
   },
   "outputs": [],
   "source": [
    "# This is the CSV that I uploaded to Kaggle\n",
    "df[['year','state','gender','statistic','gross_income_euros']]\\\n",
    "    .to_csv('spain_salary_distribution_english.csv',encoding='utf-8',index=False)"
   ]
  }
 ],
 "metadata": {
  "kernelspec": {
   "display_name": "Python 3 (ipykernel)",
   "language": "python",
   "name": "python3"
  },
  "language_info": {
   "codemirror_mode": {
    "name": "ipython",
    "version": 3
   },
   "file_extension": ".py",
   "mimetype": "text/x-python",
   "name": "python",
   "nbconvert_exporter": "python",
   "pygments_lexer": "ipython3",
   "version": "3.9.7"
  }
 },
 "nbformat": 4,
 "nbformat_minor": 2
}
